{
 "cells": [
  {
   "cell_type": "code",
   "execution_count": 1,
   "metadata": {},
   "outputs": [],
   "source": [
    "    # import libraries\n",
    "import glob                               #can be used to find the target files\n",
    "import matplotlib.pyplot as plt\n",
    "import nibabel as nib                   # to read and write neuron imaging data \n",
    "import numpy as np                        # for matrix calculating\n",
    "import subprocess\n",
    "from PIL import Image \n",
    "import os,shutil\n",
    "from scipy import signal\n",
    "from skimage import color, img_as_ubyte, io\n"
   ]
  },
  {
   "cell_type": "code",
   "execution_count": 2,
   "metadata": {},
   "outputs": [],
   "source": [
    "file_script = 'results_script1'\n",
    "if not os.path.exists(file_script):\n",
    "    os.mkdir(file_script)"
   ]
  },
  {
   "cell_type": "code",
   "execution_count": 3,
   "metadata": {},
   "outputs": [],
   "source": [
    "shutil.copy('/home/zhiwei/Desktop/semester-projects/original_file/3000/BVECTOR.scheme','results_script1')\n",
    "shutil.copy('/home/zhiwei/Desktop/semester-projects/original_file/3000/fsltensor_FA.nii.gz','results_script1')\n",
    "shutil.copy('/home/zhiwei/Desktop/semester-projects/original_file/3000/fsltensor_V3.nii.gz','results_script1')"
   ]
  },
  {
   "cell_type": "markdown",
   "metadata": {},
   "source": [
    "CMD = 'shutil.copy(“fsltensor_V1.nii.gz”,”results_script1”)'\n",
    "subprocess.call(CMD,shell=True)\n"
   ]
  },
  {
   "cell_type": "code",
   "execution_count": 4,
   "metadata": {},
   "outputs": [
    {
     "name": "stdout",
     "output_type": "stream",
     "text": [
      "/home/zhiwei/Desktop/semester-projects/results_script1\n"
     ]
    }
   ],
   "source": [
    "cd results_script1"
   ]
  },
  {
   "cell_type": "markdown",
   "metadata": {},
   "source": [
    "## generate original tractography and get fib_original, hdr_original"
   ]
  },
  {
   "cell_type": "code",
   "execution_count": 5,
   "metadata": {},
   "outputs": [],
   "source": [
    "data = nib.load('fsltensor_FA.nii.gz')\n",
    "d=np.ones(data.get_data().shape)\n",
    "img=nib.Nifti1Image(d, data.affine)\n",
    "nib.save(img,'mask.nii')"
   ]
  },
  {
   "cell_type": "code",
   "execution_count": 6,
   "metadata": {},
   "outputs": [
    {
     "data": {
      "text/plain": [
       "0"
      ]
     },
     "execution_count": 6,
     "metadata": {},
     "output_type": "execute_result"
    }
   ],
   "source": [
    "CMD='tckgen fsltensor_V3.nii.gz origin0.015.tck -algorithm FACT -seed_image mask.nii -mask mask.nii -select 3000 -step 0.015'\n",
    "subprocess.call(CMD, shell = True)"
   ]
  },
  {
   "cell_type": "code",
   "execution_count": 7,
   "metadata": {},
   "outputs": [
    {
     "data": {
      "text/plain": [
       "0"
      ]
     },
     "execution_count": 7,
     "metadata": {},
     "output_type": "execute_result"
    }
   ],
   "source": [
    "CMD = 'TractConverter.py -i origin0.015.tck -o origin0.015.trk -a fsltensor_FA.nii.gz'\n",
    "subprocess.call(CMD,shell=True)"
   ]
  },
  {
   "cell_type": "code",
   "execution_count": 8,
   "metadata": {},
   "outputs": [],
   "source": [
    "fib_original,hdr_original=nib.trackvis.read('/home/zhiwei/Desktop/semester-projects/results_script1/origin0.015.trk')"
   ]
  },
  {
   "cell_type": "markdown",
   "metadata": {},
   "source": [
    "## generate synthetic CLARITY data"
   ]
  },
  {
   "cell_type": "code",
   "execution_count": 9,
   "metadata": {},
   "outputs": [
    {
     "data": {
      "text/plain": [
       "0"
      ]
     },
     "execution_count": 9,
     "metadata": {},
     "output_type": "execute_result"
    }
   ],
   "source": [
    "CMD='tckmap origin0.015.tck syn_CLARITY.nii.gz -vox 0.015'\n",
    "subprocess.call(CMD, shell = True)"
   ]
  },
  {
   "cell_type": "markdown",
   "metadata": {},
   "source": [
    "\n",
    "## calculate structure tensor"
   ]
  },
  {
   "cell_type": "code",
   "execution_count": 10,
   "metadata": {},
   "outputs": [],
   "source": [
    "def doggen(sigma=None, X=None, Y=None, Z=None):\n",
    "    halfsize = np.ceil(3 * np.max(sigma))       #3*the maximum number of sequence sigma, ceil: shangxian\n",
    "    x = np.arange(-halfsize,halfsize+1)         # sequence from -halfsize to halfsize+1\n",
    "\n",
    "    if len(sigma) == 1:\n",
    "        if X is None:\n",
    "            X = x\n",
    "        k = (-1)*X * np.exp( (-1)*np.power(X,2)/(2 * np.power(sigma[0],2)) )\n",
    "    if len(sigma) == 2:\n",
    "        if X is None or Y is None:\n",
    "            [X,Y] =np.meshgrid(x,x)\n",
    "        k = (-1)*X * np.exp( (-1)*np.power(X,2)/(2 * np.power(sigma[0],2)) ) * np.exp( (-1)*np.power(Y,2)/(2 * np.power(sigma[1],2)) )\n",
    "    if len(sigma) == 3:\n",
    "        if X is None or Y is None or Z is None:\n",
    "            [X,Y,Z] =np.meshgrid(x,x,x)\n",
    "        k = (-1)*X * np.exp( (-1)*np.power(X,2)/(2 * np.power(sigma[0],2)) ) * np.exp( (-1)*np.power(Y,2)/(2 * np.power(sigma[1],2)) ) * np.exp( (-1)*np.power(Z,2)/(2 * np.power(sigma[2],2)))\n",
    "    if len(sigma) > 3:\n",
    "        print ('Only support up to dimension 3')\n",
    "    \n",
    "    return k /np.sum(np.abs(k))\n",
    "\n",
    "def gradCompute(img, dogsigma):\n",
    "    dogkercc = doggen([dogsigma, dogsigma, dogsigma])\n",
    "    dogkerrr = np.transpose( dogkercc, (1, 0, 2) )\n",
    "    dogkerzz = np.transpose( dogkercc, (0, 2, 1) )\n",
    "\n",
    "    gcc = signal.convolve(img, dogkercc, mode = 'valid')\n",
    "    grr = signal.convolve(img, dogkerrr, mode = 'valid')\n",
    "    gzz = signal.convolve(img, dogkerzz, mode = 'valid')\n",
    "\n",
    "    # Gradient products\n",
    "    gp = type('', (), {})()\n",
    "    gp.gprrrr = grr * grr\n",
    "    gp.gprrcc = grr * gcc\n",
    "    gp.gprrzz = grr * gzz\n",
    "    gp.gpcccc = gcc * gcc\n",
    "    gp.gpcczz = gcc * gzz\n",
    "    gp.gpzzzz = gzz * gzz\n",
    "\n",
    "    # Gradient amplitude\n",
    "    ga = np.sqrt(gp.gprrrr + gp.gpcccc + gp.gpzzzz)\n",
    "\n",
    "    return ga, gp\n",
    "\n"
   ]
  },
  {
   "cell_type": "markdown",
   "metadata": {},
   "source": [
    "## the optimal patch_size to retrieve the exact size of CLARITY as the originally synthetic one!! do not change this anymore!!"
   ]
  },
  {
   "cell_type": "code",
   "execution_count": 11,
   "metadata": {},
   "outputs": [],
   "source": [
    "patch_size = 6.6"
   ]
  },
  {
   "cell_type": "code",
   "execution_count": 12,
   "metadata": {},
   "outputs": [
    {
     "name": "stderr",
     "output_type": "stream",
     "text": [
      "/home/zhiwei/.local/lib/python2.7/site-packages/scipy/signal/signaltools.py:491: FutureWarning: Using a non-tuple sequence for multidimensional indexing is deprecated; use `arr[tuple(seq)]` instead of `arr[seq]`. In the future this will be interpreted as an array index, `arr[np.array(seq)]`, which will result either in an error or a different result.\n",
      "  return x[reverse].conj()\n"
     ]
    },
    {
     "data": {
      "text/plain": [
       "0"
      ]
     },
     "execution_count": 12,
     "metadata": {},
     "output_type": "execute_result"
    }
   ],
   "source": [
    "\n",
    "img_stack = nib.load('syn_CLARITY.nii.gz')\n",
    "imgstack = img_stack.get_fdata()/255.0\n",
    "\n",
    "\n",
    "# select sigma\n",
    "dogsigma = [0.6]\n",
    "vox_size = [15, 15, 15] #um\n",
    "#define the voxel dimension to apply tensor\n",
    "voxel_dim = np.array([patch_size,patch_size,patch_size]) # x,y,z in voxel dimension\n",
    "volume_dim = (np.array(imgstack.shape)/voxel_dim).astype(np.int) # in voxel dimesion: removed voxel at the border\n",
    "\n",
    "fsl_tensor = np.zeros((volume_dim[0], volume_dim[1], volume_dim[2], 6))\n",
    "for x in range (0,volume_dim[0]):\n",
    "    for y in range (0,volume_dim[1]):\n",
    "        for z in range (0, volume_dim[2]):\n",
    "            [ga,gp] = gradCompute(imgstack[int(x*voxel_dim[0]):int((x+1)*voxel_dim[0]), int(y*voxel_dim[1]):int((y+1)*voxel_dim[1]), int(z*voxel_dim[2]):int((z+1)*voxel_dim[2])], dogsigma)\n",
    "\n",
    "            lowthreh = np.percentile(ga.reshape(-1), 20)\n",
    "            highthreh = np.percentile(ga.reshape(-1), 80)\n",
    "\n",
    "            mask = np.ones(ga.shape)\n",
    "            mask[ga  < lowthreh] = 0\n",
    "            mask[ga  > highthreh] = 0\n",
    "\n",
    "            gprrrr = np.sum(gp.gprrrr[mask==1])\n",
    "            gprrcc = np.sum(gp.gprrcc[mask==1])\n",
    "            gprrzz = np.sum(gp.gprrzz[mask==1])\n",
    "            gpcccc = np.sum(gp.gpcccc[mask==1])\n",
    "            gpcczz = np.sum(gp.gpcczz[mask==1])\n",
    "            gpzzzz = np.sum(gp.gpzzzz[mask==1])\n",
    "\n",
    "            fsl_tensor[x,y,z] = np.array([[gprrrr, gprrcc, gprrzz,gpcccc, gpcczz, gpzzzz]])\n",
    "affine = np.eye(4)\n",
    "affine[0,0]=vox_size[0]*voxel_dim[0]*0.001\n",
    "affine[1,1]=vox_size[1]*voxel_dim[1]*0.001\n",
    "affine[2,2]=vox_size[2]*voxel_dim[2]*0.001\n",
    "img_fsl_tensor = nib.Nifti1Image(fsl_tensor, affine)\n",
    "nib.save(img_fsl_tensor, 'fsltensor_ftrial.nii.gz')\n",
    "CMD='fsl5.0-fslmaths fsltensor_ftrial.nii.gz -tensor_decomp fsltensor_ftrial'\n",
    "subprocess.call(CMD, shell=True)"
   ]
  },
  {
   "cell_type": "markdown",
   "metadata": {},
   "source": [
    "## generate the mask for subsequent tractography generation"
   ]
  },
  {
   "cell_type": "code",
   "execution_count": 13,
   "metadata": {},
   "outputs": [],
   "source": [
    "data = nib.load('fsltensor_ftrial_FA.nii.gz')\n",
    "d=np.ones(data.get_data().shape)\n",
    "img=nib.Nifti1Image(d, data.affine)\n",
    "nib.save(img,'mask_syn.nii')"
   ]
  },
  {
   "cell_type": "markdown",
   "metadata": {},
   "source": [
    "##  generate the tractography and subsequent CLARITY based on the synthetic CLARITY images"
   ]
  },
  {
   "cell_type": "code",
   "execution_count": 14,
   "metadata": {},
   "outputs": [],
   "source": [
    "number = 100000"
   ]
  },
  {
   "cell_type": "code",
   "execution_count": 15,
   "metadata": {},
   "outputs": [
    {
     "data": {
      "text/plain": [
       "0"
      ]
     },
     "execution_count": 15,
     "metadata": {},
     "output_type": "execute_result"
    }
   ],
   "source": [
    "CMD='tckgen fsltensor_ftrial_V3.nii.gz before0.015.tck -algorithm FACT -seed_image mask_syn.nii -mask mask_syn.nii -select 100000 -step 0.015'\n",
    "subprocess.call(CMD, shell = True)"
   ]
  },
  {
   "cell_type": "code",
   "execution_count": 16,
   "metadata": {},
   "outputs": [
    {
     "data": {
      "text/plain": [
       "0"
      ]
     },
     "execution_count": 16,
     "metadata": {},
     "output_type": "execute_result"
    }
   ],
   "source": [
    "CMD = 'TractConverter.py -i before0.015.tck -o before0.015.trk -a fsltensor_ftrial_FA.nii.gz'\n",
    "subprocess.call(CMD,shell = True)"
   ]
  },
  {
   "cell_type": "code",
   "execution_count": 17,
   "metadata": {},
   "outputs": [],
   "source": [
    "fib_before,hdr_before=nib.trackvis.read('/home/zhiwei/Desktop/semester-projects/results_script1/before0.015.trk')"
   ]
  },
  {
   "cell_type": "code",
   "execution_count": 18,
   "metadata": {},
   "outputs": [
    {
     "data": {
      "text/plain": [
       "100000"
      ]
     },
     "execution_count": 18,
     "metadata": {},
     "output_type": "execute_result"
    }
   ],
   "source": [
    "len(fib_before)"
   ]
  },
  {
   "cell_type": "code",
   "execution_count": 19,
   "metadata": {},
   "outputs": [],
   "source": [
    "for items in range(len(fib_original)):\n",
    "    fib_before.append(fib_original[items])\n",
    "nib.trackvis.write('fibers_before_all.trk',fib_before,hdr_before)"
   ]
  },
  {
   "cell_type": "code",
   "execution_count": 20,
   "metadata": {},
   "outputs": [
    {
     "data": {
      "text/plain": [
       "0"
      ]
     },
     "execution_count": 20,
     "metadata": {},
     "output_type": "execute_result"
    }
   ],
   "source": [
    "CMD = 'TractConverter.py -i fibers_before_all.trk -o fibers_before_all.tck -a fsltensor_ftrial_FA.nii.gz'\n",
    "subprocess.call(CMD,shell = True)"
   ]
  },
  {
   "cell_type": "code",
   "execution_count": 21,
   "metadata": {},
   "outputs": [
    {
     "data": {
      "text/plain": [
       "0"
      ]
     },
     "execution_count": 21,
     "metadata": {},
     "output_type": "execute_result"
    }
   ],
   "source": [
    "CMD='tckmap fibers_before_all.tck syn_CLARITY_before.nii.gz -vox 0.015'\n",
    "subprocess.call(CMD, shell = True)"
   ]
  },
  {
   "cell_type": "markdown",
   "metadata": {},
   "source": [
    "## function for comparison of two tractography on a voxel base"
   ]
  },
  {
   "cell_type": "code",
   "execution_count": 22,
   "metadata": {},
   "outputs": [],
   "source": [
    "def compClarity(volume1,volume2):\n",
    "    error = 0.0\n",
    "    for x in range(volume1.shape[0]):\n",
    "        for y in range(volume1.shape[1]):\n",
    "            for z in range(volume1.shape[2]):\n",
    "                error = error + np.abs(volume1[x,y,z]-volume2[x,y,z])\n",
    "    return error"
   ]
  },
  {
   "cell_type": "markdown",
   "metadata": {},
   "source": [
    "## apply COMMIT to the generated tractography"
   ]
  },
  {
   "cell_type": "code",
   "execution_count": 23,
   "metadata": {},
   "outputs": [],
   "source": [
    "path_commit = '/home/zhiwei/Desktop/semester-projects/results_script1/COMMIT'\n",
    "path = '/home/zhiwei/Desktop/semester-projects/results_script1'"
   ]
  },
  {
   "cell_type": "code",
   "execution_count": 24,
   "metadata": {},
   "outputs": [],
   "source": [
    "trk_file_before = '/home/zhiwei/Desktop/semester-projects/results_script1/fibers_before_all.trk'"
   ]
  },
  {
   "cell_type": "code",
   "execution_count": 25,
   "metadata": {},
   "outputs": [
    {
     "name": "stdout",
     "output_type": "stream",
     "text": [
      "\n",
      "-> Creating the dictionary from tractogram:\n",
      "\t* Segment position = COMPUTE INTERSECTIONS\n",
      "\t* Fiber shift X    = 0.000 (voxel-size units)\n",
      "\t* Fiber shift Y    = 0.000 (voxel-size units)\n",
      "\t* Fiber shift Z    = 0.000 (voxel-size units)\n",
      "\t* Points to skip   = 0\n",
      "\t* Min segment len  = 1.00e-03\n",
      "\t* Do not blur fibers\n",
      "\t* Loading data:\n",
      "\t\t* tractogram\n",
      "\t\t\t- 28 x 26 x 5\n",
      "\t\t\t- 0.0990 x 0.0990 x 0.0990\n",
      "\t\t\t- 103000 fibers\n",
      "\t\t* no mask specified to filter IC compartments\n",
      "\t\t* no dataset specified for EC compartments\n",
      "\t\t* output written to \"/home/zhiwei/Desktop/semester-projects/results_script1/COMMIT\"\n",
      "\t* Generate tractogram matching the dictionary: \n",
      "\t  [ 102751 fibers kept ]\n",
      "   [ 12.0 seconds ]\n"
     ]
    }
   ],
   "source": [
    "from commit import trk2dictionary\n",
    "trk2dictionary.run(filename_trk   = trk_file_before ,path_out= path_commit )\n",
    "import commit\n",
    "commit.core.setup()"
   ]
  },
  {
   "cell_type": "code",
   "execution_count": 26,
   "metadata": {},
   "outputs": [],
   "source": [
    "mit=commit.Evaluation('.','results_script1')"
   ]
  },
  {
   "cell_type": "code",
   "execution_count": 27,
   "metadata": {},
   "outputs": [
    {
     "name": "stdout",
     "output_type": "stream",
     "text": [
      "\n",
      "-> Loading data:\n",
      "\t* DWI signal...\n",
      "\t\t- dim    = 191 x 178 x 39 x 1\n",
      "\t\t- pixdim = 0.015 x 0.015 x 0.015\n",
      "\t* Acquisition scheme...\n",
      "\t\t- 1 samples, 1 shells\n",
      "\t\t- 0 @ b=0 , 1 @ b=1000.0\n",
      "   [ 0.0 seconds ]\n",
      "\n",
      "-> Preprocessing:\n",
      "\t* There are no b0 volume(s) for normalization... [ min=0.00,  mean=0.26, max=30.00 ]\n",
      "   [ 0.0 seconds ]\n",
      "\n",
      "-> Simulating with \"Volume fractions\" model:\n",
      "   [ 0.0 seconds ]\n"
     ]
    }
   ],
   "source": [
    "mit.load_data('/home/zhiwei/Desktop/semester-projects/results_script1/syn_CLARITY.nii.gz','/home/zhiwei/Desktop/semester-projects/results_script1/BVECTOR.scheme')\n",
    "mit.set_model('VolumeFractions')\n",
    "hasISO=False\n",
    "mit.model.set(hasISO)\n",
    "mit.generate_kernels(regenerate=True)"
   ]
  },
  {
   "cell_type": "code",
   "execution_count": 28,
   "metadata": {},
   "outputs": [
    {
     "name": "stdout",
     "output_type": "stream",
     "text": [
      "\n",
      "-> Resampling LUT for subject \"results_script1\":\n",
      "\t* Keeping all b0 volume(s)... [ OK ]\n",
      "\t* Normalizing... [ OK ]\n",
      "   [ 0.1 seconds ]\n",
      "\n",
      "-> Loading the dictionary:\n",
      "\t* segments from the tracts... [ 102751 fibers and 4894292 segments ]\n",
      "\t* segments from the peaks...  [ 0 segments ]\n",
      "\t* isotropic contributions...  [ 3576 voxels ]\n",
      "\t* post-processing...          [ OK ]\n",
      "   [ 1.2 seconds ]\n",
      "\n",
      "-> Distributing workload to different threads:\n",
      "\t* number of threads : 1\n",
      "\t* A operator...  [ OK ]\n",
      "\t* A' operator... [ OK ]\n",
      "   [ 0.0 seconds ]\n"
     ]
    }
   ],
   "source": [
    "mit.load_kernels()\n",
    "mit.load_dictionary(path_commit)\n",
    "mit.set_threads(1)"
   ]
  },
  {
   "cell_type": "code",
   "execution_count": 29,
   "metadata": {},
   "outputs": [
    {
     "name": "stdout",
     "output_type": "stream",
     "text": [
      "\n",
      "-> Building linear operator A:\n",
      "   [ 3.2 seconds ]\n"
     ]
    }
   ],
   "source": [
    "mit.build_operator()"
   ]
  },
  {
   "cell_type": "code",
   "execution_count": 30,
   "metadata": {},
   "outputs": [
    {
     "name": "stdout",
     "output_type": "stream",
     "text": [
      "\n",
      "-> Fit model\n",
      "\n",
      "      |     ||Ax-y||     |  Cost function    Abs error      Rel error    |     Abs x          Rel x\n",
      "------|------------------|-----------------------------------------------|------------------------------\n",
      "   1  |   2.6691843e+03  |  3.5622725e+06  3.9229763e+07  1.1012567e+01  |  2.2034434e+02  1.4411608e+00\n",
      "   2  |   1.7444578e+03  |  1.5215665e+06  2.0407060e+06  1.3411876e+00  |  4.5873332e+01  3.9504525e-01\n",
      "   3  |   1.1488816e+03  |  6.5996448e+05  8.6160198e+05  1.3055278e+00  |  3.3530838e+01  3.7358886e-01\n",
      "   4  |   7.7451728e+02  |  2.9993851e+05  3.6002597e+05  1.2003326e+00  |  2.4267753e+01  3.4128717e-01\n",
      "   5  |   5.3683831e+02  |  1.4409769e+05  1.5584082e+05  1.0814943e+00  |  1.7713709e+01  3.0619370e-01\n",
      "   6  |   3.8543309e+02  |  7.4279332e+04  6.9818354e+04  9.3994321e-01  |  1.3063455e+01  2.7059048e-01\n",
      "   7  |   2.8747465e+02  |  4.1320837e+04  3.2958496e+04  7.9762411e-01  |  9.7789864e+00  2.3749758e-01\n",
      "   8  |   2.2153986e+02  |  2.4539955e+04  1.6780882e+04  6.8381876e-01  |  7.5319114e+00  2.1080401e-01\n",
      "   9  |   1.7504584e+02  |  1.5320522e+04  9.2194326e+03  6.0177012e-01  |  5.9598429e+00  1.8955106e-01\n",
      "  10  |   1.4139026e+02  |  9.9956025e+03  5.3249200e+03  5.3272626e-01  |  4.8094195e+00  1.7180231e-01\n",
      "  11  |   1.1623578e+02  |  6.7553786e+03  3.2402239e+03  4.7965097e-01  |  3.9686501e+00  1.5765762e-01\n",
      "  12  |   9.7187481e+01  |  4.7227032e+03  2.0326754e+03  4.3040508e-01  |  3.3046430e+00  1.4473131e-01\n",
      "  13  |   8.2597406e+01  |  3.4111657e+03  1.3115375e+03  3.8448365e-01  |  2.7802437e+00  1.3324401e-01\n",
      "  14  |   7.1262721e+01  |  2.5391877e+03  8.7197803e+02  3.4340826e-01  |  2.3646069e+00  1.2322629e-01\n",
      "  15  |   6.2269103e+01  |  1.9387206e+03  6.0046711e+02  3.0972339e-01  |  2.0364887e+00  1.1477900e-01\n",
      "  16  |   5.5029155e+01  |  1.5141039e+03  4.2461664e+02  2.8044088e-01  |  1.7720428e+00  1.0751560e-01\n",
      "  17  |   4.9128472e+01  |  1.2068034e+03  3.0730055e+02  2.5464011e-01  |  1.5542070e+00  1.0110533e-01\n",
      "  18  |   4.4232588e+01  |  9.7826093e+02  2.2854246e+02  2.3362117e-01  |  1.3754752e+00  9.5601543e-02\n",
      "  19  |   4.0120631e+01  |  8.0483253e+02  1.7342840e+02  2.1548384e-01  |  1.2294302e+00  9.1013139e-02\n",
      "  20  |   3.6642697e+01  |  6.7134361e+02  1.3348892e+02  1.9883844e-01  |  1.1069824e+00  8.7034971e-02\n",
      "  21  |   3.3679016e+01  |  5.6713806e+02  1.0420555e+02  1.8373931e-01  |  1.0041123e+00  8.3625862e-02\n",
      "  22  |   3.1141246e+01  |  4.8488861e+02  8.2249443e+01  1.6962544e-01  |  9.1464989e-01  8.0488018e-02\n",
      "  23  |   2.8977675e+01  |  4.1985282e+02  6.5035792e+01  1.5490141e-01  |  8.3433459e-01  7.7393927e-02\n",
      "  24  |   2.7130561e+01  |  3.6803367e+02  5.1819149e+01  1.4080002e-01  |  7.6175642e-01  7.4320703e-02\n",
      "  25  |   2.5548033e+01  |  3.2635099e+02  4.1682680e+01  1.2772346e-01  |  6.9861056e-01  7.1542337e-02\n",
      "  26  |   2.4180831e+01  |  2.9235630e+02  3.3994691e+01  1.1627829e-01  |  6.4326113e-01  6.9010183e-02\n",
      "  27  |   2.2996771e+01  |  2.6442575e+02  2.7930558e+01  1.0562723e-01  |  5.9391324e-01  6.6628498e-02\n",
      "  28  |   2.1971510e+01  |  2.4137363e+02  2.3052116e+01  9.5503873e-02  |  5.4928790e-01  6.4329740e-02\n",
      "  29  |   2.1075137e+01  |  2.2208071e+02  1.9292923e+01  8.6873476e-02  |  5.1120585e-01  6.2400719e-02\n",
      "  30  |   2.0284749e+01  |  2.0573551e+02  1.6345193e+01  7.9447601e-02  |  4.7768527e-01  6.0680772e-02\n",
      "  31  |   1.9584114e+01  |  1.9176876e+02  1.3966751e+01  7.2831213e-02  |  4.4645327e-01  5.8932132e-02\n",
      "  32  |   1.8962863e+01  |  1.7979509e+02  1.1973675e+01  6.6596228e-02  |  4.1807392e-01  5.7262661e-02\n",
      "  33  |   1.8410349e+01  |  1.6947047e+02  1.0324619e+01  6.0922822e-02  |  3.9441042e-01  5.5975310e-02\n",
      "  34  |   1.7918219e+01  |  1.6053128e+02  8.9391838e+00  5.5684995e-02  |  3.7144435e-01  5.4545805e-02\n",
      "  35  |   1.7479521e+01  |  1.5276683e+02  7.7644580e+00  5.0825550e-02  |  3.5045140e-01  5.3175443e-02\n",
      "  36  |   1.7087248e+01  |  1.4598702e+02  6.7798023e+00  4.6441129e-02  |  3.3075425e-01  5.1785294e-02\n",
      "  37  |   1.6738762e+01  |  1.4009308e+02  5.8939447e+00  4.2071633e-02  |  3.1085974e-01  5.0153020e-02\n",
      "  38  |   1.6426688e+01  |  1.3491805e+02  5.1750335e+00  3.8356866e-02  |  2.9471535e-01  4.8932438e-02\n",
      "  39  |   1.6145405e+01  |  1.3033705e+02  4.5809954e+00  3.5147300e-02  |  2.8128392e-01  4.7999012e-02\n",
      "  40  |   1.5890900e+01  |  1.2626035e+02  4.0766973e+00  3.2288024e-02  |  2.6876668e-01  4.7074105e-02\n",
      "  41  |   1.5659640e+01  |  1.2261217e+02  3.6481842e+00  2.9753851e-02  |  2.5682724e-01  4.6109307e-02\n",
      "  42  |   1.5452420e+01  |  1.1938864e+02  3.2235262e+00  2.7000275e-02  |  2.4394322e-01  4.4833679e-02\n",
      "  43  |   1.5265704e+01  |  1.1652085e+02  2.8677905e+00  2.4611822e-02  |  2.3167287e-01  4.3530905e-02\n",
      "  44  |   1.5096856e+01  |  1.1395754e+02  2.5633150e+00  2.2493598e-02  |  2.2138377e-01  4.2474579e-02\n",
      "  45  |   1.4942886e+01  |  1.1164492e+02  2.3126218e+00  2.0714081e-02  |  2.1207893e-01  4.1495707e-02\n",
      "  46  |   1.4802233e+01  |  1.0955305e+02  2.0918636e+00  1.9094526e-02  |  2.0365472e-01  4.0587314e-02\n",
      "  47  |   1.4673951e+01  |  1.0766241e+02  1.8906389e+00  1.7560807e-02  |  1.9599697e-01  3.9738372e-02\n",
      "  48  |   1.4557463e+01  |  1.0595986e+02  1.7025538e+00  1.6067913e-02  |  1.8864823e-01  3.8865094e-02\n",
      "  49  |   1.4451518e+01  |  1.0442319e+02  1.5366717e+00  1.4715809e-02  |  1.8065229e-01  3.7773644e-02\n",
      "  50  |   1.4354238e+01  |  1.0302207e+02  1.4011151e+00  1.3600145e-02  |  1.7421659e-01  3.6930214e-02\n",
      "  51  |   1.4264613e+01  |  1.0173959e+02  1.2824842e+00  1.2605557e-02  |  1.6636356e-01  3.5712394e-02\n",
      "  52  |   1.4181644e+01  |  1.0055951e+02  1.1800797e+00  1.1735138e-02  |  1.6096886e-01  3.4955243e-02\n",
      "  53  |   1.4104974e+01  |  9.9475142e+01  1.0843666e+00  1.0900881e-02  |  1.5530446e-01  3.4081190e-02\n",
      "  54  |   1.4033931e+01  |  9.8475610e+01  9.9953203e-01  1.0150047e-02  |  1.5038680e-01  3.3317146e-02\n",
      "  55  |   1.3967997e+01  |  9.7552468e+01  9.2314158e-01  9.4630264e-03  |  1.4503950e-01  3.2408098e-02\n",
      "  56  |   1.3905897e+01  |  9.6686982e+01  8.6548608e-01  8.9514231e-03  |  1.4002613e-01  3.1527311e-02\n",
      "  57  |   1.3847560e+01  |  9.5877466e+01  8.0951652e-01  8.4432407e-03  |  1.3482330e-01  3.0561422e-02\n",
      "  58  |   1.3792718e+01  |  9.5119536e+01  7.5792957e-01  7.9681798e-03  |  1.3108666e-01  2.9890622e-02\n",
      "  59  |   1.3741339e+01  |  9.4412192e+01  7.0734365e-01  7.4920795e-03  |  1.2656834e-01  2.9008245e-02\n",
      "  60  |   1.3693724e+01  |  9.3759033e+01  6.5315981e-01  6.9663668e-03  |  1.2263750e-01  2.8229915e-02\n",
      "  61  |   1.3649936e+01  |  9.3160383e+01  5.9864997e-01  6.4260145e-03  |  1.1842813e-01  2.7360264e-02\n",
      "  62  |   1.3609071e+01  |  9.2603404e+01  5.5697839e-01  6.0146643e-03  |  1.1500237e-01  2.6647824e-02\n",
      "  63  |   1.3570735e+01  |  9.2082422e+01  5.2098235e-01  5.6577829e-03  |  1.1216532e-01  2.6051425e-02\n",
      "  64  |   1.3534418e+01  |  9.1590239e+01  4.9218296e-01  5.3737490e-03  |  1.0901953e-01  2.5365442e-02\n",
      "  65  |   1.3500060e+01  |  9.1125815e+01  4.6442406e-01  5.0965148e-03  |  1.0619118e-01  2.4737548e-02\n",
      "  66  |   1.3467380e+01  |  9.0685160e+01  4.4065508e-01  4.8591752e-03  |  1.0328637e-01  2.4078113e-02\n",
      "  67  |   1.3435934e+01  |  9.0262162e+01  4.2299748e-01  4.6863211e-03  |  1.0124368e-01  2.3607701e-02\n",
      "  68  |   1.3405747e+01  |  8.9857029e+01  4.0513372e-01  4.5086481e-03  |  9.9169060e-02  2.3119221e-02\n",
      "  69  |   1.3376995e+01  |  8.9471993e+01  3.8503609e-01  4.3034259e-03  |  9.7006440e-02  2.2600752e-02\n",
      "  70  |   1.3349714e+01  |  8.9107426e+01  3.6456629e-01  4.0913121e-03  |  9.4453725e-02  2.1983273e-02\n",
      "  71  |   1.3323505e+01  |  8.8757889e+01  3.4953739e-01  3.9380994e-03  |  9.2120061e-02  2.1410024e-02\n",
      "  72  |   1.3298167e+01  |  8.8420624e+01  3.3726518e-01  3.8143271e-03  |  9.0628619e-02  2.1026457e-02\n",
      "  73  |   1.3273778e+01  |  8.8096587e+01  3.2403696e-01  3.6782011e-03  |  8.9019613e-02  2.0610053e-02\n",
      "  74  |   1.3250326e+01  |  8.7785574e+01  3.1101294e-01  3.5428707e-03  |  8.7694466e-02  2.0254423e-02\n",
      "  75  |   1.3227585e+01  |  8.7484501e+01  3.0107316e-01  3.4414457e-03  |  8.6725588e-02  1.9976397e-02\n",
      "  76  |   1.3205526e+01  |  8.7192963e+01  2.9153756e-01  3.3435905e-03  |  8.5670852e-02  1.9674258e-02\n"
     ]
    },
    {
     "name": "stdout",
     "output_type": "stream",
     "text": [
      "  77  |   1.3184167e+01  |  8.6911134e+01  2.8182925e-01  3.2427289e-03  |  8.4600536e-02  1.9364770e-02\n",
      "  78  |   1.3163786e+01  |  8.6642631e+01  2.6850268e-01  3.0989673e-03  |  8.2991238e-02  1.8929092e-02\n",
      "  79  |   1.3144080e+01  |  8.6383413e+01  2.5921800e-01  3.0007845e-03  |  8.1773951e-02  1.8580754e-02\n",
      "  80  |   1.3124977e+01  |  8.6132504e+01  2.5090876e-01  2.9130555e-03  |  8.0820605e-02  1.8290240e-02\n",
      "  81  |   1.3106292e+01  |  8.5887449e+01  2.4505522e-01  2.8532134e-03  |  7.9914883e-02  1.8008491e-02\n",
      "  82  |   1.3088070e+01  |  8.5648782e+01  2.3866705e-01  2.7865784e-03  |  7.8906606e-02  1.7702020e-02\n",
      "  83  |   1.3070542e+01  |  8.5419537e+01  2.2924524e-01  2.6837565e-03  |  7.7421409e-02  1.7287902e-02\n",
      "  84  |   1.3053594e+01  |  8.5198159e+01  2.2137753e-01  2.5983839e-03  |  7.6368704e-02  1.6970203e-02\n",
      "  85  |   1.3037232e+01  |  8.4984710e+01  2.1344899e-01  2.5116164e-03  |  7.5228845e-02  1.6632996e-02\n",
      "  86  |   1.3022042e+01  |  8.4786789e+01  1.9792122e-01  2.3343403e-03  |  7.3443217e-02  1.6154160e-02\n",
      "  87  |   1.3007310e+01  |  8.4595051e+01  1.9173832e-01  2.2665430e-03  |  7.2478481e-02  1.5857320e-02\n",
      "  88  |   1.2993078e+01  |  8.4410038e+01  1.8501270e-01  2.1918329e-03  |  7.1351148e-02  1.5525933e-02\n",
      "  89  |   1.2979191e+01  |  8.4229703e+01  1.8033470e-01  2.1409870e-03  |  7.0365620e-02  1.5226762e-02\n",
      "  90  |   1.2965916e+01  |  8.4057491e+01  1.7221231e-01  2.0487444e-03  |  6.8538296e-02  1.4747934e-02\n",
      "  91  |   1.2953008e+01  |  8.3890208e+01  1.6728319e-01  1.9940729e-03  |  6.7656568e-02  1.4475287e-02\n",
      "  92  |   1.2940301e+01  |  8.3725689e+01  1.6451892e-01  1.9649754e-03  |  6.7419346e-02  1.4341480e-02\n",
      "  93  |   1.2927921e+01  |  8.3565571e+01  1.6011798e-01  1.9160759e-03  |  6.6457611e-02  1.4054709e-02\n",
      "  94  |   1.2916250e+01  |  8.3414757e+01  1.5081375e-01  1.8079985e-03  |  6.5324743e-02  1.3734200e-02\n",
      "  95  |   1.2904845e+01  |  8.3267516e+01  1.4724133e-01  1.7682926e-03  |  6.4708855e-02  1.3524603e-02\n",
      "  96  |   1.2893846e+01  |  8.3125637e+01  1.4187877e-01  1.7067992e-03  |  6.3794912e-02  1.3254777e-02\n",
      "  97  |   1.2883214e+01  |  8.2988602e+01  1.3703516e-01  1.6512528e-03  |  6.3281069e-02  1.3070154e-02\n",
      "  98  |   1.2872822e+01  |  8.2854771e+01  1.3383075e-01  1.6152449e-03  |  6.2922929e-02  1.2919177e-02\n",
      "  99  |   1.2862750e+01  |  8.2725173e+01  1.2959847e-01  1.5666147e-03  |  6.2041158e-02  1.2662695e-02\n",
      " 100  |   1.2852986e+01  |  8.2599629e+01  1.2554350e-01  1.5199039e-03  |  6.1541286e-02  1.2486428e-02\n",
      " 101  |   1.2843394e+01  |  8.2476386e+01  1.2324367e-01  1.4942904e-03  |  6.1239615e-02  1.2351994e-02\n",
      " 102  |   1.2834073e+01  |  8.2356717e+01  1.1966841e-01  1.4530497e-03  |  6.0368310e-02  1.2104759e-02\n",
      " 103  |   1.2824933e+01  |  8.2239457e+01  1.1726042e-01  1.4258413e-03  |  5.9938582e-02  1.1948346e-02\n",
      " 104  |   1.2815938e+01  |  8.2124128e+01  1.1532874e-01  1.4043223e-03  |  5.9644641e-02  1.1820596e-02\n",
      " 105  |   1.2807027e+01  |  8.2009975e+01  1.1415311e-01  1.3919418e-03  |  5.9466189e-02  1.1717024e-02\n",
      " 106  |   1.2798250e+01  |  8.1897601e+01  1.1237358e-01  1.3721230e-03  |  5.9084267e-02  1.1574720e-02\n",
      " 107  |   1.2789713e+01  |  8.1788376e+01  1.0922509e-01  1.3354599e-03  |  5.8554808e-02  1.1405247e-02\n",
      " 108  |   1.2781450e+01  |  8.1682731e+01  1.0564529e-01  1.2933614e-03  |  5.8125602e-02  1.1257078e-02\n",
      " 109  |   1.2773747e+01  |  8.1584307e+01  9.8424044e-02  1.2064090e-03  |  5.6716777e-02  1.0921930e-02\n",
      " 110  |   1.2766264e+01  |  8.1488745e+01  9.5562026e-02  1.1727021e-03  |  5.6500878e-02  1.0819050e-02\n",
      " 111  |   1.2758874e+01  |  8.1394438e+01  9.4306995e-02  1.1586418e-03  |  5.6341368e-02  1.0728136e-02\n",
      " 112  |   1.2752184e+01  |  8.1309097e+01  8.5340951e-02  1.0495867e-03  |  5.4253855e-02  1.0273253e-02\n",
      " 113  |   1.2745847e+01  |  8.1228302e+01  8.0794968e-02  9.9466524e-04  |  5.3766888e-02  1.0124995e-02\n",
      "< Stopping criterion: Relative tolerance on the objective >\n",
      "   [ 00h 00m 09s ]\n"
     ]
    }
   ],
   "source": [
    "mit.fit(max_iter = 100000000)\n",
    "## mit.fit(tol_fun = 1e-7, max_iter = 100000000)"
   ]
  },
  {
   "cell_type": "code",
   "execution_count": 31,
   "metadata": {
    "scrolled": true
   },
   "outputs": [
    {
     "name": "stdout",
     "output_type": "stream",
     "text": [
      "\n",
      "-> Saving results to \"Results_VolumeFractions/*\":\n",
      "\t* configuration and results:\n",
      "\t\t- pickle...  [ OK ]\n",
      "\t\t- txt...  [ OK ]\n",
      "\t* fitting errors:\n",
      "\t\t- RMSE...  [ 0.071 +/- 0.201 ]\n",
      "\t\t- NRMSE... [ 0.018 +/- 0.110 ]\n",
      "\t* voxelwise contributions:\n",
      "\t\t- intra-axonal [ OK ]\n",
      "\t\t- extra-axonal [ OK ]\n",
      "\t\t- isotropic    [ OK ]\n",
      "   [ 0.8 seconds ]\n"
     ]
    }
   ],
   "source": [
    "mit.save_results(save_coeff=True)"
   ]
  },
  {
   "cell_type": "code",
   "execution_count": 56,
   "metadata": {},
   "outputs": [],
   "source": [
    "trk_file = os.path.join(path_commit,'dictionary_TRK_fibers.trk')\n",
    "fib_tmp,trk_hdr_tmp=nib.trackvis.read(trk_file)"
   ]
  },
  {
   "cell_type": "code",
   "execution_count": 57,
   "metadata": {},
   "outputs": [
    {
     "data": {
      "text/plain": [
       "102751"
      ]
     },
     "execution_count": 57,
     "metadata": {},
     "output_type": "execute_result"
    }
   ],
   "source": [
    "len(fib_tmp)"
   ]
  },
  {
   "cell_type": "markdown",
   "metadata": {},
   "source": [
    "## generate tractography after applying COMMIT with weight > 0, and get fib_after,hdr_after"
   ]
  },
  {
   "cell_type": "code",
   "execution_count": 58,
   "metadata": {},
   "outputs": [],
   "source": [
    "f = open('/home/zhiwei/Desktop/semester-projects/results_script1/COMMIT/Results_VolumeFractions/xic.txt')\n"
   ]
  },
  {
   "cell_type": "code",
   "execution_count": 59,
   "metadata": {},
   "outputs": [],
   "source": [
    "import heapq\n",
    "data = f.read().splitlines()\n",
    "data = map(eval,data)\n",
    "max_index_list = map(data.index, heapq.nlargest(len(data)-data.count(0),data))\n",
    "\n",
    "#j=0\n",
    "#for items in range(len(fib_tmp)-1,-1,-1):\n",
    "#    if data[j] == 0:\n",
    "#        del fib_tmp[items]\n",
    "#    j=j+1\n",
    "#nib.trackvis.write('fibers_after.trk',fib_tmp,trk_hdr_tmp)"
   ]
  },
  {
   "cell_type": "code",
   "execution_count": 60,
   "metadata": {},
   "outputs": [
    {
     "data": {
      "text/plain": [
       "1992"
      ]
     },
     "execution_count": 60,
     "metadata": {},
     "output_type": "execute_result"
    }
   ],
   "source": [
    "len(max_index_list)"
   ]
  },
  {
   "cell_type": "code",
   "execution_count": 61,
   "metadata": {},
   "outputs": [],
   "source": [
    "j=0\n",
    "for items in range(len(fib_tmp)-1,-1,-1):\n",
    "    if items not in max_index_list:\n",
    "        del fib_tmp[items]\n",
    "nib.trackvis.write('fibers_after.trk',fib_tmp,trk_hdr_tmp)"
   ]
  },
  {
   "cell_type": "code",
   "execution_count": 62,
   "metadata": {},
   "outputs": [],
   "source": [
    "fib_after,hdr_after=nib.trackvis.read('/home/zhiwei/Desktop/semester-projects/results_script1/fibers_after.trk')"
   ]
  },
  {
   "cell_type": "code",
   "execution_count": 63,
   "metadata": {},
   "outputs": [
    {
     "data": {
      "text/plain": [
       "1992"
      ]
     },
     "execution_count": 63,
     "metadata": {},
     "output_type": "execute_result"
    }
   ],
   "source": [
    "len(fib_after)"
   ]
  },
  {
   "cell_type": "code",
   "execution_count": 64,
   "metadata": {},
   "outputs": [
    {
     "data": {
      "text/plain": [
       "0"
      ]
     },
     "execution_count": 64,
     "metadata": {},
     "output_type": "execute_result"
    }
   ],
   "source": [
    "CMD = 'TractConverter.py -i fibers_after.trk -o fibers_after.tck -a fsltensor_ftrial_FA.nii.gz'\n",
    "subprocess.call(CMD,shell = True)"
   ]
  },
  {
   "cell_type": "code",
   "execution_count": 65,
   "metadata": {},
   "outputs": [
    {
     "data": {
      "text/plain": [
       "0"
      ]
     },
     "execution_count": 65,
     "metadata": {},
     "output_type": "execute_result"
    }
   ],
   "source": [
    "CMD='tckmap fibers_after.tck syn_CLARITY_after.nii.gz -vox 0.015'\n",
    "subprocess.call(CMD, shell = True)"
   ]
  },
  {
   "cell_type": "markdown",
   "metadata": {},
   "source": [
    "## downsample fibers(before/after) to the original one, take mean distance and std as measurement"
   ]
  },
  {
   "cell_type": "markdown",
   "metadata": {},
   "source": [
    "## downsample the fibers and get tracks_before, tracks_after, tracks_original"
   ]
  },
  {
   "cell_type": "code",
   "execution_count": 66,
   "metadata": {},
   "outputs": [],
   "source": [
    "from dipy.tracking.metrics import downsample\n",
    "import random\n",
    "tracks_after = [downsample(fib_after[i][0],7) for i in range(len(fib_after))]\n",
    "tracks_original = [downsample(fib_original[i][0],7) for i in range(len(fib_original))]\n",
    "\n",
    "from dipy.segment.bundles import bundles_distances_mdf\n",
    "DM_after = bundles_distances_mdf(tracks_after, tracks_original)\n",
    "minD_after = [min(DM_after[i,:]) for i in range(len(DM_after))]\n",
    "list = range(len(fib_before))\n",
    "slice1 = random.sample(list, len(fib_after))\n",
    "tracks_before1 = [downsample(fib_before[i][0],7) for i in slice1]"
   ]
  },
  {
   "cell_type": "code",
   "execution_count": 68,
   "metadata": {},
   "outputs": [],
   "source": [
    "## generate a random list to get equal number of fibers from fib before COMMIT\n",
    "number_of_trials=10\n",
    "list = range(len(fib_before))\n",
    "slice1 = np.zeros((number_of_trials,len(fib_after)),dtype=int)\n",
    "tracks_before1 = np.zeros((number_of_trials,len(fib_after),7,3))\n",
    "DM_before1 = np.zeros((number_of_trials,len(fib_after),3000))\n",
    "minD_before1 = np.zeros((number_of_trials,len(fib_after)))\n",
    "for i in range(number_of_trials):\n",
    "    slice1[i] = random.sample(list, len(fib_after))\n",
    "    tracks_before1[i] = [downsample(fib_before[j][0],7) for j in slice1[i]]\n",
    "    DM_before1[i] = bundles_distances_mdf(tracks_before1[i], tracks_original)\n",
    "    minD_before1[i] = [min(DM_before1[i,j,:]) for j in range(len(DM_before1[i]))]"
   ]
  },
  {
   "cell_type": "code",
   "execution_count": 69,
   "metadata": {},
   "outputs": [],
   "source": [
    "meanD_before = np.zeros(number_of_trials)\n",
    "stdD_before = np.zeros(number_of_trials)\n",
    "for i in range(number_of_trials):\n",
    "    meanD_before[i]= np.mean(minD_before1[i])\n",
    "    stdD_before[i]= np.std(minD_before1[i])\n"
   ]
  },
  {
   "cell_type": "code",
   "execution_count": 70,
   "metadata": {},
   "outputs": [],
   "source": [
    "meanD_before_all = np.mean(meanD_before)\n",
    "stdD_before_all = np.mean(meanD_before)\n",
    "meanD_after= np.mean(minD_after)\n",
    "stdD_after= np.std(minD_after)"
   ]
  },
  {
   "cell_type": "code",
   "execution_count": 71,
   "metadata": {},
   "outputs": [
    {
     "data": {
      "text/plain": [
       "0.1301351751529997"
      ]
     },
     "execution_count": 71,
     "metadata": {},
     "output_type": "execute_result"
    }
   ],
   "source": [
    "meanD_after"
   ]
  },
  {
   "cell_type": "code",
   "execution_count": 72,
   "metadata": {},
   "outputs": [
    {
     "data": {
      "text/plain": [
       "0.18206487235241015"
      ]
     },
     "execution_count": 72,
     "metadata": {},
     "output_type": "execute_result"
    }
   ],
   "source": [
    "meanD_before_all"
   ]
  },
  {
   "cell_type": "markdown",
   "metadata": {},
   "source": [
    "## compare tracks_after and tracks_before with tracks_original with mean distance and STD"
   ]
  },
  {
   "cell_type": "markdown",
   "metadata": {},
   "source": []
  },
  {
   "cell_type": "markdown",
   "metadata": {},
   "source": [
    "## Compare on a voxel level"
   ]
  },
  {
   "cell_type": "markdown",
   "metadata": {},
   "source": [
    "original resolution -- 0.015mm"
   ]
  },
  {
   "cell_type": "code",
   "execution_count": 73,
   "metadata": {},
   "outputs": [],
   "source": [
    "for items in range(len(fib_before)-1,-1,-1):\n",
    "    if items not in slice1:\n",
    "        del fib_before[items]\n",
    "    j=j+1\n",
    "nib.trackvis.write('fibers_before.trk',fib_before,hdr_before)"
   ]
  },
  {
   "cell_type": "code",
   "execution_count": 74,
   "metadata": {},
   "outputs": [],
   "source": [
    "fib_before,hdr_before=nib.trackvis.read('/home/zhiwei/Desktop/semester-projects/results_script1/fibers_before.trk')"
   ]
  },
  {
   "cell_type": "code",
   "execution_count": 75,
   "metadata": {},
   "outputs": [
    {
     "data": {
      "text/plain": [
       "0"
      ]
     },
     "execution_count": 75,
     "metadata": {},
     "output_type": "execute_result"
    }
   ],
   "source": [
    "CMD = 'TractConverter.py -i fibers_before.trk -o fibers_before.tck -a fsltensor_ftrial_FA.nii.gz'\n",
    "subprocess.call(CMD,shell = True)"
   ]
  },
  {
   "cell_type": "code",
   "execution_count": 76,
   "metadata": {},
   "outputs": [
    {
     "data": {
      "text/plain": [
       "0"
      ]
     },
     "execution_count": 76,
     "metadata": {},
     "output_type": "execute_result"
    }
   ],
   "source": [
    "CMD='tckmap fibers_before.tck syn_CLARITY_random.nii.gz -vox 0.015' \n",
    "subprocess.call(CMD, shell = True)"
   ]
  },
  {
   "cell_type": "code",
   "execution_count": 77,
   "metadata": {},
   "outputs": [],
   "source": [
    "data_original = nib.load('syn_CLARITY.nii.gz')\n",
    "data_before = nib.load('syn_CLARITY_random.nii.gz')\n",
    "data_after = nib.load('syn_CLARITY_after.nii.gz')\n",
    "original = data_original.get_fdata()\n",
    "random = data_before.get_fdata()\n",
    "after = data_after.get_fdata()\n",
    "\n",
    "## normalization\n",
    "sum_original = sum(sum(sum(data_original.get_fdata())))\n",
    "sum_before = sum(sum(sum(data_before.get_fdata())))\n",
    "sum_after = sum(sum(sum(data_after.get_fdata())))\n",
    "volume_original = data_original.get_fdata()/sum_original\n",
    "volume_before = data_before.get_fdata()/sum_before\n",
    "volume_after = data_after.get_fdata()/sum_after"
   ]
  },
  {
   "cell_type": "code",
   "execution_count": 78,
   "metadata": {},
   "outputs": [],
   "source": [
    "abs_error_before = compClarity(volume_before, volume_original)\n",
    "abs_error_after = compClarity(volume_after, volume_original)"
   ]
  },
  {
   "cell_type": "code",
   "execution_count": 80,
   "metadata": {},
   "outputs": [
    {
     "name": "stdout",
     "output_type": "stream",
     "text": [
      "1.6043792757741229\n",
      "1.8117643295187793\n"
     ]
    }
   ],
   "source": [
    "print(abs_error_before)\n",
    "print(abs_error_after)"
   ]
  },
  {
   "cell_type": "markdown",
   "metadata": {},
   "source": [
    "## correlation measure to conduct grey level matching"
   ]
  },
  {
   "cell_type": "code",
   "execution_count": 81,
   "metadata": {},
   "outputs": [],
   "source": [
    "center_original = (original-sum_original/(191*178*39)).flatten()\n",
    "center_before = (random - sum_before/(191*178*39)).flatten()\n",
    "center_after = (after - sum_after/(191*178*39)).flatten()"
   ]
  },
  {
   "cell_type": "code",
   "execution_count": 82,
   "metadata": {},
   "outputs": [],
   "source": [
    "module_original = np.sqrt(np.dot(center_original,center_original))\n",
    "module_before = np.sqrt(np.dot(center_before,center_before))\n",
    "module_after = np.sqrt(np.dot(center_after,center_after))"
   ]
  },
  {
   "cell_type": "code",
   "execution_count": 83,
   "metadata": {},
   "outputs": [],
   "source": [
    "random_coef = np.dot(center_original.flatten(),center_before.flatten())/(module_original*module_before)\n",
    "COMMIT_coef = np.dot(center_original.flatten(),center_after.flatten())/(module_original*module_after)"
   ]
  },
  {
   "cell_type": "code",
   "execution_count": 84,
   "metadata": {},
   "outputs": [
    {
     "name": "stdout",
     "output_type": "stream",
     "text": [
      "0.09500000620597361\n",
      "0.037355773656436775\n"
     ]
    }
   ],
   "source": [
    "print(random_coef)\n",
    "print(COMMIT_coef)"
   ]
  },
  {
   "cell_type": "markdown",
   "metadata": {},
   "source": [
    "## change the resolution here"
   ]
  },
  {
   "cell_type": "markdown",
   "metadata": {},
   "source": [
    "resolution based on mean distance after COMMIT"
   ]
  },
  {
   "cell_type": "markdown",
   "metadata": {
    "scrolled": true
   },
   "source": [
    "CMD='tckmap origin0.015.tck syn_CLARITY_COMMIT_res.nii.gz -vox 0.195' \n",
    "subprocess.call(CMD, shell = True)"
   ]
  },
  {
   "cell_type": "markdown",
   "metadata": {},
   "source": [
    "CMD='tckmap fibers_after.tck syn_CLARITY_after_COMMIT_res.nii.gz -vox 0.195'\n",
    "subprocess.call(CMD, shell = True)"
   ]
  },
  {
   "cell_type": "markdown",
   "metadata": {},
   "source": [
    "CMD='tckmap fibers_before.tck syn_CLARITY_random_COMMIT_res.nii.gz -vox 0.195'\n",
    "subprocess.call(CMD, shell = True)"
   ]
  },
  {
   "cell_type": "markdown",
   "metadata": {},
   "source": [
    "data_original_COMMIT_res = nib.load('syn_CLARITY_COMMIT_res.nii.gz')\n",
    "data_before_COMMIT_res = nib.load('syn_CLARITY_random_COMMIT_res.nii.gz')\n",
    "data_after_COMMIT_res = nib.load('syn_CLARITY_after_COMMIT_res.nii.gz')\n",
    "## normalization\n",
    "sum_original_COMMIT_res = sum(sum(sum(data_original_COMMIT_res.get_fdata())))\n",
    "sum_before_COMMIT_res = sum(sum(sum(data_before_COMMIT_res.get_fdata())))\n",
    "sum_after_COMMIT_res = sum(sum(sum(data_after_COMMIT_res.get_fdata())))\n",
    "volume_original_COMMIT_res = data_original_COMMIT_res.get_fdata()/sum_original_COMMIT_res\n",
    "volume_before_COMMIT_res = data_before_COMMIT_res.get_fdata()/sum_before_COMMIT_res\n",
    "volume_after_COMMIT_res = data_after_COMMIT_res.get_fdata()/sum_after_COMMIT_res"
   ]
  },
  {
   "cell_type": "markdown",
   "metadata": {},
   "source": [
    "square_error_before_COMMIT_res = compClarity(volume_before_COMMIT_res, volume_original_COMMIT_res)\n",
    "square_error_after_COMMIT_res = compClarity(volume_after_COMMIT_res, volume_original_COMMIT_res)"
   ]
  },
  {
   "cell_type": "markdown",
   "metadata": {},
   "source": [
    "## Compare on a voxel level - binary"
   ]
  },
  {
   "cell_type": "markdown",
   "metadata": {},
   "source": [
    "original resolution -- 0.015mm"
   ]
  },
  {
   "cell_type": "code",
   "execution_count": 85,
   "metadata": {},
   "outputs": [],
   "source": [
    "def binarize(volume):\n",
    "    volume_prime = np.zeros([len(volume),len(volume[1]),len(volume[1][1])])\n",
    "    for x in range(len(volume)):\n",
    "        for y in range(len(volume[1])):\n",
    "            for z in range(len(volume[1][1])):\n",
    "                if volume[x,y,z]!=0:\n",
    "                    volume_prime[x,y,z]=1\n",
    "    return volume_prime"
   ]
  },
  {
   "cell_type": "code",
   "execution_count": 86,
   "metadata": {},
   "outputs": [],
   "source": [
    "Volume_Original = binarize(volume_original)\n",
    "Volume_Before = binarize(volume_before)\n",
    "Volume_After = binarize(volume_after)\n",
    "error_before = compClarity(Volume_Before, Volume_Original)\n",
    "error_after = compClarity(Volume_After, Volume_Original)"
   ]
  },
  {
   "cell_type": "code",
   "execution_count": 87,
   "metadata": {},
   "outputs": [
    {
     "name": "stdout",
     "output_type": "stream",
     "text": [
      "461471.0\n",
      "247769.0\n"
     ]
    }
   ],
   "source": [
    "print(error_before)\n",
    "print(error_after)"
   ]
  },
  {
   "cell_type": "markdown",
   "metadata": {},
   "source": [
    "\n",
    "## change the resolution here"
   ]
  },
  {
   "cell_type": "markdown",
   "metadata": {},
   "source": [
    "COMMIT resolution 0.186"
   ]
  },
  {
   "cell_type": "markdown",
   "metadata": {},
   "source": [
    "Volume_Original_COMMIT_res = binarize(volume_original_COMMIT_res)\n",
    "Volume_Before_COMMIT_res = binarize(volume_before_COMMIT_res)\n",
    "Volume_After_COMMIT_res = binarize(volume_after_COMMIT_res)\n",
    "error_before_COMMIT_res = compClarity(Volume_Before_COMMIT_res, Volume_Original_COMMIT_res)\n",
    "error_after_COMMIT_res = compClarity(Volume_After_COMMIT_res, Volume_Original_COMMIT_res)"
   ]
  },
  {
   "cell_type": "markdown",
   "metadata": {},
   "source": [
    "## save results"
   ]
  },
  {
   "cell_type": "code",
   "execution_count": 89,
   "metadata": {},
   "outputs": [
    {
     "name": "stdout",
     "output_type": "stream",
     "text": [
      "/home/zhiwei/Desktop\n"
     ]
    }
   ],
   "source": [
    "cd .."
   ]
  },
  {
   "cell_type": "code",
   "execution_count": 90,
   "metadata": {},
   "outputs": [],
   "source": [
    "f = open('meanD_RANDOM_COMMIT.txt','a')  \n",
    "f.write(str(meanD_before)+', ')\n",
    "f.write(str(meanD_after)+', ')\n",
    "f.close()\n",
    "\n",
    "f = open('stdD_RANDOM_COMMIT.txt','a') \n",
    "f.write(str(stdD_before)+', ')\n",
    "f.write(str(stdD_after)+', ')\n",
    "f.close()"
   ]
  },
  {
   "cell_type": "code",
   "execution_count": 91,
   "metadata": {},
   "outputs": [],
   "source": [
    "f = open('VOXEL_B_random_COMMIT.txt','a')\n",
    "f.write(str(error_before)+', ')\n",
    "f.write(str(error_after)+', ')\n",
    "f.close()"
   ]
  },
  {
   "cell_type": "code",
   "execution_count": 92,
   "metadata": {},
   "outputs": [
    {
     "ename": "NameError",
     "evalue": "name 'square_error_before' is not defined",
     "output_type": "error",
     "traceback": [
      "\u001b[0;31m---------------------------------------------------------------------------\u001b[0m",
      "\u001b[0;31mNameError\u001b[0m                                 Traceback (most recent call last)",
      "\u001b[0;32m<ipython-input-92-455b7025d0a2>\u001b[0m in \u001b[0;36m<module>\u001b[0;34m()\u001b[0m\n\u001b[1;32m      1\u001b[0m \u001b[0mf\u001b[0m \u001b[0;34m=\u001b[0m \u001b[0mopen\u001b[0m\u001b[0;34m(\u001b[0m\u001b[0;34m'VOXEL_NB_random_commit.txt'\u001b[0m\u001b[0;34m,\u001b[0m\u001b[0;34m'a'\u001b[0m\u001b[0;34m)\u001b[0m\u001b[0;34m\u001b[0m\u001b[0m\n\u001b[0;32m----> 2\u001b[0;31m \u001b[0mf\u001b[0m\u001b[0;34m.\u001b[0m\u001b[0mwrite\u001b[0m\u001b[0;34m(\u001b[0m\u001b[0mstr\u001b[0m\u001b[0;34m(\u001b[0m\u001b[0msquare_error_before\u001b[0m\u001b[0;34m)\u001b[0m\u001b[0;34m+\u001b[0m\u001b[0;34m', '\u001b[0m\u001b[0;34m)\u001b[0m\u001b[0;34m\u001b[0m\u001b[0m\n\u001b[0m\u001b[1;32m      3\u001b[0m \u001b[0mf\u001b[0m\u001b[0;34m.\u001b[0m\u001b[0mwrite\u001b[0m\u001b[0;34m(\u001b[0m\u001b[0mstr\u001b[0m\u001b[0;34m(\u001b[0m\u001b[0msquare_error_after\u001b[0m\u001b[0;34m)\u001b[0m\u001b[0;34m+\u001b[0m\u001b[0;34m', '\u001b[0m\u001b[0;34m)\u001b[0m\u001b[0;34m\u001b[0m\u001b[0m\n\u001b[1;32m      4\u001b[0m \u001b[0mf\u001b[0m\u001b[0;34m.\u001b[0m\u001b[0mclose\u001b[0m\u001b[0;34m(\u001b[0m\u001b[0;34m)\u001b[0m\u001b[0;34m\u001b[0m\u001b[0m\n",
      "\u001b[0;31mNameError\u001b[0m: name 'square_error_before' is not defined"
     ]
    }
   ],
   "source": [
    "f = open('VOXEL_NB_random_commit.txt','a')\n",
    "f.write(str(square_error_before)+', ')\n",
    "f.write(str(square_error_after)+', ')\n",
    "f.close()\n"
   ]
  },
  {
   "cell_type": "code",
   "execution_count": 94,
   "metadata": {},
   "outputs": [],
   "source": [
    "f = open('coef_random_COMMIT.txt','a')\n",
    "f.write(str(random_coef)+', ')\n",
    "f.write(str(COMMIT_coef)+', ')\n",
    "f.close()"
   ]
  },
  {
   "cell_type": "code",
   "execution_count": 95,
   "metadata": {},
   "outputs": [
    {
     "ename": "NameError",
     "evalue": "name 'error_before_COMMIT_res' is not defined",
     "output_type": "error",
     "traceback": [
      "\u001b[0;31m---------------------------------------------------------------------------\u001b[0m",
      "\u001b[0;31mNameError\u001b[0m                                 Traceback (most recent call last)",
      "\u001b[0;32m<ipython-input-95-a24d0e84780b>\u001b[0m in \u001b[0;36m<module>\u001b[0;34m()\u001b[0m\n\u001b[1;32m      2\u001b[0m \u001b[0mf\u001b[0m\u001b[0;34m.\u001b[0m\u001b[0mwrite\u001b[0m\u001b[0;34m(\u001b[0m\u001b[0;34m'\\n'\u001b[0m\u001b[0;34m)\u001b[0m\u001b[0;34m\u001b[0m\u001b[0m\n\u001b[1;32m      3\u001b[0m \u001b[0mf\u001b[0m\u001b[0;34m.\u001b[0m\u001b[0mwrite\u001b[0m\u001b[0;34m(\u001b[0m\u001b[0;34m'compare tractography on a voxel level_COMMIT_res - BINARIZATION:'\u001b[0m\u001b[0;34m)\u001b[0m\u001b[0;34m\u001b[0m\u001b[0m\n\u001b[0;32m----> 4\u001b[0;31m \u001b[0mf\u001b[0m\u001b[0;34m.\u001b[0m\u001b[0mwrite\u001b[0m\u001b[0;34m(\u001b[0m\u001b[0;34m'\\nerror random: '\u001b[0m \u001b[0;34m+\u001b[0m \u001b[0mstr\u001b[0m\u001b[0;34m(\u001b[0m\u001b[0merror_before_COMMIT_res\u001b[0m\u001b[0;34m)\u001b[0m\u001b[0;34m)\u001b[0m\u001b[0;34m\u001b[0m\u001b[0m\n\u001b[0m\u001b[1;32m      5\u001b[0m \u001b[0mf\u001b[0m\u001b[0;34m.\u001b[0m\u001b[0mwrite\u001b[0m\u001b[0;34m(\u001b[0m\u001b[0;34m'\\nerror COMMIT: '\u001b[0m \u001b[0;34m+\u001b[0m \u001b[0mstr\u001b[0m\u001b[0;34m(\u001b[0m\u001b[0merror_after_COMMIT_res\u001b[0m\u001b[0;34m)\u001b[0m\u001b[0;34m)\u001b[0m\u001b[0;34m\u001b[0m\u001b[0m\n\u001b[1;32m      6\u001b[0m \u001b[0mf\u001b[0m\u001b[0;34m.\u001b[0m\u001b[0mwrite\u001b[0m\u001b[0;34m(\u001b[0m\u001b[0;34m'\\n\\n'\u001b[0m\u001b[0;34m)\u001b[0m\u001b[0;34m\u001b[0m\u001b[0m\n",
      "\u001b[0;31mNameError\u001b[0m: name 'error_before_COMMIT_res' is not defined"
     ]
    }
   ],
   "source": [
    "f = open('meanD_std3000.txt','a')\n",
    "f.write('\\n')\n",
    "f.write('compare tractography on a voxel level_COMMIT_res - BINARIZATION:')\n",
    "f.write('\\nerror random: ' + str(error_before_COMMIT_res))\n",
    "f.write('\\nerror COMMIT: ' + str(error_after_COMMIT_res)) \n",
    "f.write('\\n\\n')\n",
    "f.close()"
   ]
  },
  {
   "cell_type": "code",
   "execution_count": null,
   "metadata": {},
   "outputs": [],
   "source": [
    "f = open('meanD_std3000.txt','a')\n",
    "f.write('\\n')\n",
    "f.write('compare tractography on a voxel level_COMMIT_res- non-BINARIZATION:')\n",
    "f.write('\\nsquare error random: ' + str(square_error_before_COMMIT_res))\n",
    "f.write('\\nsquare error COMMIT: ' + str(square_error_after_COMMIT_res)) \n",
    "f.write('\\n\\n\\n\\n\\n')\n",
    "f.close()"
   ]
  },
  {
   "cell_type": "code",
   "execution_count": null,
   "metadata": {},
   "outputs": [],
   "source": [
    "os.rename('results_script1','5_PERCENTER_%d'%order)"
   ]
  }
 ],
 "metadata": {
  "kernelspec": {
   "display_name": "Python 2",
   "language": "python",
   "name": "python2"
  },
  "language_info": {
   "codemirror_mode": {
    "name": "ipython",
    "version": 2
   },
   "file_extension": ".py",
   "mimetype": "text/x-python",
   "name": "python",
   "nbconvert_exporter": "python",
   "pygments_lexer": "ipython2",
   "version": "2.7.15"
  }
 },
 "nbformat": 4,
 "nbformat_minor": 2
}
