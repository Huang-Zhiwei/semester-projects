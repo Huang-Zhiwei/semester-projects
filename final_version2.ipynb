{
 "cells": [
  {
   "cell_type": "code",
   "execution_count": null,
   "metadata": {},
   "outputs": [],
   "source": [
    "order=10"
   ]
  },
  {
   "cell_type": "code",
   "execution_count": 1,
   "metadata": {},
   "outputs": [],
   "source": [
    "# import libraries\n",
    "import glob                               #can be used to find the target files\n",
    "import matplotlib.pyplot as plt\n",
    "import nibabel as nib                   # to read and write neuron imaging data \n",
    "import numpy as np                        # for matrix calculating\n",
    "import subprocess\n",
    "from PIL import Image \n",
    "import os,shutil\n",
    "\n",
    "from scipy import signal\n",
    "from skimage import color, img_as_ubyte, io"
   ]
  },
  {
   "cell_type": "code",
   "execution_count": 2,
   "metadata": {},
   "outputs": [],
   "source": [
    "file_script = 'results_script1'\n",
    "if not os.path.exists(file_script):\n",
    "    os.mkdir(file_script)"
   ]
  },
  {
   "cell_type": "code",
   "execution_count": 3,
   "metadata": {},
   "outputs": [],
   "source": [
    "shutil.copy('/home/zhiwei/Desktop/semester-projects/original_file/3000/BVECTOR.scheme','results_script1')\n",
    "shutil.copy('/home/zhiwei/Desktop/semester-projects/original_file/3000/fsltensor_FA.nii.gz','results_script1')\n",
    "shutil.copy('/home/zhiwei/Desktop/semester-projects/original_file/3000/fsltensor_V3.nii.gz','results_script1')"
   ]
  },
  {
   "cell_type": "markdown",
   "metadata": {},
   "source": [
    "CMD = 'shutil.copy(“fsltensor_V1.nii.gz”,”results_script1”)'\n",
    "subprocess.call(CMD,shell=True)\n"
   ]
  },
  {
   "cell_type": "code",
   "execution_count": 4,
   "metadata": {},
   "outputs": [
    {
     "name": "stdout",
     "output_type": "stream",
     "text": [
      "/home/zhiwei/Desktop/semester-projects/results_script1\n"
     ]
    }
   ],
   "source": [
    "cd results_script1"
   ]
  },
  {
   "cell_type": "markdown",
   "metadata": {},
   "source": [
    "## generate original tractography and get fib_original, hdr_original"
   ]
  },
  {
   "cell_type": "code",
   "execution_count": 5,
   "metadata": {},
   "outputs": [],
   "source": [
    "data = nib.load('fsltensor_FA.nii.gz')\n",
    "d=np.ones(data.get_data().shape)\n",
    "img=nib.Nifti1Image(d, data.affine)\n",
    "nib.save(img,'mask.nii')"
   ]
  },
  {
   "cell_type": "code",
   "execution_count": 7,
   "metadata": {},
   "outputs": [
    {
     "data": {
      "text/plain": [
       "0"
      ]
     },
     "execution_count": 7,
     "metadata": {},
     "output_type": "execute_result"
    }
   ],
   "source": [
    "CMD='tckgen fsltensor_V3.nii.gz origin0.015.tck -algorithm FACT -seed_image mask.nii -mask mask.nii -select 3000 -step 0.015'\n",
    "subprocess.call(CMD, shell = True)"
   ]
  },
  {
   "cell_type": "code",
   "execution_count": 8,
   "metadata": {},
   "outputs": [
    {
     "data": {
      "text/plain": [
       "0"
      ]
     },
     "execution_count": 8,
     "metadata": {},
     "output_type": "execute_result"
    }
   ],
   "source": [
    "CMD = 'TractConverter.py -i origin0.015.tck -o origin0.015.trk -a fsltensor_FA.nii.gz'\n",
    "subprocess.call(CMD,shell=True)"
   ]
  },
  {
   "cell_type": "code",
   "execution_count": 9,
   "metadata": {},
   "outputs": [],
   "source": [
    "fib_original,hdr_original=nib.trackvis.read('/home/zhiwei/Desktop/semester-projects/results_script1/origin0.015.trk')"
   ]
  },
  {
   "cell_type": "markdown",
   "metadata": {},
   "source": [
    "## generate synthetic CLARITY data"
   ]
  },
  {
   "cell_type": "code",
   "execution_count": 10,
   "metadata": {},
   "outputs": [
    {
     "data": {
      "text/plain": [
       "0"
      ]
     },
     "execution_count": 10,
     "metadata": {},
     "output_type": "execute_result"
    }
   ],
   "source": [
    "CMD='tckmap origin0.015.tck syn_CLARITY.nii.gz -vox 0.015'\n",
    "subprocess.call(CMD, shell = True)"
   ]
  },
  {
   "cell_type": "markdown",
   "metadata": {},
   "source": [
    "\n",
    "## calculate structure tensor"
   ]
  },
  {
   "cell_type": "code",
   "execution_count": 11,
   "metadata": {},
   "outputs": [],
   "source": [
    "def doggen(sigma=None, X=None, Y=None, Z=None):\n",
    "    halfsize = np.ceil(3 * np.max(sigma))       #3*the maximum number of sequence sigma, ceil: shangxian\n",
    "    x = np.arange(-halfsize,halfsize+1)         # sequence from -halfsize to halfsize+1\n",
    "\n",
    "    if len(sigma) == 1:\n",
    "        if X is None:\n",
    "            X = x\n",
    "        k = (-1)*X * np.exp( (-1)*np.power(X,2)/(2 * np.power(sigma[0],2)) )\n",
    "    if len(sigma) == 2:\n",
    "        if X is None or Y is None:\n",
    "            [X,Y] =np.meshgrid(x,x)\n",
    "        k = (-1)*X * np.exp( (-1)*np.power(X,2)/(2 * np.power(sigma[0],2)) ) * np.exp( (-1)*np.power(Y,2)/(2 * np.power(sigma[1],2)) )\n",
    "    if len(sigma) == 3:\n",
    "        if X is None or Y is None or Z is None:\n",
    "            [X,Y,Z] =np.meshgrid(x,x,x)\n",
    "        k = (-1)*X * np.exp( (-1)*np.power(X,2)/(2 * np.power(sigma[0],2)) ) * np.exp( (-1)*np.power(Y,2)/(2 * np.power(sigma[1],2)) ) * np.exp( (-1)*np.power(Z,2)/(2 * np.power(sigma[2],2)))\n",
    "    if len(sigma) > 3:\n",
    "        print ('Only support up to dimension 3')\n",
    "    \n",
    "    return k /np.sum(np.abs(k))\n",
    "\n",
    "def gradCompute(img, dogsigma):\n",
    "    dogkercc = doggen([dogsigma, dogsigma, dogsigma])\n",
    "    dogkerrr = np.transpose( dogkercc, (1, 0, 2) )\n",
    "    dogkerzz = np.transpose( dogkercc, (0, 2, 1) )\n",
    "\n",
    "    gcc = signal.convolve(img, dogkercc, mode = 'valid')\n",
    "    grr = signal.convolve(img, dogkerrr, mode = 'valid')\n",
    "    gzz = signal.convolve(img, dogkerzz, mode = 'valid')\n",
    "\n",
    "    # Gradient products\n",
    "    gp = type('', (), {})()\n",
    "    gp.gprrrr = grr * grr\n",
    "    gp.gprrcc = grr * gcc\n",
    "    gp.gprrzz = grr * gzz\n",
    "    gp.gpcccc = gcc * gcc\n",
    "    gp.gpcczz = gcc * gzz\n",
    "    gp.gpzzzz = gzz * gzz\n",
    "\n",
    "    # Gradient amplitude\n",
    "    ga = np.sqrt(gp.gprrrr + gp.gpcccc + gp.gpzzzz)\n",
    "\n",
    "    return ga, gp\n",
    "\n"
   ]
  },
  {
   "cell_type": "markdown",
   "metadata": {},
   "source": [
    "## the optimal patch_size to retrieve the exact size of CLARITY as the originally synthetic one!! do not change this anymore!!"
   ]
  },
  {
   "cell_type": "code",
   "execution_count": 12,
   "metadata": {},
   "outputs": [],
   "source": [
    "patch_size = 6.6"
   ]
  },
  {
   "cell_type": "code",
   "execution_count": 13,
   "metadata": {},
   "outputs": [
    {
     "name": "stderr",
     "output_type": "stream",
     "text": [
      "/home/zhiwei/.local/lib/python2.7/site-packages/scipy/signal/signaltools.py:491: FutureWarning: Using a non-tuple sequence for multidimensional indexing is deprecated; use `arr[tuple(seq)]` instead of `arr[seq]`. In the future this will be interpreted as an array index, `arr[np.array(seq)]`, which will result either in an error or a different result.\n",
      "  return x[reverse].conj()\n"
     ]
    },
    {
     "data": {
      "text/plain": [
       "0"
      ]
     },
     "execution_count": 13,
     "metadata": {},
     "output_type": "execute_result"
    }
   ],
   "source": [
    "\n",
    "img_stack = nib.load('syn_CLARITY.nii.gz')\n",
    "imgstack = img_stack.get_fdata()/255.0\n",
    "\n",
    "\n",
    "# select sigma\n",
    "dogsigma = [0.6]\n",
    "vox_size = [15, 15, 15] #um\n",
    "#define the voxel dimension to apply tensor\n",
    "voxel_dim = np.array([patch_size,patch_size,patch_size]) # x,y,z in voxel dimension\n",
    "volume_dim = (np.array(imgstack.shape)/voxel_dim).astype(np.int) # in voxel dimesion: removed voxel at the border\n",
    "\n",
    "fsl_tensor = np.zeros((volume_dim[0], volume_dim[1], volume_dim[2], 6))\n",
    "for x in range (0,volume_dim[0]):\n",
    "    for y in range (0,volume_dim[1]):\n",
    "        for z in range (0, volume_dim[2]):\n",
    "            [ga,gp] = gradCompute(imgstack[int(x*voxel_dim[0]):int((x+1)*voxel_dim[0]), int(y*voxel_dim[1]):int((y+1)*voxel_dim[1]), int(z*voxel_dim[2]):int((z+1)*voxel_dim[2])], dogsigma)\n",
    "\n",
    "            lowthreh = np.percentile(ga.reshape(-1), 20)\n",
    "            highthreh = np.percentile(ga.reshape(-1), 80)\n",
    "\n",
    "            mask = np.ones(ga.shape)\n",
    "            mask[ga  < lowthreh] = 0\n",
    "            mask[ga  > highthreh] = 0\n",
    "\n",
    "            gprrrr = np.sum(gp.gprrrr[mask==1])\n",
    "            gprrcc = np.sum(gp.gprrcc[mask==1])\n",
    "            gprrzz = np.sum(gp.gprrzz[mask==1])\n",
    "            gpcccc = np.sum(gp.gpcccc[mask==1])\n",
    "            gpcczz = np.sum(gp.gpcczz[mask==1])\n",
    "            gpzzzz = np.sum(gp.gpzzzz[mask==1])\n",
    "\n",
    "            fsl_tensor[x,y,z] = np.array([[gprrrr, gprrcc, gprrzz,gpcccc, gpcczz, gpzzzz]])\n",
    "affine = np.eye(4)\n",
    "affine[0,0]=vox_size[0]*voxel_dim[0]*0.001\n",
    "affine[1,1]=vox_size[1]*voxel_dim[1]*0.001\n",
    "affine[2,2]=vox_size[2]*voxel_dim[2]*0.001\n",
    "img_fsl_tensor = nib.Nifti1Image(fsl_tensor, affine)\n",
    "nib.save(img_fsl_tensor, 'fsltensor_ftrial.nii.gz')\n",
    "CMD='fsl5.0-fslmaths fsltensor_ftrial.nii.gz -tensor_decomp fsltensor_ftrial'\n",
    "subprocess.call(CMD, shell=True)"
   ]
  },
  {
   "cell_type": "markdown",
   "metadata": {},
   "source": [
    "## generate the mask for subsequent tractography generation"
   ]
  },
  {
   "cell_type": "code",
   "execution_count": 14,
   "metadata": {},
   "outputs": [],
   "source": [
    "data = nib.load('fsltensor_ftrial_FA.nii.gz')\n",
    "d=np.ones(data.get_data().shape)\n",
    "img=nib.Nifti1Image(d, data.affine)\n",
    "nib.save(img,'mask_syn.nii')"
   ]
  },
  {
   "cell_type": "markdown",
   "metadata": {},
   "source": [
    "##  generate the tractography and subsequent CLARITY based on the synthetic CLARITY images"
   ]
  },
  {
   "cell_type": "code",
   "execution_count": 15,
   "metadata": {},
   "outputs": [],
   "source": [
    "number = 100000"
   ]
  },
  {
   "cell_type": "code",
   "execution_count": 16,
   "metadata": {},
   "outputs": [
    {
     "data": {
      "text/plain": [
       "0"
      ]
     },
     "execution_count": 16,
     "metadata": {},
     "output_type": "execute_result"
    }
   ],
   "source": [
    "CMD='tckgen fsltensor_ftrial_V3.nii.gz before0.015.tck -algorithm FACT -seed_image mask_syn.nii -mask mask_syn.nii -select 100000 -step 0.015'\n",
    "subprocess.call(CMD, shell = True)"
   ]
  },
  {
   "cell_type": "code",
   "execution_count": 17,
   "metadata": {},
   "outputs": [
    {
     "data": {
      "text/plain": [
       "0"
      ]
     },
     "execution_count": 17,
     "metadata": {},
     "output_type": "execute_result"
    }
   ],
   "source": [
    "CMD = 'TractConverter.py -i before0.015.tck -o before0.015.trk -a fsltensor_ftrial_FA.nii.gz'\n",
    "subprocess.call(CMD,shell = True)"
   ]
  },
  {
   "cell_type": "code",
   "execution_count": 18,
   "metadata": {},
   "outputs": [],
   "source": [
    "fib_before,hdr_before=nib.trackvis.read('/home/zhiwei/Desktop/semester-projects/results_script1/before0.015.trk')"
   ]
  },
  {
   "cell_type": "code",
   "execution_count": 19,
   "metadata": {},
   "outputs": [],
   "source": [
    "for items in range(len(fib_original)):\n",
    "    fib_before.append(fib_original[items])\n",
    "nib.trackvis.write('fibers_before_all.trk',fib_before,hdr_before)"
   ]
  },
  {
   "cell_type": "code",
   "execution_count": 20,
   "metadata": {},
   "outputs": [
    {
     "data": {
      "text/plain": [
       "0"
      ]
     },
     "execution_count": 20,
     "metadata": {},
     "output_type": "execute_result"
    }
   ],
   "source": [
    "CMD = 'TractConverter.py -i fibers_before_all.trk -o fibers_before_all.tck -a fsltensor_ftrial_FA.nii.gz'\n",
    "subprocess.call(CMD,shell = True)"
   ]
  },
  {
   "cell_type": "code",
   "execution_count": 21,
   "metadata": {},
   "outputs": [
    {
     "data": {
      "text/plain": [
       "0"
      ]
     },
     "execution_count": 21,
     "metadata": {},
     "output_type": "execute_result"
    }
   ],
   "source": [
    "CMD='tckmap fibers_before_all.tck syn_CLARITY_before.nii.gz -vox 0.015'\n",
    "subprocess.call(CMD, shell = True)"
   ]
  },
  {
   "cell_type": "markdown",
   "metadata": {},
   "source": [
    "## function for comparison of two tractography on a voxel base"
   ]
  },
  {
   "cell_type": "code",
   "execution_count": 22,
   "metadata": {},
   "outputs": [],
   "source": [
    "def compClarity(volume1,volume2):\n",
    "    error = 0.0\n",
    "    for x in range(volume1.shape[0]):\n",
    "        for y in range(volume1.shape[1]):\n",
    "            for z in range(volume1.shape[2]):\n",
    "                error = error + np.abs(volume1[x,y,z]-volume2[x,y,z])\n",
    "    return error"
   ]
  },
  {
   "cell_type": "markdown",
   "metadata": {},
   "source": [
    "## apply COMMIT to the generated tractography"
   ]
  },
  {
   "cell_type": "code",
   "execution_count": 23,
   "metadata": {},
   "outputs": [],
   "source": [
    "path_commit = '/home/zhiwei/Desktop/semester-projects/results_script1/COMMIT'\n",
    "path = '/home/zhiwei/Desktop/semester-projects/results_script1'"
   ]
  },
  {
   "cell_type": "code",
   "execution_count": 24,
   "metadata": {},
   "outputs": [],
   "source": [
    "trk_file_before = '/home/zhiwei/Desktop/semester-projects/results_script1/fibers_before_all.trk'"
   ]
  },
  {
   "cell_type": "code",
   "execution_count": 25,
   "metadata": {},
   "outputs": [
    {
     "name": "stdout",
     "output_type": "stream",
     "text": [
      "\n",
      "-> Creating the dictionary from tractogram:\n",
      "\t* Segment position = COMPUTE INTERSECTIONS\n",
      "\t* Fiber shift X    = 0.000 (voxel-size units)\n",
      "\t* Fiber shift Y    = 0.000 (voxel-size units)\n",
      "\t* Fiber shift Z    = 0.000 (voxel-size units)\n",
      "\t* Points to skip   = 0\n",
      "\t* Min segment len  = 1.00e-03\n",
      "\t* Do not blur fibers\n",
      "\t* Loading data:\n",
      "\t\t* tractogram\n",
      "\t\t\t- 28 x 26 x 5\n",
      "\t\t\t- 0.0990 x 0.0990 x 0.0990\n",
      "\t\t\t- 103000 fibers\n",
      "\t\t* no mask specified to filter IC compartments\n",
      "\t\t* no dataset specified for EC compartments\n",
      "\t\t* output written to \"/home/zhiwei/Desktop/semester-projects/results_script1/COMMIT\"\n",
      "\t* Generate tractogram matching the dictionary: \n",
      "\t  [ 102756 fibers kept ]\n",
      "   [ 15.5 seconds ]\n"
     ]
    }
   ],
   "source": [
    "from commit import trk2dictionary\n",
    "trk2dictionary.run(filename_trk   = trk_file_before ,path_out= path_commit )\n",
    "import commit\n",
    "commit.core.setup()"
   ]
  },
  {
   "cell_type": "code",
   "execution_count": 26,
   "metadata": {},
   "outputs": [],
   "source": [
    "mit=commit.Evaluation('.','results_script1')"
   ]
  },
  {
   "cell_type": "code",
   "execution_count": 27,
   "metadata": {},
   "outputs": [
    {
     "name": "stdout",
     "output_type": "stream",
     "text": [
      "\n",
      "-> Loading data:\n",
      "\t* DWI signal...\n",
      "\t\t- dim    = 191 x 178 x 39 x 1\n",
      "\t\t- pixdim = 0.015 x 0.015 x 0.015\n",
      "\t* Acquisition scheme...\n",
      "\t\t- 1 samples, 1 shells\n",
      "\t\t- 0 @ b=0 , 1 @ b=1000.0\n",
      "   [ 0.0 seconds ]\n",
      "\n",
      "-> Preprocessing:\n",
      "\t* There are no b0 volume(s) for normalization... [ min=0.00,  mean=0.26, max=27.00 ]\n",
      "   [ 0.0 seconds ]\n",
      "\n",
      "-> Simulating with \"Volume fractions\" model:\n",
      "   [ 0.0 seconds ]\n"
     ]
    }
   ],
   "source": [
    "mit.load_data('/home/zhiwei/Desktop/semester-projects/results_script1/syn_CLARITY.nii.gz','/home/zhiwei/Desktop/semester-projects/results_script1/BVECTOR.scheme')\n",
    "mit.set_model('VolumeFractions')\n",
    "hasISO=False\n",
    "mit.model.set(hasISO)\n",
    "mit.generate_kernels(regenerate=True)"
   ]
  },
  {
   "cell_type": "code",
   "execution_count": 28,
   "metadata": {},
   "outputs": [
    {
     "name": "stdout",
     "output_type": "stream",
     "text": [
      "\n",
      "-> Resampling LUT for subject \"results_script1\":\n",
      "\t* Keeping all b0 volume(s)... [ OK ]\n",
      "\t* Normalizing... [ OK ]\n",
      "   [ 0.1 seconds ]\n",
      "\n",
      "-> Loading the dictionary:\n",
      "\t* segments from the tracts... [ 102756 fibers and 5062543 segments ]\n",
      "\t* segments from the peaks...  [ 0 segments ]\n",
      "\t* isotropic contributions...  [ 3591 voxels ]\n",
      "\t* post-processing...          [ OK ]\n",
      "   [ 1.9 seconds ]\n",
      "\n",
      "-> Distributing workload to different threads:\n",
      "\t* number of threads : 1\n",
      "\t* A operator...  [ OK ]\n",
      "\t* A' operator... [ OK ]\n",
      "   [ 0.0 seconds ]\n"
     ]
    }
   ],
   "source": [
    "mit.load_kernels()\n",
    "mit.load_dictionary(path_commit)\n",
    "mit.set_threads(1)"
   ]
  },
  {
   "cell_type": "code",
   "execution_count": 29,
   "metadata": {},
   "outputs": [
    {
     "name": "stdout",
     "output_type": "stream",
     "text": [
      "\n",
      "-> Building linear operator A:\n",
      "   [ 4.4 seconds ]\n"
     ]
    }
   ],
   "source": [
    "mit.build_operator()"
   ]
  },
  {
   "cell_type": "code",
   "execution_count": 30,
   "metadata": {},
   "outputs": [
    {
     "name": "stdout",
     "output_type": "stream",
     "text": [
      "\n",
      "-> Fit model\n",
      "\n",
      "      |     ||Ax-y||     |  Cost function    Abs error      Rel error    |     Abs x          Rel x\n",
      "------|------------------|-----------------------------------------------|------------------------------\n",
      "   1  |   3.3978824e+03  |  5.7728025e+06  4.2028779e+07  7.2804811e+00  |  1.9580074e+02  1.0962577e+00\n",
      "   2  |   2.2944820e+03  |  2.6323239e+06  3.1404786e+06  1.1930442e+00  |  4.9795691e+01  3.5772116e-01\n",
      "   3  |   1.5742375e+03  |  1.2391119e+06  1.3932120e+06  1.1243633e+00  |  3.7264291e+01  3.4042360e-01\n",
      "   4  |   1.0829457e+03  |  5.8638573e+05  6.5272616e+05  1.1131344e+00  |  2.8597968e+01  3.2786143e-01\n",
      "   5  |   7.5722276e+02  |  2.8669315e+05  2.9969258e+05  1.0453427e+00  |  2.1533404e+01  3.0354126e-01\n",
      "   6  |   5.4605217e+02  |  1.4908649e+05  1.3760666e+05  9.2299888e-01  |  1.6051959e+01  2.7218167e-01\n",
      "   7  |   4.0503618e+02  |  8.2027154e+04  6.7059335e+04  8.1752606e-01  |  1.2254760e+01  2.4508493e-01\n",
      "   8  |   3.0922513e+02  |  4.7810089e+04  3.4217064e+04  7.1568711e-01  |  9.4640204e+00  2.1936183e-01\n",
      "   9  |   2.4267111e+02  |  2.9444635e+04  1.8365454e+04  6.2372839e-01  |  7.4295200e+00  1.9667903e-01\n",
      "  10  |   1.9468278e+02  |  1.8950692e+04  1.0493942e+04  5.5374982e-01  |  5.9625802e+00  1.7812249e-01\n",
      "  11  |   1.5901158e+02  |  1.2642342e+04  6.3083504e+03  4.9898591e-01  |  4.8789359e+00  1.6281359e-01\n",
      "  12  |   1.3185898e+02  |  8.6933949e+03  3.9489468e+03  4.5424680e-01  |  4.0669811e+00  1.5028954e-01\n",
      "  13  |   1.1084746e+02  |  6.1435801e+03  2.5498148e+03  4.1503729e-01  |  3.4228003e+00  1.3898471e-01\n",
      "  14  |   9.4379629e+01  |  4.4537572e+03  1.6898228e+03  3.7941512e-01  |  2.9108972e+00  1.2899575e-01\n",
      "  15  |   8.1356029e+01  |  3.3094017e+03  1.1443555e+03  3.4578925e-01  |  2.4928891e+00  1.1983890e-01\n",
      "  16  |   7.0912249e+01  |  2.5142735e+03  7.9512817e+02  3.1624569e-01  |  2.1606588e+00  1.1208023e-01\n",
      "  17  |   6.2429276e+01  |  1.9487073e+03  5.6556627e+02  2.9022639e-01  |  1.8857750e+00  1.0506089e-01\n",
      "  18  |   5.5474410e+01  |  1.5387051e+03  4.1000219e+02  2.6645924e-01  |  1.6534762e+00  9.8523868e-02\n",
      "  19  |   4.9772770e+01  |  1.2386643e+03  3.0004074e+02  2.4222926e-01  |  1.4583719e+00  9.2601500e-02\n",
      "  20  |   4.5035768e+01  |  1.0141102e+03  2.2455412e+02  2.2142969e-01  |  1.2962211e+00  8.7427925e-02\n",
      "  21  |   4.1061520e+01  |  8.4302421e+02  1.7108601e+02  2.0294317e-01  |  1.1589491e+00  8.2800912e-02\n",
      "  22  |   3.7690024e+01  |  7.1026896e+02  1.3275525e+02  1.8690843e-01  |  1.0467188e+00  7.9017639e-02\n",
      "  23  |   3.4789797e+01  |  6.0516500e+02  1.0510395e+02  1.7367818e-01  |  9.5102131e-01  7.5688323e-02\n",
      "  24  |   3.2282799e+01  |  5.2108954e+02  8.4075459e+01  1.6134551e-01  |  8.6828874e-01  7.2702023e-02\n",
      "  25  |   3.0108631e+01  |  4.5326484e+02  6.7824709e+01  1.4963594e-01  |  7.9442797e-01  6.9847123e-02\n",
      "  26  |   2.8218774e+01  |  3.9814961e+02  5.5115224e+01  1.3842842e-01  |  7.2993924e-01  6.7271142e-02\n",
      "  27  |   2.6559218e+01  |  3.5269602e+02  4.5453592e+01  1.2887469e-01  |  6.7288165e-01  6.4895543e-02\n",
      "  28  |   2.5097813e+01  |  3.1495012e+02  3.7745904e+01  1.1984725e-01  |  6.2284103e-01  6.2765056e-02\n",
      "  29  |   2.3803488e+01  |  2.8330303e+02  3.1647089e+01  1.1170756e-01  |  5.8005305e-01  6.0986883e-02\n",
      "  30  |   2.2658156e+01  |  2.5669601e+02  2.6607017e+01  1.0365185e-01  |  5.4052637e-01  5.9210331e-02\n",
      "  31  |   2.1639557e+01  |  2.3413520e+02  2.2560805e+01  9.6358021e-02  |  5.0593708e-01  5.7662403e-02\n",
      "  32  |   2.0731261e+01  |  2.1489260e+02  1.9242607e+01  8.9545232e-02  |  4.7407726e-01  5.6140445e-02\n",
      "  33  |   1.9921422e+01  |  1.9843153e+02  1.6461067e+01  8.2955904e-02  |  4.4486676e-01  5.4665516e-02\n",
      "  34  |   1.9200030e+01  |  1.8432058e+02  1.4110949e+01  7.6556557e-02  |  4.1691030e-01  5.3091133e-02\n",
      "  35  |   1.8555340e+01  |  1.7215032e+02  1.2170263e+01  7.0695558e-02  |  3.9328690e-01  5.1836903e-02\n",
      "  36  |   1.7973322e+01  |  1.6152016e+02  1.0630160e+01  6.5813207e-02  |  3.7243221e-01  5.0743752e-02\n",
      "  37  |   1.7449078e+01  |  1.5223516e+02  9.2849995e+00  6.0991164e-02  |  3.5258373e-01  4.9597270e-02\n",
      "  38  |   1.6976439e+01  |  1.4409974e+02  8.1354178e+00  5.6456852e-02  |  3.3399224e-01  4.8444824e-02\n",
      "  39  |   1.6548188e+01  |  1.3692127e+02  7.1784707e+00  5.2427725e-02  |  3.1774518e-01  4.7463541e-02\n",
      "  40  |   1.6164537e+01  |  1.3064613e+02  6.2751454e+00  4.8031623e-02  |  3.0050848e-01  4.6170298e-02\n",
      "  41  |   1.5820811e+01  |  1.2514903e+02  5.4970904e+00  4.3924353e-02  |  2.8404073e-01  4.4831054e-02\n",
      "  42  |   1.5508861e+01  |  1.2026239e+02  4.8866492e+00  4.0633230e-02  |  2.7081591e-01  4.3857164e-02\n",
      "  43  |   1.5226435e+01  |  1.1592216e+02  4.3402277e+00  3.7440881e-02  |  2.5791771e-01  4.2804912e-02\n",
      "  44  |   1.4970955e+01  |  1.1206474e+02  3.8574155e+00  3.4421312e-02  |  2.4505524e-01  4.1630015e-02\n",
      "  45  |   1.4738352e+01  |  1.0860952e+02  3.4552270e+00  3.1813299e-02  |  2.3408529e-01  4.0657603e-02\n",
      "  46  |   1.4526334e+01  |  1.0550720e+02  3.1023186e+00  2.9403858e-02  |  2.2411967e-01  3.9753177e-02\n",
      "  47  |   1.4332249e+01  |  1.0270668e+02  2.8005145e+00  2.7267111e-02  |  2.1520318e-01  3.8937442e-02\n",
      "  48  |   1.4153856e+01  |  1.0016582e+02  2.5408596e+00  2.5366532e-02  |  2.0739513e-01  3.8233928e-02\n",
      "  49  |   1.3989401e+01  |  9.7851675e+01  2.3141474e+00  2.3649543e-02  |  1.9957640e-01  3.7445245e-02\n",
      "  50  |   1.3837945e+01  |  9.5744367e+01  2.1073080e+00  2.2009733e-02  |  1.9190237e-01  3.6602832e-02\n",
      "  51  |   1.3699082e+01  |  9.3832420e+01  1.9119470e+00  2.0376187e-02  |  1.8412038e-01  3.5661668e-02\n",
      "  52  |   1.3571419e+01  |  9.2091705e+01  1.7407158e+00  1.8901982e-02  |  1.7642811e-01  3.4662656e-02\n",
      "  53  |   1.3454478e+01  |  9.0511483e+01  1.5802221e+00  1.7458802e-02  |  1.6979626e-01  3.3803244e-02\n",
      "  54  |   1.3347384e+01  |  8.9076325e+01  1.4351574e+00  1.6111547e-02  |  1.6319626e-01  3.2887435e-02\n",
      "  55  |   1.3248987e+01  |  8.7767826e+01  1.3084994e+00  1.4908646e-02  |  1.5656219e-01  3.1905413e-02\n",
      "  56  |   1.3158562e+01  |  8.6573871e+01  1.1939547e+00  1.3791167e-02  |  1.5015594e-01  3.0914765e-02\n",
      "  57  |   1.3075029e+01  |  8.5478197e+01  1.0956744e+00  1.2818174e-02  |  1.4505905e-01  3.0145250e-02\n",
      "  58  |   1.2997694e+01  |  8.4470026e+01  1.0081702e+00  1.1935242e-02  |  1.3992261e-01  2.9324579e-02\n",
      "  59  |   1.2925729e+01  |  8.3537234e+01  9.3279201e-01  1.1166183e-02  |  1.3418779e-01  2.8337652e-02\n",
      "  60  |   1.2858355e+01  |  8.2668651e+01  8.6858372e-01  1.0506809e-02  |  1.3030726e-01  2.7706460e-02\n",
      "  61  |   1.2794965e+01  |  8.1855560e+01  8.1309116e-01  9.9332429e-03  |  1.2694580e-01  2.7155519e-02\n",
      "  62  |   1.2735590e+01  |  8.1097625e+01  7.5793445e-01  9.3459512e-03  |  1.2324302e-01  2.6503670e-02\n",
      "  63  |   1.2679561e+01  |  8.0385633e+01  7.1199236e-01  8.8572092e-03  |  1.1871473e-01  2.5647447e-02\n",
      "  64  |   1.2626303e+01  |  7.9711758e+01  6.7387431e-01  8.4538884e-03  |  1.1459331e-01  2.4854516e-02\n",
      "  65  |   1.2575588e+01  |  7.9072706e+01  6.3905255e-01  8.0818349e-03  |  1.1229491e-01  2.4436304e-02\n",
      "  66  |   1.2527540e+01  |  7.8469628e+01  6.0307769e-01  7.6854919e-03  |  1.0959391e-01  2.3912389e-02\n",
      "  67  |   1.2482042e+01  |  7.7900687e+01  5.6894096e-01  7.3034139e-03  |  1.0682095e-01  2.3355899e-02\n",
      "  68  |   1.2438931e+01  |  7.7363501e+01  5.3718655e-01  6.9436692e-03  |  1.0454557e-01  2.2893052e-02\n",
      "  69  |   1.2397827e+01  |  7.6853053e+01  5.1044811e-01  6.6418717e-03  |  1.0225111e-01  2.2412390e-02\n",
      "  70  |   1.2358953e+01  |  7.6371854e+01  4.8119871e-01  6.3007336e-03  |  9.9668921e-02  2.1856336e-02\n",
      "  71  |   1.2322455e+01  |  7.5921453e+01  4.5040053e-01  5.9324541e-03  |  9.6933332e-02  2.1255700e-02\n",
      "  72  |   1.2287881e+01  |  7.5496007e+01  4.2544647e-01  5.6353506e-03  |  9.4221057e-02  2.0650800e-02\n",
      "  73  |   1.2254752e+01  |  7.5089474e+01  4.0653276e-01  5.4139780e-03  |  9.2468769e-02  2.0248106e-02\n",
      "  74  |   1.2222979e+01  |  7.4700609e+01  3.8886549e-01  5.2056536e-03  |  9.0937476e-02  1.9886387e-02\n",
      "  75  |   1.2192688e+01  |  7.4330824e+01  3.6978496e-01  4.9748535e-03  |  8.9276605e-02  1.9489791e-02\n",
      "  76  |   1.2163648e+01  |  7.3977171e+01  3.5365215e-01  4.7805579e-03  |  8.7763568e-02  1.9119796e-02\n"
     ]
    },
    {
     "name": "stdout",
     "output_type": "stream",
     "text": [
      "  77  |   1.2135917e+01  |  7.3640246e+01  3.3692593e-01  4.5752962e-03  |  8.6003260e-02  1.8691180e-02\n",
      "  78  |   1.2109355e+01  |  7.3318237e+01  3.2200858e-01  4.3919302e-03  |  8.4650719e-02  1.8347183e-02\n",
      "  79  |   1.2083889e+01  |  7.3010189e+01  3.0804747e-01  4.2192394e-03  |  8.3165922e-02  1.7971127e-02\n",
      "  80  |   1.2059609e+01  |  7.2717080e+01  2.9310950e-01  4.0308205e-03  |  8.1221055e-02  1.7493425e-02\n",
      "  81  |   1.2036396e+01  |  7.2437416e+01  2.7966405e-01  3.8607679e-03  |  7.9780630e-02  1.7122858e-02\n",
      "  82  |   1.2013989e+01  |  7.2167967e+01  2.6944887e-01  3.7336353e-03  |  7.8658962e-02  1.6819167e-02\n",
      "  83  |   1.1992340e+01  |  7.1908115e+01  2.5985194e-01  3.6136663e-03  |  7.7399420e-02  1.6484829e-02\n",
      "  84  |   1.1971372e+01  |  7.1656878e+01  2.5123670e-01  3.5061072e-03  |  7.6375724e-02  1.6199927e-02\n",
      "  85  |   1.1950994e+01  |  7.1413126e+01  2.4375264e-01  3.4132750e-03  |  7.5569489e-02  1.5960354e-02\n",
      "  86  |   1.1931290e+01  |  7.1177838e+01  2.3528804e-01  3.3056362e-03  |  7.4404388e-02  1.5644667e-02\n",
      "  87  |   1.1912396e+01  |  7.0952586e+01  2.2525162e-01  3.1746781e-03  |  7.3088711e-02  1.5297842e-02\n",
      "  88  |   1.1894131e+01  |  7.0735180e+01  2.1740578e-01  3.0735170e-03  |  7.2121651e-02  1.5024664e-02\n",
      "  89  |   1.1876401e+01  |  7.0524448e+01  2.1073233e-01  2.9880748e-03  |  7.1023002e-02  1.4724822e-02\n",
      "  90  |   1.1859270e+01  |  7.0321145e+01  2.0330323e-01  2.8910683e-03  |  7.0044271e-02  1.4450868e-02\n",
      "  91  |   1.1842519e+01  |  7.0122624e+01  1.9852048e-01  2.8310475e-03  |  6.9378818e-02  1.4242349e-02\n",
      "  92  |   1.1826090e+01  |  6.9928197e+01  1.9442773e-01  2.7803910e-03  |  6.8727244e-02  1.4037314e-02\n",
      "  93  |   1.1810053e+01  |  6.9738676e+01  1.8952029e-01  2.7175780e-03  |  6.7936454e-02  1.3804750e-02\n",
      "  94  |   1.1794479e+01  |  6.9554870e+01  1.8380608e-01  2.6426055e-03  |  6.6873066e-02  1.3518274e-02\n",
      "  95  |   1.1779452e+01  |  6.9377740e+01  1.7713013e-01  2.5531262e-03  |  6.5869529e-02  1.3245747e-02\n",
      "  96  |   1.1764767e+01  |  6.9204869e+01  1.7287066e-01  2.4979551e-03  |  6.5292346e-02  1.3060412e-02\n",
      "  97  |   1.1750474e+01  |  6.9036825e+01  1.6804430e-01  2.4341255e-03  |  6.4371806e-02  1.2807846e-02\n",
      "  98  |   1.1736645e+01  |  6.8874413e+01  1.6241216e-01  2.3580914e-03  |  6.3412192e-02  1.2549452e-02\n",
      "  99  |   1.1723202e+01  |  6.8716728e+01  1.5768491e-01  2.2947092e-03  |  6.2659728e-02  1.2333913e-02\n",
      " 100  |   1.1710143e+01  |  6.8563729e+01  1.5299946e-01  2.2314926e-03  |  6.1940484e-02  1.2126583e-02\n",
      " 101  |   1.1697496e+01  |  6.8415705e+01  1.4802372e-01  2.1635927e-03  |  6.1109786e-02  1.1899244e-02\n",
      " 102  |   1.1685346e+01  |  6.8273657e+01  1.4204766e-01  2.0805633e-03  |  6.0120196e-02  1.1643129e-02\n",
      " 103  |   1.1673489e+01  |  6.8135177e+01  1.3848069e-01  2.0324404e-03  |  5.9406949e-02  1.1442627e-02\n",
      " 104  |   1.1661948e+01  |  6.8000517e+01  1.3465915e-01  1.9802665e-03  |  5.8759512e-02  1.1256565e-02\n",
      " 105  |   1.1651251e+01  |  6.7875830e+01  1.2468686e-01  1.8369846e-03  |  5.7217915e-02  1.0901884e-02\n",
      " 106  |   1.1640747e+01  |  6.7753496e+01  1.2233478e-01  1.8055863e-03  |  5.6647419e-02  1.0734868e-02\n",
      " 107  |   1.1630454e+01  |  6.7633729e+01  1.1976706e-01  1.7708186e-03  |  5.6091696e-02  1.0572273e-02\n",
      " 108  |   1.1620561e+01  |  6.7518718e+01  1.1501047e-01  1.7033865e-03  |  5.5101977e-02  1.0329938e-02\n",
      " 109  |   1.1610914e+01  |  6.7406663e+01  1.1205508e-01  1.6623739e-03  |  5.4671607e-02  1.0194411e-02\n",
      " 110  |   1.1601608e+01  |  6.7298654e+01  1.0800875e-01  1.6049169e-03  |  5.3977896e-02  1.0011429e-02\n",
      " 111  |   1.1592457e+01  |  6.7192530e+01  1.0612388e-01  1.5794000e-03  |  5.3616271e-02  9.8916233e-03\n",
      " 112  |   1.1583468e+01  |  6.7088366e+01  1.0416417e-01  1.5526413e-03  |  5.3322387e-02  9.7854952e-03\n",
      " 113  |   1.1574663e+01  |  6.6986415e+01  1.0195121e-01  1.5219684e-03  |  5.2958714e-02  9.6677299e-03\n",
      " 114  |   1.1566409e+01  |  6.6890906e+01  9.5509483e-02  1.4278396e-03  |  5.2068034e-02  9.4554961e-03\n",
      " 115  |   1.1558776e+01  |  6.6802654e+01  8.8251609e-02  1.3210794e-03  |  5.0901663e-02  9.1957094e-03\n",
      " 116  |   1.1551330e+01  |  6.6716609e+01  8.6045251e-02  1.2897126e-03  |  5.0625378e-02  9.0986585e-03\n",
      " 117  |   1.1544077e+01  |  6.6632854e+01  8.3754876e-02  1.2569607e-03  |  5.0039106e-02  8.9472722e-03\n",
      " 118  |   1.1537176e+01  |  6.6553219e+01  7.9635015e-02  1.1965614e-03  |  4.9219259e-02  8.7559886e-03\n",
      " 119  |   1.1530642e+01  |  6.6477848e+01  7.5370612e-02  1.1337703e-03  |  4.8579599e-02  8.5986678e-03\n",
      " 120  |   1.1524635e+01  |  6.6408603e+01  6.9245321e-02  1.0427161e-03  |  4.7565049e-02  8.3770603e-03\n",
      " 121  |   1.1518922e+01  |  6.6342779e+01  6.5824369e-02  9.9218590e-04  |  4.6922723e-02  8.2230738e-03\n",
      "< Stopping criterion: Relative tolerance on the objective >\n",
      "   [ 00h 00m 12s ]\n"
     ]
    }
   ],
   "source": [
    "mit.fit(max_iter = 100000000)\n",
    "## mit.fit(tol_fun = 1e-7, max_iter = 100000000)"
   ]
  },
  {
   "cell_type": "code",
   "execution_count": 31,
   "metadata": {
    "scrolled": true
   },
   "outputs": [
    {
     "name": "stdout",
     "output_type": "stream",
     "text": [
      "\n",
      "-> Saving results to \"Results_VolumeFractions/*\":\n",
      "\t* configuration and results:\n",
      "\t\t- pickle...  [ OK ]\n",
      "\t\t- txt...  [ OK ]\n",
      "\t* fitting errors:\n",
      "\t\t- RMSE...  [ 0.063 +/- 0.182 ]\n",
      "\t\t- NRMSE... [ 0.019 +/- 0.111 ]\n",
      "\t* voxelwise contributions:\n",
      "\t\t- intra-axonal [ OK ]\n",
      "\t\t- extra-axonal [ OK ]\n",
      "\t\t- isotropic    [ OK ]\n",
      "   [ 0.9 seconds ]\n"
     ]
    }
   ],
   "source": [
    "mit.save_results(save_coeff=True)"
   ]
  },
  {
   "cell_type": "markdown",
   "metadata": {},
   "source": [
    "## start change"
   ]
  },
  {
   "cell_type": "code",
   "execution_count": 266,
   "metadata": {},
   "outputs": [],
   "source": [
    "trk_file = os.path.join(path_commit,'dictionary_TRK_fibers.trk')\n",
    "fib_tmp,trk_hdr_tmp=nib.trackvis.read(trk_file)"
   ]
  },
  {
   "cell_type": "markdown",
   "metadata": {},
   "source": [
    "## generate tractography after applying COMMIT with weight > 0, and get fib_after,hdr_after"
   ]
  },
  {
   "cell_type": "code",
   "execution_count": 267,
   "metadata": {},
   "outputs": [],
   "source": [
    "f = open('/home/zhiwei/Desktop/semester-projects/results_script1/COMMIT/Results_VolumeFractions/xic.txt')\n"
   ]
  },
  {
   "cell_type": "code",
   "execution_count": 268,
   "metadata": {},
   "outputs": [],
   "source": [
    "import heapq\n",
    "data = f.read().splitlines()\n",
    "data = map(eval,data)\n",
    "max_index_list = map(data.index, heapq.nlargest(2089,data))\n",
    "\n",
    "#j=01\n",
    "#for items in range(len(fib_tmp)-1,-1,-1):\n",
    "#    if data[j] == 0:\n",
    "#        del fib_tmp[items]\n",
    "#    j=j+1\n",
    "#nib.trackvis.write('fibers_after.trk',fib_tmp,trk_hdr_tmp)"
   ]
  },
  {
   "cell_type": "code",
   "execution_count": 269,
   "metadata": {},
   "outputs": [],
   "source": [
    "j=0\n",
    "for items in range(len(fib_tmp)-1,-1,-1):\n",
    "    if items not in max_index_list:\n",
    "        del fib_tmp[items]\n",
    "nib.trackvis.write('fibers_after.trk',fib_tmp,trk_hdr_tmp)"
   ]
  },
  {
   "cell_type": "code",
   "execution_count": 270,
   "metadata": {},
   "outputs": [],
   "source": [
    "fib_after,hdr_after=nib.trackvis.read('/home/zhiwei/Desktop/semester-projects/results_script1/fibers_after.trk')"
   ]
  },
  {
   "cell_type": "code",
   "execution_count": 271,
   "metadata": {},
   "outputs": [
    {
     "data": {
      "text/plain": [
       "2089"
      ]
     },
     "execution_count": 271,
     "metadata": {},
     "output_type": "execute_result"
    }
   ],
   "source": [
    "len(fib_after)"
   ]
  },
  {
   "cell_type": "code",
   "execution_count": 272,
   "metadata": {},
   "outputs": [
    {
     "data": {
      "text/plain": [
       "2089"
      ]
     },
     "execution_count": 272,
     "metadata": {},
     "output_type": "execute_result"
    }
   ],
   "source": [
    "len(data)-data.count(0)"
   ]
  },
  {
   "cell_type": "code",
   "execution_count": 273,
   "metadata": {},
   "outputs": [
    {
     "data": {
      "text/plain": [
       "0"
      ]
     },
     "execution_count": 273,
     "metadata": {},
     "output_type": "execute_result"
    }
   ],
   "source": [
    "CMD = 'TractConverter.py -i fibers_after.trk -o fibers_after.tck -a fsltensor_ftrial_FA.nii.gz'\n",
    "subprocess.call(CMD,shell = True)"
   ]
  },
  {
   "cell_type": "code",
   "execution_count": 274,
   "metadata": {},
   "outputs": [
    {
     "data": {
      "text/plain": [
       "0"
      ]
     },
     "execution_count": 274,
     "metadata": {},
     "output_type": "execute_result"
    }
   ],
   "source": [
    "CMD='tckmap fibers_after.tck syn_CLARITY_after.nii.gz -vox 0.015'\n",
    "subprocess.call(CMD, shell = True)"
   ]
  },
  {
   "cell_type": "markdown",
   "metadata": {},
   "source": [
    "## downsample fibers(before/after) to the original one, take mean distance and std as measurement"
   ]
  },
  {
   "cell_type": "markdown",
   "metadata": {},
   "source": [
    "## downsample the fibers and get tracks_before, tracks_after, tracks_original"
   ]
  },
  {
   "cell_type": "code",
   "execution_count": 275,
   "metadata": {},
   "outputs": [],
   "source": [
    "fib_before,hdr_before=nib.trackvis.read('/home/zhiwei/Desktop/semester-projects/results_script1/fibers_before_all.trk')"
   ]
  },
  {
   "cell_type": "code",
   "execution_count": 276,
   "metadata": {},
   "outputs": [],
   "source": [
    "from dipy.tracking.metrics import downsample\n",
    "import random\n",
    "tracks_after = [downsample(fib_after[i][0],7) for i in range(len(fib_after))]\n",
    "tracks_original = [downsample(fib_original[i][0],7) for i in range(len(fib_original))]\n",
    "## generate a random list to get equal number of fibers from fib before COMMIT\n",
    "list = range(len(fib_before))\n",
    "slice2 = random.sample(list, len(fib_after))\n",
    "tracks_before = [downsample(fib_before[i][0],7) for i in slice2]"
   ]
  },
  {
   "cell_type": "code",
   "execution_count": 277,
   "metadata": {},
   "outputs": [],
   "source": [
    "## generate a random list to get equal number of fibers from fib before COMMIT\n",
    "number_of_trials=20\n",
    "list = range(len(fib_before))\n",
    "slice1 = np.zeros((number_of_trials,len(fib_after)),dtype=int)\n",
    "tracks_before1 = np.zeros((number_of_trials,len(fib_after),7,3))\n",
    "DM_before1 = np.zeros((number_of_trials,len(fib_after),3000))\n",
    "minD_before1 = np.zeros((number_of_trials,len(fib_after)))\n",
    "for i in range(number_of_trials):\n",
    "    slice1[i] = random.sample(list, len(fib_after))\n",
    "    tracks_before1[i] = [downsample(fib_before[j][0],7) for j in slice1[i]]\n",
    "    DM_before1[i] = bundles_distances_mdf(tracks_before1[i], tracks_original)\n",
    "    minD_before1[i] = [min(DM_before1[i,j,:]) for j in range(len(DM_before1[i]))]"
   ]
  },
  {
   "cell_type": "code",
   "execution_count": null,
   "metadata": {},
   "outputs": [],
   "source": [
    "meanD_before = np.zeros(number_of_trials)\n",
    "stdD_before = np.zeros(number_of_trials)\n",
    "for i in range(number_of_trials):\n",
    "    meanD_before[i]= np.mean(minD_before1[i])\n",
    "    stdD_before[i]= np.std(minD_before1[i])\n"
   ]
  },
  {
   "cell_type": "code",
   "execution_count": null,
   "metadata": {},
   "outputs": [],
   "source": []
  },
  {
   "cell_type": "code",
   "execution_count": null,
   "metadata": {},
   "outputs": [],
   "source": []
  },
  {
   "cell_type": "code",
   "execution_count": 278,
   "metadata": {},
   "outputs": [
    {
     "data": {
      "text/plain": [
       "(2089, 3000)"
      ]
     },
     "execution_count": 278,
     "metadata": {},
     "output_type": "execute_result"
    }
   ],
   "source": [
    "DM_before1.shape"
   ]
  },
  {
   "cell_type": "markdown",
   "metadata": {},
   "source": [
    "## compare tracks_after and tracks_before with tracks_original with mean distance and STD"
   ]
  },
  {
   "cell_type": "code",
   "execution_count": 279,
   "metadata": {},
   "outputs": [],
   "source": [
    "meanD_before = np.zeros(number_of_trials)\n",
    "stdD_before = np.zeros(number_of_trials)\n",
    "for i in range(number_of_trials):\n",
    "    meanD_before[i]= np.mean(minD_before1[i])\n",
    "    stdD_before[i]= np.std(minD_before1[i])\n"
   ]
  },
  {
   "cell_type": "code",
   "execution_count": 280,
   "metadata": {},
   "outputs": [
    {
     "data": {
      "text/plain": [
       "0.1379378595130403"
      ]
     },
     "execution_count": 280,
     "metadata": {},
     "output_type": "execute_result"
    }
   ],
   "source": [
    "meanD_before_all = np.mean(meanD_before)\n",
    "stdD_before_all = np.mean(stdD_before)\n",
    "meanD_after= np.mean(minD_after)\n",
    "stdD_after= np.std(minD_after)"
   ]
  },
  {
   "cell_type": "code",
   "execution_count": null,
   "metadata": {},
   "outputs": [],
   "source": [
    "meanD_after"
   ]
  },
  {
   "cell_type": "code",
   "execution_count": 281,
   "metadata": {},
   "outputs": [
    {
     "data": {
      "text/plain": [
       "0.19356694179393133"
      ]
     },
     "execution_count": 281,
     "metadata": {},
     "output_type": "execute_result"
    }
   ],
   "source": [
    "meanD_before_all"
   ]
  },
  {
   "cell_type": "markdown",
   "metadata": {},
   "source": []
  },
  {
   "cell_type": "markdown",
   "metadata": {},
   "source": [
    "## Compare on a voxel level"
   ]
  },
  {
   "cell_type": "markdown",
   "metadata": {},
   "source": [
    "original resolution -- 0.015mm"
   ]
  },
  {
   "cell_type": "code",
   "execution_count": 282,
   "metadata": {},
   "outputs": [],
   "source": [
    "for items in range(len(fib_before)-1,-1,-1):\n",
    "    if items not in slice2:\n",
    "        del fib_before[items]\n",
    "    j=j+1\n",
    "nib.trackvis.write('fibers_before.trk',fib_before,hdr_before)"
   ]
  },
  {
   "cell_type": "code",
   "execution_count": 283,
   "metadata": {},
   "outputs": [],
   "source": [
    "fib_before,hdr_before=nib.trackvis.read('/home/zhiwei/Desktop/semester-projects/results_script1/fibers_before.trk')"
   ]
  },
  {
   "cell_type": "code",
   "execution_count": 284,
   "metadata": {},
   "outputs": [
    {
     "data": {
      "text/plain": [
       "2089"
      ]
     },
     "execution_count": 284,
     "metadata": {},
     "output_type": "execute_result"
    }
   ],
   "source": [
    "len(fib_before)"
   ]
  },
  {
   "cell_type": "code",
   "execution_count": 285,
   "metadata": {},
   "outputs": [
    {
     "data": {
      "text/plain": [
       "0"
      ]
     },
     "execution_count": 285,
     "metadata": {},
     "output_type": "execute_result"
    }
   ],
   "source": [
    "CMD = 'TractConverter.py -i fibers_before.trk -o fibers_before.tck -a fsltensor_ftrial_FA.nii.gz'\n",
    "subprocess.call(CMD,shell = True)"
   ]
  },
  {
   "cell_type": "code",
   "execution_count": 286,
   "metadata": {},
   "outputs": [
    {
     "data": {
      "text/plain": [
       "0"
      ]
     },
     "execution_count": 286,
     "metadata": {},
     "output_type": "execute_result"
    }
   ],
   "source": [
    "CMD='tckmap fibers_before.tck syn_CLARITY_random.nii.gz -vox 0.015' \n",
    "subprocess.call(CMD, shell = True)"
   ]
  },
  {
   "cell_type": "code",
   "execution_count": 287,
   "metadata": {},
   "outputs": [],
   "source": [
    "data_original = nib.load('syn_CLARITY.nii.gz')\n",
    "data_before = nib.load('syn_CLARITY_random.nii.gz')\n",
    "data_after = nib.load('syn_CLARITY_after.nii.gz')\n",
    "original = data_original.get_fdata()\n",
    "random = data_before.get_fdata()\n",
    "after = data_after.get_fdata()\n",
    "\n",
    "## normalization\n",
    "sum_original = sum(sum(sum(data_original.get_fdata())))\n",
    "sum_before = sum(sum(sum(data_before.get_fdata())))\n",
    "sum_after = sum(sum(sum(data_after.get_fdata())))\n",
    "volume_original = data_original.get_fdata()/sum_original\n",
    "volume_before = data_before.get_fdata()/sum_before\n",
    "volume_after = data_after.get_fdata()/sum_after"
   ]
  },
  {
   "cell_type": "markdown",
   "metadata": {},
   "source": [
    "## correlation measure to conduct grey level matching"
   ]
  },
  {
   "cell_type": "markdown",
   "metadata": {},
   "source": [
    "center_original = (original-sum_original/(191*178*39)).flatten()\n",
    "center_before = (random - sum_before/(191*178*39)).flatten()\n",
    "center_after = (after - sum_after/(191*178*39)).flatten()"
   ]
  },
  {
   "cell_type": "markdown",
   "metadata": {},
   "source": [
    "module_original = np.sqrt(np.dot(center_original,center_original))\n",
    "module_before = np.sqrt(np.dot(center_before,center_before))\n",
    "module_after = np.sqrt(np.dot(center_after,center_after))"
   ]
  },
  {
   "cell_type": "markdown",
   "metadata": {},
   "source": [
    "random_coef = np.dot(center_original.flatten(),center_before.flatten())/(module_original*module_before)\n",
    "COMMIT_coef = np.dot(center_original.flatten(),center_after.flatten())/(module_original*module_after)"
   ]
  },
  {
   "cell_type": "markdown",
   "metadata": {},
   "source": [
    "print(random_coef)\n",
    "print(COMMIT_coef)"
   ]
  },
  {
   "cell_type": "code",
   "execution_count": 288,
   "metadata": {},
   "outputs": [],
   "source": [
    "square_error_before = compClarity(volume_before, volume_original)\n",
    "square_error_after = compClarity(volume_after, volume_original)"
   ]
  },
  {
   "cell_type": "code",
   "execution_count": 289,
   "metadata": {},
   "outputs": [
    {
     "name": "stdout",
     "output_type": "stream",
     "text": [
      "1.7092299958069348\n",
      "1.7864137696315068\n"
     ]
    }
   ],
   "source": [
    "print(square_error_before)\n",
    "print(square_error_after)"
   ]
  },
  {
   "cell_type": "markdown",
   "metadata": {},
   "source": [
    "## change the resolution here"
   ]
  },
  {
   "cell_type": "markdown",
   "metadata": {},
   "source": [
    "resolution based on mean distance after COMMIT"
   ]
  },
  {
   "cell_type": "markdown",
   "metadata": {
    "scrolled": true
   },
   "source": [
    "CMD='tckmap origin0.015.tck syn_CLARITY_COMMIT_res.nii.gz -vox 0.195' \n",
    "subprocess.call(CMD, shell = True)"
   ]
  },
  {
   "cell_type": "markdown",
   "metadata": {},
   "source": [
    "CMD='tckmap fibers_after.tck syn_CLARITY_after_COMMIT_res.nii.gz -vox 0.195'\n",
    "subprocess.call(CMD, shell = True)"
   ]
  },
  {
   "cell_type": "markdown",
   "metadata": {},
   "source": [
    "CMD='tckmap fibers_before.tck syn_CLARITY_random_COMMIT_res.nii.gz -vox 0.195'\n",
    "subprocess.call(CMD, shell = True)"
   ]
  },
  {
   "cell_type": "markdown",
   "metadata": {},
   "source": [
    "data_original_COMMIT_res = nib.load('syn_CLARITY_COMMIT_res.nii.gz')\n",
    "data_before_COMMIT_res = nib.load('syn_CLARITY_random_COMMIT_res.nii.gz')\n",
    "data_after_COMMIT_res = nib.load('syn_CLARITY_after_COMMIT_res.nii.gz')\n",
    "## normalization\n",
    "sum_original_COMMIT_res = sum(sum(sum(data_original_COMMIT_res.get_fdata())))\n",
    "sum_before_COMMIT_res = sum(sum(sum(data_before_COMMIT_res.get_fdata())))\n",
    "sum_after_COMMIT_res = sum(sum(sum(data_after_COMMIT_res.get_fdata())))\n",
    "volume_original_COMMIT_res = data_original_COMMIT_res.get_fdata()/sum_original_COMMIT_res\n",
    "volume_before_COMMIT_res = data_before_COMMIT_res.get_fdata()/sum_before_COMMIT_res\n",
    "volume_after_COMMIT_res = data_after_COMMIT_res.get_fdata()/sum_after_COMMIT_res"
   ]
  },
  {
   "cell_type": "markdown",
   "metadata": {},
   "source": [
    "square_error_before_COMMIT_res = compClarity(volume_before_COMMIT_res, volume_original_COMMIT_res)\n",
    "square_error_after_COMMIT_res = compClarity(volume_after_COMMIT_res, volume_original_COMMIT_res)"
   ]
  },
  {
   "cell_type": "markdown",
   "metadata": {},
   "source": [
    "## Compare on a voxel level - binary"
   ]
  },
  {
   "cell_type": "markdown",
   "metadata": {},
   "source": [
    "original resolution -- 0.015mm"
   ]
  },
  {
   "cell_type": "code",
   "execution_count": 290,
   "metadata": {},
   "outputs": [],
   "source": [
    "def binarize(volume):\n",
    "    volume_prime = np.zeros([len(volume),len(volume[1]),len(volume[1][1])])\n",
    "    for x in range(len(volume)):\n",
    "        for y in range(len(volume[1])):\n",
    "            for z in range(len(volume[1][1])):\n",
    "                if volume[x,y,z]!=0:\n",
    "                    volume_prime[x,y,z]=1\n",
    "    return volume_prime"
   ]
  },
  {
   "cell_type": "code",
   "execution_count": 291,
   "metadata": {},
   "outputs": [],
   "source": [
    "Volume_Original = binarize(volume_original)\n",
    "Volume_Before = binarize(volume_before)\n",
    "Volume_After = binarize(volume_after)\n",
    "error_before = compClarity(Volume_Before, Volume_Original)\n",
    "error_after = compClarity(Volume_After, Volume_Original)"
   ]
  },
  {
   "cell_type": "code",
   "execution_count": 292,
   "metadata": {},
   "outputs": [
    {
     "name": "stdout",
     "output_type": "stream",
     "text": [
      "292594.0\n",
      "248308.0\n"
     ]
    }
   ],
   "source": [
    "print(error_before)\n",
    "print(error_after)"
   ]
  },
  {
   "cell_type": "code",
   "execution_count": 293,
   "metadata": {},
   "outputs": [],
   "source": [
    "affine=nib.load('/home/zhiwei/Desktop/semester-projects/results_script1/fsltensor_ftrial_FA.nii.gz')\n",
    "imgR=nib.Nifti1Image(volume_before,affine.affine)\n",
    "nib.save(imgR,'RNB')\n",
    "imgR=nib.Nifti1Image(Volume_Before,affine.affine)\n",
    "nib.save(imgR,'RB')\n",
    "imgA=nib.Nifti1Image(volume_after,affine.affine)\n",
    "nib.save(imgA,'CNB')\n",
    "imga=nib.Nifti1Image(Volume_After,affine.affine)\n",
    "nib.save(imga,'CB')\n",
    "imgGT=nib.Nifti1Image(volume_original,affine.affine)\n",
    "nib.save(imgA,'GTNB')\n",
    "imga=nib.Nifti1Image(Volume_Original,affine.affine)\n",
    "nib.save(imga,'GTB')"
   ]
  },
  {
   "cell_type": "markdown",
   "metadata": {},
   "source": [
    "\n",
    "## change the resolution here"
   ]
  },
  {
   "cell_type": "markdown",
   "metadata": {},
   "source": [
    "COMMIT resolution 0.186"
   ]
  },
  {
   "cell_type": "markdown",
   "metadata": {},
   "source": [
    "Volume_Original_COMMIT_res = binarize(volume_original_COMMIT_res)\n",
    "Volume_Before_COMMIT_res = binarize(volume_before_COMMIT_res)\n",
    "Volume_After_COMMIT_res = binarize(volume_after_COMMIT_res)\n",
    "error_before_COMMIT_res = compClarity(Volume_Before_COMMIT_res, Volume_Original_COMMIT_res)\n",
    "error_after_COMMIT_res = compClarity(Volume_After_COMMIT_res, Volume_Original_COMMIT_res)"
   ]
  },
  {
   "cell_type": "markdown",
   "metadata": {},
   "source": [
    "## save results"
   ]
  },
  {
   "cell_type": "code",
   "execution_count": 260,
   "metadata": {},
   "outputs": [
    {
     "name": "stdout",
     "output_type": "stream",
     "text": [
      "/home/zhiwei/Desktop/semester-projects\n"
     ]
    }
   ],
   "source": [
    "cd .."
   ]
  },
  {
   "cell_type": "code",
   "execution_count": 261,
   "metadata": {},
   "outputs": [],
   "source": [
    "f = open('forPPT.txt','a') \n",
    "f.write('\\n\\n\\n\\n')\n",
    "f.write('500')\n",
    "f.write('\\n\\n    meanD_random is '+ str(meanD_before_all))\n",
    "f.write('\\n    meanD_COMMIT is '+str(meanD_after))\n",
    "f.write('\\n\\n    stdD_random is '+str(stdD_before))\n",
    "f.write('\\n    stdD_COMMIT is '+str(stdD_after))\n",
    "f.write('\\n\\n    B_error_random is '+str(error_before))\n",
    "f.write('\\n    B_error_COMMIT is '+str(error_after))\n",
    "f.write('\\n\\n    NB_error_random is '+str(square_error_before))\n",
    "f.write('\\n    NB_error_COMMIT is '+str(square_error_after))\n",
    "f.close()"
   ]
  },
  {
   "cell_type": "markdown",
   "metadata": {},
   "source": [
    "cd results_script1"
   ]
  },
  {
   "cell_type": "markdown",
   "metadata": {},
   "source": [
    "file_script = 'results1'\n",
    "if not os.path.exists(file_script):\n",
    "    os.mkdir(file_script)"
   ]
  },
  {
   "cell_type": "markdown",
   "metadata": {},
   "source": [
    "shutil.copy('/home/zhiwei/Desktop/semester-projects/results_script1/fibers_after.tck','results1')\n",
    "shutil.copy('/home/zhiwei/Desktop/semester-projects/results_script1/fibers_after.trk','results1')\n",
    "shutil.copy('/home/zhiwei/Desktop/semester-projects/results_script1/fibers_before.tck','results1')\n",
    "shutil.copy('/home/zhiwei/Desktop/semester-projects/results_script1/syn_CLARITY_after.nii.gz','results1')\n",
    "shutil.copy('/home/zhiwei/Desktop/semester-projects/results_script1/syn_CLARITY_random.nii.gz','results1')\n",
    "shutil.copy('/home/zhiwei/Desktop/semester-projects/results_script1/fibers_before.trk','results1')"
   ]
  },
  {
   "cell_type": "markdown",
   "metadata": {},
   "source": [
    "os.remove('/home/zhiwei/Desktop/semester-projects/results_script1/fibers_after.tck')\n",
    "os.remove('/home/zhiwei/Desktop/semester-projects/results_script1/fibers_after.trk')\n",
    "os.remove('/home/zhiwei/Desktop/semester-projects/results_script1/fibers_before.tck')\n",
    "os.remove('/home/zhiwei/Desktop/semester-projects/results_script1/syn_CLARITY_after.nii.gz')\n",
    "os.remove('/home/zhiwei/Desktop/semester-projects/results_script1/syn_CLARITY_random.nii.gz')\n",
    "os.remove('/home/zhiwei/Desktop/semester-projects/results_script1/fibers_before.trk')"
   ]
  },
  {
   "cell_type": "markdown",
   "metadata": {},
   "source": [
    "f = open('VOXEL_B_random_COMMIT.txt','a')\n",
    "f.write(str(error_before)+', ')\n",
    "f.write(str(error_after)+', ')\n",
    "f.close()"
   ]
  },
  {
   "cell_type": "markdown",
   "metadata": {},
   "source": [
    "f = open('VOXEL_NB_random_commit.txt','a')\n",
    "f.write(str(square_error_before)+', ')\n",
    "f.write(str(square_error_after)+', ')\n",
    "f.close()\n"
   ]
  },
  {
   "cell_type": "markdown",
   "metadata": {},
   "source": [
    "f = open('coef_random_COMMIT.txt','a')\n",
    "f.write(str(random_coef)+', ')\n",
    "f.write(str(COMMIT_coef)+', ')\n",
    "f.close()"
   ]
  },
  {
   "cell_type": "markdown",
   "metadata": {},
   "source": [
    "f = open('meanD_std3000.txt','a')\n",
    "f.write('\\n')\n",
    "f.write('compare tractography on a voxel level_COMMIT_res - BINARIZATION:')\n",
    "f.write('\\nerror random: ' + str(error_before_COMMIT_res))\n",
    "f.write('\\nerror COMMIT: ' + str(error_after_COMMIT_res)) \n",
    "f.write('\\n\\n')\n",
    "f.close()"
   ]
  },
  {
   "cell_type": "markdown",
   "metadata": {},
   "source": [
    "f = open('meanD_std3000.txt','a')\n",
    "f.write('\\n')\n",
    "f.write('compare tractography on a voxel level_COMMIT_res- non-BINARIZATION:')\n",
    "f.write('\\nsquare error random: ' + str(square_error_before_COMMIT_res))\n",
    "f.write('\\nsquare error COMMIT: ' + str(square_error_after_COMMIT_res)) \n",
    "f.write('\\n\\n\\n\\n\\n')\n",
    "f.close()"
   ]
  },
  {
   "cell_type": "code",
   "execution_count": null,
   "metadata": {},
   "outputs": [],
   "source": [
    "os.rename('results_script1','5_PERCENTER_%d'%order)"
   ]
  },
  {
   "cell_type": "code",
   "execution_count": null,
   "metadata": {},
   "outputs": [],
   "source": []
  },
  {
   "cell_type": "code",
   "execution_count": null,
   "metadata": {},
   "outputs": [],
   "source": []
  },
  {
   "cell_type": "code",
   "execution_count": null,
   "metadata": {},
   "outputs": [],
   "source": []
  },
  {
   "cell_type": "code",
   "execution_count": null,
   "metadata": {},
   "outputs": [],
   "source": []
  },
  {
   "cell_type": "code",
   "execution_count": null,
   "metadata": {},
   "outputs": [],
   "source": []
  },
  {
   "cell_type": "code",
   "execution_count": null,
   "metadata": {},
   "outputs": [],
   "source": []
  },
  {
   "cell_type": "code",
   "execution_count": null,
   "metadata": {},
   "outputs": [],
   "source": []
  },
  {
   "cell_type": "code",
   "execution_count": null,
   "metadata": {},
   "outputs": [],
   "source": []
  },
  {
   "cell_type": "code",
   "execution_count": null,
   "metadata": {},
   "outputs": [],
   "source": []
  },
  {
   "cell_type": "code",
   "execution_count": null,
   "metadata": {},
   "outputs": [],
   "source": []
  },
  {
   "cell_type": "code",
   "execution_count": null,
   "metadata": {},
   "outputs": [],
   "source": []
  }
 ],
 "metadata": {
  "kernelspec": {
   "display_name": "Python 2",
   "language": "python",
   "name": "python2"
  },
  "language_info": {
   "codemirror_mode": {
    "name": "ipython",
    "version": 2
   },
   "file_extension": ".py",
   "mimetype": "text/x-python",
   "name": "python",
   "nbconvert_exporter": "python",
   "pygments_lexer": "ipython2",
   "version": "2.7.15"
  }
 },
 "nbformat": 4,
 "nbformat_minor": 2
}
