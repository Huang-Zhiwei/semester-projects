{
 "cells": [
  {
   "cell_type": "code",
   "execution_count": 1,
   "metadata": {},
   "outputs": [],
   "source": [
    "order=1"
   ]
  },
  {
   "cell_type": "code",
   "execution_count": 2,
   "metadata": {},
   "outputs": [],
   "source": [
    "# import libraries\n",
    "import glob                               #can be used to find the target files\n",
    "import matplotlib.pyplot as plt\n",
    "import nibabel as nib                   # to read and write neuron imaging data \n",
    "import numpy as np                        # for matrix calculating\n",
    "import subprocess\n",
    "from PIL import Image \n",
    "import os,shutil\n",
    "\n",
    "from scipy import signal\n",
    "from skimage import color, img_as_ubyte, io"
   ]
  },
  {
   "cell_type": "code",
   "execution_count": 3,
   "metadata": {},
   "outputs": [],
   "source": [
    "file_script = 'results_script1'\n",
    "if not os.path.exists(file_script):\n",
    "    os.mkdir(file_script)"
   ]
  },
  {
   "cell_type": "code",
   "execution_count": 4,
   "metadata": {},
   "outputs": [],
   "source": [
    "shutil.copy('/home/zhiwei/Desktop/semester-projects/original_file/3000/BVECTOR.scheme','results_script1')\n",
    "shutil.copy('/home/zhiwei/Desktop/semester-projects/original_file/3000/fsltensor_FA.nii.gz','results_script1')\n",
    "shutil.copy('/home/zhiwei/Desktop/semester-projects/original_file/3000/fsltensor_V3.nii.gz','results_script1')"
   ]
  },
  {
   "cell_type": "markdown",
   "metadata": {},
   "source": [
    "CMD = 'shutil.copy(“fsltensor_V1.nii.gz”,”results_script1”)'\n",
    "subprocess.call(CMD,shell=True)\n"
   ]
  },
  {
   "cell_type": "code",
   "execution_count": 5,
   "metadata": {},
   "outputs": [
    {
     "name": "stdout",
     "output_type": "stream",
     "text": [
      "/home/zhiwei/Desktop/semester-projects/results_script1\n"
     ]
    }
   ],
   "source": [
    "cd results_script1"
   ]
  },
  {
   "cell_type": "markdown",
   "metadata": {},
   "source": [
    "## generate original tractography and get fib_original, hdr_original"
   ]
  },
  {
   "cell_type": "code",
   "execution_count": 6,
   "metadata": {},
   "outputs": [],
   "source": [
    "data = nib.load('fsltensor_FA.nii.gz')\n",
    "d=np.ones(data.get_data().shape)\n",
    "img=nib.Nifti1Image(d, data.affine)\n",
    "nib.save(img,'mask.nii')"
   ]
  },
  {
   "cell_type": "code",
   "execution_count": 7,
   "metadata": {},
   "outputs": [
    {
     "data": {
      "text/plain": [
       "0"
      ]
     },
     "execution_count": 7,
     "metadata": {},
     "output_type": "execute_result"
    }
   ],
   "source": [
    "CMD='tckgen fsltensor_V3.nii.gz origin0.015.tck -algorithm FACT -seed_image mask.nii -mask mask.nii -select 3000 -step 0.015'\n",
    "subprocess.call(CMD, shell = True)"
   ]
  },
  {
   "cell_type": "code",
   "execution_count": 8,
   "metadata": {},
   "outputs": [
    {
     "data": {
      "text/plain": [
       "0"
      ]
     },
     "execution_count": 8,
     "metadata": {},
     "output_type": "execute_result"
    }
   ],
   "source": [
    "CMD = 'TractConverter.py -i origin0.015.tck -o origin0.015.trk -a fsltensor_FA.nii.gz'\n",
    "subprocess.call(CMD,shell=True)"
   ]
  },
  {
   "cell_type": "code",
   "execution_count": 9,
   "metadata": {},
   "outputs": [],
   "source": [
    "fib_original,hdr_original=nib.trackvis.read('/home/zhiwei/Desktop/semester-projects/results_script1/origin0.015.trk')"
   ]
  },
  {
   "cell_type": "markdown",
   "metadata": {},
   "source": [
    "## generate synthetic CLARITY data"
   ]
  },
  {
   "cell_type": "code",
   "execution_count": 10,
   "metadata": {},
   "outputs": [
    {
     "data": {
      "text/plain": [
       "0"
      ]
     },
     "execution_count": 10,
     "metadata": {},
     "output_type": "execute_result"
    }
   ],
   "source": [
    "CMD='tckmap origin0.015.tck syn_CLARITY.nii.gz -vox 0.015'\n",
    "subprocess.call(CMD, shell = True)"
   ]
  },
  {
   "cell_type": "markdown",
   "metadata": {},
   "source": [
    "\n",
    "## calculate structure tensor"
   ]
  },
  {
   "cell_type": "code",
   "execution_count": 11,
   "metadata": {},
   "outputs": [],
   "source": [
    "def doggen(sigma=None, X=None, Y=None, Z=None):\n",
    "    halfsize = np.ceil(3 * np.max(sigma))       #3*the maximum number of sequence sigma, ceil: shangxian\n",
    "    x = np.arange(-halfsize,halfsize+1)         # sequence from -halfsize to halfsize+1\n",
    "\n",
    "    if len(sigma) == 1:\n",
    "        if X is None:\n",
    "            X = x\n",
    "        k = (-1)*X * np.exp( (-1)*np.power(X,2)/(2 * np.power(sigma[0],2)) )\n",
    "    if len(sigma) == 2:\n",
    "        if X is None or Y is None:\n",
    "            [X,Y] =np.meshgrid(x,x)\n",
    "        k = (-1)*X * np.exp( (-1)*np.power(X,2)/(2 * np.power(sigma[0],2)) ) * np.exp( (-1)*np.power(Y,2)/(2 * np.power(sigma[1],2)) )\n",
    "    if len(sigma) == 3:\n",
    "        if X is None or Y is None or Z is None:\n",
    "            [X,Y,Z] =np.meshgrid(x,x,x)\n",
    "        k = (-1)*X * np.exp( (-1)*np.power(X,2)/(2 * np.power(sigma[0],2)) ) * np.exp( (-1)*np.power(Y,2)/(2 * np.power(sigma[1],2)) ) * np.exp( (-1)*np.power(Z,2)/(2 * np.power(sigma[2],2)))\n",
    "    if len(sigma) > 3:\n",
    "        print ('Only support up to dimension 3')\n",
    "    \n",
    "    return k /np.sum(np.abs(k))\n",
    "\n",
    "def gradCompute(img, dogsigma):\n",
    "    dogkercc = doggen([dogsigma, dogsigma, dogsigma])\n",
    "    dogkerrr = np.transpose( dogkercc, (1, 0, 2) )\n",
    "    dogkerzz = np.transpose( dogkercc, (0, 2, 1) )\n",
    "\n",
    "    gcc = signal.convolve(img, dogkercc, mode = 'valid')\n",
    "    grr = signal.convolve(img, dogkerrr, mode = 'valid')\n",
    "    gzz = signal.convolve(img, dogkerzz, mode = 'valid')\n",
    "\n",
    "    # Gradient products\n",
    "    gp = type('', (), {})()\n",
    "    gp.gprrrr = grr * grr\n",
    "    gp.gprrcc = grr * gcc\n",
    "    gp.gprrzz = grr * gzz\n",
    "    gp.gpcccc = gcc * gcc\n",
    "    gp.gpcczz = gcc * gzz\n",
    "    gp.gpzzzz = gzz * gzz\n",
    "\n",
    "    # Gradient amplitude\n",
    "    ga = np.sqrt(gp.gprrrr + gp.gpcccc + gp.gpzzzz)\n",
    "\n",
    "    return ga, gp\n",
    "\n"
   ]
  },
  {
   "cell_type": "markdown",
   "metadata": {},
   "source": [
    "## the optimal patch_size to retrieve the exact size of CLARITY as the originally synthetic one!! do not change this anymore!!"
   ]
  },
  {
   "cell_type": "code",
   "execution_count": 12,
   "metadata": {},
   "outputs": [],
   "source": [
    "patch_size = 6.6"
   ]
  },
  {
   "cell_type": "code",
   "execution_count": 13,
   "metadata": {},
   "outputs": [
    {
     "name": "stderr",
     "output_type": "stream",
     "text": [
      "/home/zhiwei/.local/lib/python2.7/site-packages/scipy/signal/signaltools.py:491: FutureWarning: Using a non-tuple sequence for multidimensional indexing is deprecated; use `arr[tuple(seq)]` instead of `arr[seq]`. In the future this will be interpreted as an array index, `arr[np.array(seq)]`, which will result either in an error or a different result.\n",
      "  return x[reverse].conj()\n"
     ]
    },
    {
     "data": {
      "text/plain": [
       "0"
      ]
     },
     "execution_count": 13,
     "metadata": {},
     "output_type": "execute_result"
    }
   ],
   "source": [
    "\n",
    "img_stack = nib.load('syn_CLARITY.nii.gz')\n",
    "imgstack = img_stack.get_fdata()/255.0\n",
    "\n",
    "\n",
    "# select sigma\n",
    "dogsigma = [0.6]\n",
    "vox_size = [15, 15, 15] #um\n",
    "#define the voxel dimension to apply tensor\n",
    "voxel_dim = np.array([patch_size,patch_size,patch_size]) # x,y,z in voxel dimension\n",
    "volume_dim = (np.array(imgstack.shape)/voxel_dim).astype(np.int) # in voxel dimesion: removed voxel at the border\n",
    "\n",
    "fsl_tensor = np.zeros((volume_dim[0], volume_dim[1], volume_dim[2], 6))\n",
    "for x in range (0,volume_dim[0]):\n",
    "    for y in range (0,volume_dim[1]):\n",
    "        for z in range (0, volume_dim[2]):\n",
    "            [ga,gp] = gradCompute(imgstack[int(x*voxel_dim[0]):int((x+1)*voxel_dim[0]), int(y*voxel_dim[1]):int((y+1)*voxel_dim[1]), int(z*voxel_dim[2]):int((z+1)*voxel_dim[2])], dogsigma)\n",
    "\n",
    "            lowthreh = np.percentile(ga.reshape(-1), 20)\n",
    "            highthreh = np.percentile(ga.reshape(-1), 80)\n",
    "\n",
    "            mask = np.ones(ga.shape)\n",
    "            mask[ga  < lowthreh] = 0\n",
    "            mask[ga  > highthreh] = 0\n",
    "\n",
    "            gprrrr = np.sum(gp.gprrrr[mask==1])\n",
    "            gprrcc = np.sum(gp.gprrcc[mask==1])\n",
    "            gprrzz = np.sum(gp.gprrzz[mask==1])\n",
    "            gpcccc = np.sum(gp.gpcccc[mask==1])\n",
    "            gpcczz = np.sum(gp.gpcczz[mask==1])\n",
    "            gpzzzz = np.sum(gp.gpzzzz[mask==1])\n",
    "\n",
    "            fsl_tensor[x,y,z] = np.array([[gprrrr, gprrcc, gprrzz,gpcccc, gpcczz, gpzzzz]])\n",
    "affine = np.eye(4)\n",
    "affine[0,0]=vox_size[0]*voxel_dim[0]*0.001\n",
    "affine[1,1]=vox_size[1]*voxel_dim[1]*0.001\n",
    "affine[2,2]=vox_size[2]*voxel_dim[2]*0.001\n",
    "img_fsl_tensor = nib.Nifti1Image(fsl_tensor, affine)\n",
    "nib.save(img_fsl_tensor, 'fsltensor_ftrial.nii.gz')\n",
    "CMD='fsl5.0-fslmaths fsltensor_ftrial.nii.gz -tensor_decomp fsltensor_ftrial'\n",
    "subprocess.call(CMD, shell=True)"
   ]
  },
  {
   "cell_type": "markdown",
   "metadata": {},
   "source": [
    "## generate the mask for subsequent tractography generation"
   ]
  },
  {
   "cell_type": "code",
   "execution_count": 14,
   "metadata": {},
   "outputs": [],
   "source": [
    "data = nib.load('fsltensor_ftrial_FA.nii.gz')\n",
    "d=np.ones(data.get_data().shape)\n",
    "img=nib.Nifti1Image(d, data.affine)\n",
    "nib.save(img,'mask_syn.nii')"
   ]
  },
  {
   "cell_type": "markdown",
   "metadata": {},
   "source": [
    "##  generate the tractography and subsequent CLARITY based on the synthetic CLARITY images"
   ]
  },
  {
   "cell_type": "code",
   "execution_count": 15,
   "metadata": {},
   "outputs": [],
   "source": [
    "number = 100000"
   ]
  },
  {
   "cell_type": "code",
   "execution_count": 16,
   "metadata": {},
   "outputs": [
    {
     "data": {
      "text/plain": [
       "0"
      ]
     },
     "execution_count": 16,
     "metadata": {},
     "output_type": "execute_result"
    }
   ],
   "source": [
    "CMD='tckgen fsltensor_ftrial_V3.nii.gz before0.015.tck -algorithm FACT -seed_image mask_syn.nii -mask mask_syn.nii -select 100000 -step 0.015'\n",
    "subprocess.call(CMD, shell = True)"
   ]
  },
  {
   "cell_type": "code",
   "execution_count": 18,
   "metadata": {},
   "outputs": [
    {
     "data": {
      "text/plain": [
       "0"
      ]
     },
     "execution_count": 18,
     "metadata": {},
     "output_type": "execute_result"
    }
   ],
   "source": [
    "CMD = 'TractConverter.py -i before0.015.tck -o before0.015.trk -a fsltensor_ftrial_FA.nii.gz'\n",
    "subprocess.call(CMD,shell = True)"
   ]
  },
  {
   "cell_type": "code",
   "execution_count": 19,
   "metadata": {},
   "outputs": [],
   "source": [
    "fib_before,hdr_before=nib.trackvis.read('/home/zhiwei/Desktop/semester-projects/results_script1/before0.015.trk')"
   ]
  },
  {
   "cell_type": "code",
   "execution_count": 21,
   "metadata": {},
   "outputs": [],
   "source": [
    "for items in range(len(fib_original)):\n",
    "    fib_before.append(fib_original[items])\n",
    "nib.trackvis.write('fibers_before_all.trk',fib_before,hdr_before)"
   ]
  },
  {
   "cell_type": "code",
   "execution_count": 22,
   "metadata": {},
   "outputs": [
    {
     "data": {
      "text/plain": [
       "0"
      ]
     },
     "execution_count": 22,
     "metadata": {},
     "output_type": "execute_result"
    }
   ],
   "source": [
    "CMD = 'TractConverter.py -i fibers_before_all.trk -o fibers_before_all.tck -a fsltensor_ftrial_FA.nii.gz'\n",
    "subprocess.call(CMD,shell = True)"
   ]
  },
  {
   "cell_type": "code",
   "execution_count": 23,
   "metadata": {},
   "outputs": [
    {
     "data": {
      "text/plain": [
       "0"
      ]
     },
     "execution_count": 23,
     "metadata": {},
     "output_type": "execute_result"
    }
   ],
   "source": [
    "CMD='tckmap fibers_before_all.tck syn_CLARITY_before.nii.gz -vox 0.015'\n",
    "subprocess.call(CMD, shell = True)"
   ]
  },
  {
   "cell_type": "markdown",
   "metadata": {},
   "source": [
    "## function for comparison of two tractography on a voxel base"
   ]
  },
  {
   "cell_type": "code",
   "execution_count": 24,
   "metadata": {},
   "outputs": [],
   "source": [
    "def compClarity(volume1,volume2):\n",
    "    square_error = 0.0\n",
    "    for x in range(volume1.shape[0]):\n",
    "        for y in range(volume1.shape[1]):\n",
    "            for z in range(volume1.shape[2]):\n",
    "                square_error = square_error + np.square(volume1[x,y,z]-volume2[x,y,z])\n",
    "    return square_error"
   ]
  },
  {
   "cell_type": "markdown",
   "metadata": {},
   "source": [
    "## apply COMMIT to the generated tractography"
   ]
  },
  {
   "cell_type": "code",
   "execution_count": 25,
   "metadata": {},
   "outputs": [],
   "source": [
    "path_commit = '/home/zhiwei/Desktop/semester-projects/results_script1/COMMIT'\n",
    "path = '/home/zhiwei/Desktop/semester-projects/results_script1'"
   ]
  },
  {
   "cell_type": "code",
   "execution_count": 26,
   "metadata": {},
   "outputs": [],
   "source": [
    "trk_file_before = '/home/zhiwei/Desktop/semester-projects/results_script1/fibers_before_all.trk'"
   ]
  },
  {
   "cell_type": "code",
   "execution_count": 27,
   "metadata": {},
   "outputs": [
    {
     "name": "stdout",
     "output_type": "stream",
     "text": [
      "\n",
      "-> Creating the dictionary from tractogram:\n",
      "\t* Segment position = COMPUTE INTERSECTIONS\n",
      "\t* Fiber shift X    = 0.000 (voxel-size units)\n",
      "\t* Fiber shift Y    = 0.000 (voxel-size units)\n",
      "\t* Fiber shift Z    = 0.000 (voxel-size units)\n",
      "\t* Points to skip   = 0\n",
      "\t* Min segment len  = 1.00e-03\n",
      "\t* Do not blur fibers\n",
      "\t* Loading data:\n",
      "\t\t* tractogram\n",
      "\t\t\t- 28 x 26 x 5\n",
      "\t\t\t- 0.0990 x 0.0990 x 0.0990\n",
      "\t\t\t- 106000 fibers\n",
      "\t\t* no mask specified to filter IC compartments\n",
      "\t\t* no dataset specified for EC compartments\n",
      "\t\t* output written to \"/home/zhiwei/Desktop/semester-projects/results_script1/COMMIT\"\n",
      "\t* Generate tractogram matching the dictionary: \n",
      "\t  [ 105765 fibers kept ]\n",
      "   [ 15.4 seconds ]\n"
     ]
    }
   ],
   "source": [
    "from commit import trk2dictionary\n",
    "trk2dictionary.run(filename_trk   = trk_file_before ,path_out= path_commit )\n",
    "import commit\n",
    "commit.core.setup()"
   ]
  },
  {
   "cell_type": "code",
   "execution_count": 28,
   "metadata": {},
   "outputs": [],
   "source": [
    "mit=commit.Evaluation('.','results_script1')"
   ]
  },
  {
   "cell_type": "code",
   "execution_count": 29,
   "metadata": {},
   "outputs": [
    {
     "name": "stdout",
     "output_type": "stream",
     "text": [
      "\n",
      "-> Loading data:\n",
      "\t* DWI signal...\n",
      "\t\t- dim    = 191 x 178 x 39 x 1\n",
      "\t\t- pixdim = 0.015 x 0.015 x 0.015\n",
      "\t* Acquisition scheme...\n",
      "\t\t- 1 samples, 1 shells\n",
      "\t\t- 0 @ b=0 , 1 @ b=1000.0\n",
      "   [ 0.0 seconds ]\n",
      "\n",
      "-> Preprocessing:\n",
      "\t* There are no b0 volume(s) for normalization... [ min=0.00,  mean=0.25, max=21.00 ]\n",
      "   [ 0.0 seconds ]\n",
      "\n",
      "-> Simulating with \"Volume fractions\" model:\n",
      "   [ 0.0 seconds ]\n"
     ]
    }
   ],
   "source": [
    "mit.load_data('/home/zhiwei/Desktop/semester-projects/results_script1/syn_CLARITY.nii.gz','/home/zhiwei/Desktop/semester-projects/results_script1/BVECTOR.scheme')\n",
    "mit.set_model('VolumeFractions')\n",
    "hasISO=False\n",
    "mit.model.set(hasISO)\n",
    "mit.generate_kernels(regenerate=True)"
   ]
  },
  {
   "cell_type": "code",
   "execution_count": 30,
   "metadata": {},
   "outputs": [
    {
     "name": "stdout",
     "output_type": "stream",
     "text": [
      "\n",
      "-> Resampling LUT for subject \"results_script1\":\n",
      "\t* Keeping all b0 volume(s)... [ OK ]\n",
      "\t* Normalizing... [ OK ]\n",
      "   [ 0.1 seconds ]\n",
      "\n",
      "-> Loading the dictionary:\n",
      "\t* segments from the tracts... [ 105765 fibers and 4995940 segments ]\n",
      "\t* segments from the peaks...  [ 0 segments ]\n",
      "\t* isotropic contributions...  [ 3590 voxels ]\n",
      "\t* post-processing...          [ OK ]\n",
      "   [ 1.9 seconds ]\n",
      "\n",
      "-> Distributing workload to different threads:\n",
      "\t* number of threads : 1\n",
      "\t* A operator...  [ OK ]\n",
      "\t* A' operator... [ OK ]\n",
      "   [ 0.0 seconds ]\n"
     ]
    }
   ],
   "source": [
    "mit.load_kernels()\n",
    "mit.load_dictionary(path_commit)\n",
    "mit.set_threads(1)"
   ]
  },
  {
   "cell_type": "code",
   "execution_count": 31,
   "metadata": {},
   "outputs": [
    {
     "name": "stdout",
     "output_type": "stream",
     "text": [
      "\n",
      "-> Building linear operator A:\n",
      "   [ 4.3 seconds ]\n"
     ]
    }
   ],
   "source": [
    "mit.build_operator()"
   ]
  },
  {
   "cell_type": "code",
   "execution_count": 32,
   "metadata": {},
   "outputs": [
    {
     "name": "stdout",
     "output_type": "stream",
     "text": [
      "\n",
      "-> Fit model\n",
      "\n",
      "      |     ||Ax-y||     |  Cost function    Abs error      Rel error    |     Abs x          Rel x\n",
      "------|------------------|-----------------------------------------------|------------------------------\n",
      "   1  |   3.2190032e+03  |  5.1809910e+06  4.1582604e+07  8.0259942e+00  |  2.0504389e+02  1.2020962e+00\n",
      "   2  |   2.0828656e+03  |  2.1691645e+06  3.0118265e+06  1.3884731e+00  |  5.1968113e+01  4.0178588e-01\n",
      "   3  |   1.3803222e+03  |  9.5264472e+05  1.2165198e+06  1.2769921e+00  |  3.6976069e+01  3.6944512e-01\n",
      "   4  |   9.3427146e+02  |  4.3643158e+05  5.1621314e+05  1.1828043e+00  |  2.6904103e+01  3.3979048e-01\n",
      "   5  |   6.4946803e+02  |  2.1090436e+05  2.2552722e+05  1.0693341e+00  |  1.9772021e+01  3.0828467e-01\n",
      "   6  |   4.6334105e+02  |  1.0734246e+05  1.0356190e+05  9.6478034e-01  |  1.4801641e+01  2.7829627e-01\n",
      "   7  |   3.4149925e+02  |  5.8310870e+04  4.9031593e+04  8.4086541e-01  |  1.1127532e+01  2.4668739e-01\n",
      "   8  |   2.6042924e+02  |  3.3911694e+04  2.4399176e+04  7.1949152e-01  |  8.4867381e+00  2.1763724e-01\n",
      "   9  |   2.0454131e+02  |  2.0918575e+04  1.2993119e+04  6.2112832e-01  |  6.6360194e+00  1.9384297e-01\n",
      "  10  |   1.6459557e+02  |  1.3545851e+04  7.3727233e+03  5.4427907e-01  |  5.3134129e+00  1.7459529e-01\n",
      "  11  |   1.3531445e+02  |  9.1550000e+03  4.3908514e+03  4.7961238e-01  |  4.3309345e+00  1.5845443e-01\n",
      "  12  |   1.1325899e+02  |  6.4137999e+03  2.7412001e+03  4.2739096e-01  |  3.5932537e+00  1.4514675e-01\n",
      "  13  |   9.6274030e+01  |  4.6343444e+03  1.7794555e+03  3.8397134e-01  |  3.0236647e+00  1.3390765e-01\n",
      "  14  |   8.2911213e+01  |  3.4371346e+03  1.1972098e+03  3.4831625e-01  |  2.5795631e+00  1.2451776e-01\n",
      "  15  |   7.2271133e+01  |  2.6115583e+03  8.2557626e+02  3.1612400e-01  |  2.2168529e+00  1.1606494e-01\n",
      "  16  |   6.3622108e+01  |  2.0238863e+03  5.8767206e+02  2.9036812e-01  |  1.9367321e+00  1.0952940e-01\n",
      "  17  |   5.6433101e+01  |  1.5923475e+03  4.3153883e+02  2.7100796e-01  |  1.7138365e+00  1.0432012e-01\n",
      "  18  |   5.0423348e+01  |  1.2712570e+03  3.2109044e+02  2.5257713e-01  |  1.5228557e+00  9.9444247e-02\n",
      "  19  |   4.5370848e+01  |  1.0292569e+03  2.4200011e+02  2.3512119e-01  |  1.3608396e+00  9.5056177e-02\n",
      "  20  |   4.1092852e+01  |  8.4431126e+02  1.8494564e+02  2.1904912e-01  |  1.2212631e+00  9.1009034e-02\n",
      "  21  |   3.7446273e+01  |  7.0111168e+02  1.4319958e+02  2.0424646e-01  |  1.1019345e+00  8.7395275e-02\n",
      "  22  |   3.4304782e+01  |  5.8840905e+02  1.1270263e+02  1.9153790e-01  |  1.0025564e+00  8.4437027e-02\n",
      "  23  |   3.1579701e+01  |  4.9863877e+02  8.9770279e+01  1.8003069e-01  |  9.1711571e-01  8.1849729e-02\n",
      "  24  |   2.9205560e+01  |  4.2648235e+02  7.2156412e+01  1.6918968e-01  |  8.4277953e-01  7.9537418e-02\n",
      "  25  |   2.7162491e+01  |  3.6890045e+02  5.7581908e+01  1.5609064e-01  |  7.6857642e-01  7.6546804e-02\n",
      "  26  |   2.5389704e+01  |  3.2231853e+02  4.6581916e+01  1.4452137e-01  |  7.0863910e-01  7.4337686e-02\n",
      "  27  |   2.3857570e+01  |  2.8459182e+02  3.7726713e+01  1.3256429e-01  |  6.5237856e-01  7.1946072e-02\n",
      "  28  |   2.2524033e+01  |  2.5366603e+02  3.0925782e+01  1.2191535e-01  |  6.0437106e-01  6.9942190e-02\n",
      "  29  |   2.1358372e+01  |  2.2809003e+02  2.5576000e+01  1.1213116e-01  |  5.6043324e-01  6.7935437e-02\n",
      "  30  |   2.0346827e+01  |  2.0699668e+02  2.1093357e+01  1.0190191e-01  |  5.1847602e-01  6.5715652e-02\n",
      "  31  |   1.9462628e+01  |  1.8939695e+02  1.7599726e+01  9.2925077e-02  |  4.8148927e-01  6.3701131e-02\n",
      "  32  |   1.8684583e+01  |  1.7455683e+02  1.4840126e+01  8.5016016e-02  |  4.5024268e-01  6.2071432e-02\n",
      "  33  |   1.8002166e+01  |  1.6203898e+02  1.2517841e+01  7.7252034e-02  |  4.2115371e-01  6.0400319e-02\n",
      "  34  |   1.7407025e+01  |  1.5150226e+02  1.0536723e+01  6.9548291e-02  |  3.9287580e-01  5.8517211e-02\n",
      "  35  |   1.6887262e+01  |  1.4258982e+02  8.9124451e+00  6.2504079e-02  |  3.6788695e-01  5.6815733e-02\n",
      "  36  |   1.6433134e+01  |  1.3502395e+02  7.5658650e+00  5.6033503e-02  |  3.4480213e-01  5.5126574e-02\n",
      "  37  |   1.6034884e+01  |  1.2855876e+02  6.4651913e+00  5.0289777e-02  |  3.2436456e-01  5.3602954e-02\n",
      "  38  |   1.5682849e+01  |  1.2297587e+02  5.5828868e+00  4.5398229e-02  |  3.0637637e-01  5.2253219e-02\n",
      "  39  |   1.5373914e+01  |  1.1817861e+02  4.7972634e+00  4.0593331e-02  |  2.8714894e-01  5.0468386e-02\n",
      "  40  |   1.5105021e+01  |  1.1408083e+02  4.0977788e+00  3.5919960e-02  |  2.6706195e-01  4.8302435e-02\n",
      "  41  |   1.4866012e+01  |  1.1049916e+02  3.5816669e+00  3.2413520e-02  |  2.5140668e-01  4.6731540e-02\n",
      "  42  |   1.4651780e+01  |  1.0733733e+02  3.1618371e+00  2.9457014e-02  |  2.3743219e-01  4.5300706e-02\n",
      "  43  |   1.4459086e+01  |  1.0453259e+02  2.8047367e+00  2.6831218e-02  |  2.2377957e-01  4.3772133e-02\n",
      "  44  |   1.4284115e+01  |  1.0201797e+02  2.5146198e+00  2.4648793e-02  |  2.1162802e-01  4.2390340e-02\n",
      "  45  |   1.4125096e+01  |  9.9759174e+01  2.2587960e+00  2.2642489e-02  |  2.0113534e-01  4.1212089e-02\n",
      "  46  |   1.3978813e+01  |  9.7703601e+01  2.0555731e+00  2.1038867e-02  |  1.9184366e-01  4.0166413e-02\n",
      "  47  |   1.3843951e+01  |  9.5827495e+01  1.8761061e+00  1.9577952e-02  |  1.8459214e-01  3.9450700e-02\n",
      "  48  |   1.3718993e+01  |  9.4105380e+01  1.7221147e+00  1.8299853e-02  |  1.7831841e-01  3.8860407e-02\n",
      "  49  |   1.3603451e+01  |  9.2526945e+01  1.5784355e+00  1.7059199e-02  |  1.7195897e-01  3.8172298e-02\n",
      "  50  |   1.3496697e+01  |  9.1080417e+01  1.4465280e+00  1.5881878e-02  |  1.6566494e-01  3.7420783e-02\n",
      "  51  |   1.3397932e+01  |  8.9752290e+01  1.3281264e+00  1.4797688e-02  |  1.5929267e-01  3.6575324e-02\n",
      "  52  |   1.3307260e+01  |  8.8541580e+01  1.2107100e+00  1.3673914e-02  |  1.5228664e-01  3.5508001e-02\n",
      "  53  |   1.3223150e+01  |  8.7425842e+01  1.1157383e+00  1.2762111e-02  |  1.4772886e-01  3.4944212e-02\n",
      "  54  |   1.3144536e+01  |  8.6389410e+01  1.0364322e+00  1.1997214e-02  |  1.4314153e-01  3.4316044e-02\n",
      "  55  |   1.3071534e+01  |  8.5432499e+01  9.5691036e-01  1.1200777e-02  |  1.3799018e-01  3.3495327e-02\n",
      "  56  |   1.3003516e+01  |  8.4545711e+01  8.8678778e-01  1.0488856e-02  |  1.3319672e-01  3.2706105e-02\n",
      "  57  |   1.2940054e+01  |  8.3722493e+01  8.2321884e-01  9.8327082e-03  |  1.2921799e-01  3.2067356e-02\n",
      "  58  |   1.2881116e+01  |  8.2961574e+01  7.6091831e-01  9.1719368e-03  |  1.2465546e-01  3.1237169e-02\n",
      "  59  |   1.2826058e+01  |  8.2253884e+01  7.0768987e-01  8.6037258e-03  |  1.2069042e-01  3.0512899e-02\n",
      "  60  |   1.2774666e+01  |  8.1596039e+01  6.5784508e-01  8.0622183e-03  |  1.1663340e-01  2.9725310e-02\n",
      "  61  |   1.2726242e+01  |  8.0978620e+01  6.1741887e-01  7.6244677e-03  |  1.1341951e-01  2.9116640e-02\n",
      "  62  |   1.2680359e+01  |  8.0395751e+01  5.8286931e-01  7.2500014e-03  |  1.1100919e-01  2.8683255e-02\n",
      "  63  |   1.2636963e+01  |  7.9846421e+01  5.4933011e-01  6.8798339e-03  |  1.0807357e-01  2.8085341e-02\n",
      "  64  |   1.2596293e+01  |  7.9333302e+01  5.1311954e-01  6.4678959e-03  |  1.0474518e-01  2.7357232e-02\n",
      "  65  |   1.2557973e+01  |  7.8851339e+01  4.8196252e-01  6.1122935e-03  |  1.0217273e-01  2.6801129e-02\n",
      "  66  |   1.2521705e+01  |  7.8396544e+01  4.5479465e-01  5.8012079e-03  |  9.9868254e-02  2.6292920e-02\n",
      "  67  |   1.2487532e+01  |  7.7969223e+01  4.2732140e-01  5.4806420e-03  |  9.7486865e-02  2.5743977e-02\n",
      "  68  |   1.2455137e+01  |  7.7565222e+01  4.0400130e-01  5.2085367e-03  |  9.5324781e-02  2.5234199e-02\n",
      "  69  |   1.2424742e+01  |  7.7187105e+01  3.7811637e-01  4.8986987e-03  |  9.2738756e-02  2.4595056e-02\n",
      "  70  |   1.2396337e+01  |  7.6834582e+01  3.5252286e-01  4.5880754e-03  |  9.0167967e-02  2.3944460e-02\n",
      "  71  |   1.2369615e+01  |  7.6503688e+01  3.3089426e-01  4.3252066e-03  |  8.8360156e-02  2.3482990e-02\n",
      "  72  |   1.2344706e+01  |  7.6195883e+01  3.0780502e-01  4.0396542e-03  |  8.6261367e-02  2.2932307e-02\n",
      "  73  |   1.2321167e+01  |  7.5905573e+01  2.9031001e-01  3.8246204e-03  |  8.4030421e-02  2.2336053e-02\n",
      "  74  |   1.2298940e+01  |  7.5631964e+01  2.7360916e-01  3.6176393e-03  |  8.1912491e-02  2.1760902e-02\n",
      "  75  |   1.2277979e+01  |  7.5374385e+01  2.5757907e-01  3.4173290e-03  |  7.9846090e-02  2.1191837e-02\n",
      "  76  |   1.2258546e+01  |  7.5135974e+01  2.3841105e-01  3.1730613e-03  |  7.7404214e-02  2.0516845e-02\n"
     ]
    },
    {
     "name": "stdout",
     "output_type": "stream",
     "text": [
      "  77  |   1.2240580e+01  |  7.4915905e+01  2.2006906e-01  2.9375480e-03  |  7.5295903e-02  1.9925417e-02\n",
      "  78  |   1.2223826e+01  |  7.4710967e+01  2.0493779e-01  2.7430750e-03  |  7.3201945e-02  1.9333984e-02\n",
      "  79  |   1.2207990e+01  |  7.4517512e+01  1.9345482e-01  2.5960988e-03  |  7.1826837e-02  1.8929229e-02\n",
      "  80  |   1.2192968e+01  |  7.4334231e+01  1.8328123e-01  2.4656371e-03  |  7.0453687e-02  1.8522131e-02\n",
      "  81  |   1.2178671e+01  |  7.4160014e+01  1.7421681e-01  2.3492015e-03  |  6.8904204e-02  1.8066612e-02\n",
      "  82  |   1.2164975e+01  |  7.3993311e+01  1.6670276e-01  2.2529436e-03  |  6.7450453e-02  1.7634799e-02\n",
      "  83  |   1.2151786e+01  |  7.3832952e+01  1.6035939e-01  2.1719217e-03  |  6.6269680e-02  1.7273233e-02\n",
      "  84  |   1.2139296e+01  |  7.3681254e+01  1.5169834e-01  2.0588458e-03  |  6.4323629e-02  1.6711952e-02\n",
      "  85  |   1.2127634e+01  |  7.3539758e+01  1.4149580e-01  1.9240721e-03  |  6.2405302e-02  1.6158786e-02\n",
      "  86  |   1.2116583e+01  |  7.3405790e+01  1.3396805e-01  1.8250338e-03  |  6.0974693e-02  1.5732870e-02\n",
      "  87  |   1.2105917e+01  |  7.3276615e+01  1.2917431e-01  1.7628313e-03  |  6.0089980e-02  1.5448171e-02\n",
      "  88  |   1.2095603e+01  |  7.3151811e+01  1.2480495e-01  1.7061088e-03  |  5.9239332e-02  1.5172255e-02\n",
      "  89  |   1.2085719e+01  |  7.3032299e+01  1.1951113e-01  1.6364147e-03  |  5.8238633e-02  1.4858249e-02\n",
      "  90  |   1.2076216e+01  |  7.2917496e+01  1.1480364e-01  1.5744321e-03  |  5.7010626e-02  1.4487180e-02\n",
      "  91  |   1.2067040e+01  |  7.2806723e+01  1.1077299e-01  1.5214666e-03  |  5.6101594e-02  1.4198222e-02\n",
      "  92  |   1.2058146e+01  |  7.2699445e+01  1.0727805e-01  1.4756378e-03  |  5.5185114e-02  1.3908285e-02\n",
      "  93  |   1.2049508e+01  |  7.2595319e+01  1.0412594e-01  1.4343341e-03  |  5.4638356e-02  1.3712184e-02\n",
      "  94  |   1.2041158e+01  |  7.2494742e+01  1.0057727e-01  1.3873733e-03  |  5.3746936e-02  1.3430318e-02\n",
      "  95  |   1.2033066e+01  |  7.2397333e+01  9.7408658e-02  1.3454730e-03  |  5.1855665e-02  1.2900969e-02\n",
      "  96  |   1.2025312e+01  |  7.2304068e+01  9.3264430e-02  1.2898919e-03  |  5.0325090e-02  1.2464606e-02\n",
      "  97  |   1.2018072e+01  |  7.2217023e+01  8.7045875e-02  1.2053374e-03  |  4.8840945e-02  1.2042725e-02\n",
      "  98  |   1.2011033e+01  |  7.2132455e+01  8.4568058e-02  1.1723996e-03  |  4.6654208e-02  1.1451485e-02\n",
      "  99  |   1.2004164e+01  |  7.2049977e+01  8.2477817e-02  1.1447307e-03  |  4.5742681e-02  1.1176631e-02\n",
      " 100  |   1.1997545e+01  |  7.1970544e+01  7.9433109e-02  1.1036892e-03  |  4.5203400e-02  1.0994323e-02\n",
      " 101  |   1.1991074e+01  |  7.1892927e+01  7.7617072e-02  1.0796204e-03  |  4.4952147e-02  1.0882964e-02\n",
      " 102  |   1.1984769e+01  |  7.1817347e+01  7.5579715e-02  1.0523880e-03  |  4.4487095e-02  1.0720683e-02\n",
      " 103  |   1.1978650e+01  |  7.1744026e+01  7.3321167e-02  1.0219829e-03  |  4.3966618e-02  1.0546224e-02\n",
      " 104  |   1.1972724e+01  |  7.1673059e+01  7.0966982e-02  9.9014864e-04  |  4.3416048e-02  1.0365864e-02\n",
      "< Stopping criterion: Relative tolerance on the objective >\n",
      "   [ 00h 00m 11s ]\n"
     ]
    }
   ],
   "source": [
    "mit.fit(max_iter = 100000000)\n",
    "## mit.fit(tol_fun = 1e-7, max_iter = 100000000)"
   ]
  },
  {
   "cell_type": "code",
   "execution_count": 33,
   "metadata": {
    "scrolled": true
   },
   "outputs": [
    {
     "name": "stdout",
     "output_type": "stream",
     "text": [
      "\n",
      "-> Saving results to \"Results_VolumeFractions/*\":\n",
      "\t* configuration and results:\n",
      "\t\t- pickle...  [ OK ]\n",
      "\t\t- txt...  [ OK ]\n",
      "\t* fitting errors:\n",
      "\t\t- RMSE...  [ 0.068 +/- 0.188 ]\n",
      "\t\t- NRMSE... [ 0.018 +/- 0.110 ]\n",
      "\t* voxelwise contributions:\n",
      "\t\t- intra-axonal [ OK ]\n",
      "\t\t- extra-axonal [ OK ]\n",
      "\t\t- isotropic    [ OK ]\n",
      "   [ 0.9 seconds ]\n"
     ]
    }
   ],
   "source": [
    "mit.save_results(save_coeff=True)"
   ]
  },
  {
   "cell_type": "code",
   "execution_count": 34,
   "metadata": {},
   "outputs": [],
   "source": [
    "trk_file = os.path.join(path_commit,'dictionary_TRK_fibers.trk')\n",
    "fib_tmp,trk_hdr_tmp=nib.trackvis.read(trk_file)"
   ]
  },
  {
   "cell_type": "markdown",
   "metadata": {},
   "source": [
    "## generate tractography after applying COMMIT with weight > 0, and get fib_after,hdr_after"
   ]
  },
  {
   "cell_type": "code",
   "execution_count": 35,
   "metadata": {},
   "outputs": [],
   "source": [
    "f = open('/home/zhiwei/Desktop/semester-projects/results_script1/COMMIT/Results_VolumeFractions/xic.txt')\n"
   ]
  },
  {
   "cell_type": "code",
   "execution_count": 36,
   "metadata": {},
   "outputs": [],
   "source": [
    "data = f.read().splitlines()\n",
    "data = map(eval,data)\n",
    "j=0\n",
    "for items in range(len(fib_tmp)-1,-1,-1):\n",
    "    if data[j] == 0:\n",
    "        del fib_tmp[items]\n",
    "    j=j+1\n",
    "nib.trackvis.write('fibers_after.trk',fib_tmp,trk_hdr_tmp)"
   ]
  },
  {
   "cell_type": "code",
   "execution_count": 37,
   "metadata": {},
   "outputs": [],
   "source": [
    "fib_after,hdr_after=nib.trackvis.read('/home/zhiwei/Desktop/semester-projects/results_script1/fibers_after.trk')"
   ]
  },
  {
   "cell_type": "code",
   "execution_count": 38,
   "metadata": {},
   "outputs": [
    {
     "data": {
      "text/plain": [
       "0"
      ]
     },
     "execution_count": 38,
     "metadata": {},
     "output_type": "execute_result"
    }
   ],
   "source": [
    "CMD = 'TractConverter.py -i fibers_after.trk -o fibers_after.tck -a fsltensor_ftrial_FA.nii.gz'\n",
    "subprocess.call(CMD,shell = True)"
   ]
  },
  {
   "cell_type": "code",
   "execution_count": 39,
   "metadata": {},
   "outputs": [
    {
     "data": {
      "text/plain": [
       "0"
      ]
     },
     "execution_count": 39,
     "metadata": {},
     "output_type": "execute_result"
    }
   ],
   "source": [
    "CMD='tckmap fibers_after.tck syn_CLARITY_after.nii.gz -vox 0.015'\n",
    "subprocess.call(CMD, shell = True)"
   ]
  },
  {
   "cell_type": "markdown",
   "metadata": {},
   "source": [
    "## downsample fibers(before/after) to the original one, take mean distance and std as measurement"
   ]
  },
  {
   "cell_type": "markdown",
   "metadata": {},
   "source": [
    "## downsample the fibers and get tracks_before, tracks_after, tracks_original"
   ]
  },
  {
   "cell_type": "code",
   "execution_count": 40,
   "metadata": {},
   "outputs": [],
   "source": [
    "from dipy.tracking.metrics import downsample\n",
    "import random\n",
    "tracks_after = [downsample(fib_after[i][0],7) for i in range(len(fib_after))]\n",
    "tracks_original = [downsample(fib_original[i][0],7) for i in range(len(fib_original))]\n",
    "## generate a random list to get equal number of fibers from fib before COMMIT\n",
    "list = range(len(fib_before))\n",
    "slice1 = random.sample(list, len(fib_after))\n",
    "tracks_before1 = [downsample(fib_before[i][0],7) for i in slice1]"
   ]
  },
  {
   "cell_type": "code",
   "execution_count": 41,
   "metadata": {},
   "outputs": [],
   "source": [
    "from dipy.segment.bundles import bundles_distances_mdf\n",
    "DM_before1 = bundles_distances_mdf(tracks_before1, tracks_original)\n",
    "minD_before1 = [min(DM_before1[i,:]) for i in range(len(DM_before1))]\n",
    "DM_after = bundles_distances_mdf(tracks_after, tracks_original)\n",
    "minD_after = [min(DM_after[i,:]) for i in range(len(DM_after))]"
   ]
  },
  {
   "cell_type": "markdown",
   "metadata": {},
   "source": [
    "## compare tracks_after and tracks_before with tracks_original with mean distance and STD"
   ]
  },
  {
   "cell_type": "code",
   "execution_count": 42,
   "metadata": {},
   "outputs": [],
   "source": [
    "meanD_before= np.mean(minD_before1)\n",
    "stdD_before= np.std(minD_before1)\n",
    "\n",
    "meanD_after= np.mean(minD_after)\n",
    "stdD_after= np.std(minD_after)"
   ]
  },
  {
   "cell_type": "code",
   "execution_count": 43,
   "metadata": {},
   "outputs": [
    {
     "data": {
      "text/plain": [
       "0.18010753919732386"
      ]
     },
     "execution_count": 43,
     "metadata": {},
     "output_type": "execute_result"
    }
   ],
   "source": [
    "meanD_after"
   ]
  },
  {
   "cell_type": "code",
   "execution_count": 44,
   "metadata": {},
   "outputs": [
    {
     "data": {
      "text/plain": [
       "0.17767432581614026"
      ]
     },
     "execution_count": 44,
     "metadata": {},
     "output_type": "execute_result"
    }
   ],
   "source": [
    "meanD_before"
   ]
  },
  {
   "cell_type": "markdown",
   "metadata": {},
   "source": []
  },
  {
   "cell_type": "markdown",
   "metadata": {},
   "source": [
    "## Compare on a voxel level"
   ]
  },
  {
   "cell_type": "markdown",
   "metadata": {},
   "source": [
    "original resolution -- 0.015mm"
   ]
  },
  {
   "cell_type": "code",
   "execution_count": 45,
   "metadata": {},
   "outputs": [],
   "source": [
    "for items in range(len(fib_before)-1,-1,-1):\n",
    "    if items not in slice1:\n",
    "        del fib_before[items]\n",
    "    j=j+1\n",
    "nib.trackvis.write('fibers_before.trk',fib_before,hdr_before)"
   ]
  },
  {
   "cell_type": "code",
   "execution_count": 46,
   "metadata": {},
   "outputs": [],
   "source": [
    "fib_before,hdr_before=nib.trackvis.read('/home/zhiwei/Desktop/semester-projects/results_script1/fibers_before.trk')"
   ]
  },
  {
   "cell_type": "code",
   "execution_count": 47,
   "metadata": {},
   "outputs": [
    {
     "data": {
      "text/plain": [
       "0"
      ]
     },
     "execution_count": 47,
     "metadata": {},
     "output_type": "execute_result"
    }
   ],
   "source": [
    "CMD = 'TractConverter.py -i fibers_before.trk -o fibers_before.tck -a fsltensor_ftrial_FA.nii.gz'\n",
    "subprocess.call(CMD,shell = True)"
   ]
  },
  {
   "cell_type": "code",
   "execution_count": 48,
   "metadata": {},
   "outputs": [
    {
     "data": {
      "text/plain": [
       "0"
      ]
     },
     "execution_count": 48,
     "metadata": {},
     "output_type": "execute_result"
    }
   ],
   "source": [
    "CMD='tckmap fibers_before.tck syn_CLARITY_random.nii.gz -vox 0.015' \n",
    "subprocess.call(CMD, shell = True)"
   ]
  },
  {
   "cell_type": "code",
   "execution_count": 49,
   "metadata": {},
   "outputs": [],
   "source": [
    "data_original = nib.load('syn_CLARITY.nii.gz')\n",
    "data_before = nib.load('syn_CLARITY_random.nii.gz')\n",
    "data_after = nib.load('syn_CLARITY_after.nii.gz')\n",
    "## normalization\n",
    "sum_original = sum(sum(sum(data_original.get_fdata())))\n",
    "sum_before = sum(sum(sum(data_before.get_fdata())))\n",
    "sum_after = sum(sum(sum(data_after.get_fdata())))\n",
    "volume_original = data_original.get_fdata()/sum_original\n",
    "volume_before = data_before.get_fdata()/sum_before\n",
    "volume_after = data_after.get_fdata()/sum_after"
   ]
  },
  {
   "cell_type": "code",
   "execution_count": 50,
   "metadata": {},
   "outputs": [],
   "source": [
    "square_error_before = compClarity(volume_before, volume_original)\n",
    "square_error_after = compClarity(volume_after, volume_original)"
   ]
  },
  {
   "cell_type": "markdown",
   "metadata": {},
   "source": [
    "## change the resolution here"
   ]
  },
  {
   "cell_type": "markdown",
   "metadata": {},
   "source": [
    "resolution based on mean distance after COMMIT"
   ]
  },
  {
   "cell_type": "markdown",
   "metadata": {
    "scrolled": true
   },
   "source": [
    "CMD='tckmap origin0.015.tck syn_CLARITY_COMMIT_res.nii.gz -vox 0.195' \n",
    "subprocess.call(CMD, shell = True)"
   ]
  },
  {
   "cell_type": "markdown",
   "metadata": {},
   "source": [
    "CMD='tckmap fibers_after.tck syn_CLARITY_after_COMMIT_res.nii.gz -vox 0.195'\n",
    "subprocess.call(CMD, shell = True)"
   ]
  },
  {
   "cell_type": "markdown",
   "metadata": {},
   "source": [
    "CMD='tckmap fibers_before.tck syn_CLARITY_random_COMMIT_res.nii.gz -vox 0.195'\n",
    "subprocess.call(CMD, shell = True)"
   ]
  },
  {
   "cell_type": "markdown",
   "metadata": {},
   "source": [
    "data_original_COMMIT_res = nib.load('syn_CLARITY_COMMIT_res.nii.gz')\n",
    "data_before_COMMIT_res = nib.load('syn_CLARITY_random_COMMIT_res.nii.gz')\n",
    "data_after_COMMIT_res = nib.load('syn_CLARITY_after_COMMIT_res.nii.gz')\n",
    "## normalization\n",
    "sum_original_COMMIT_res = sum(sum(sum(data_original_COMMIT_res.get_fdata())))\n",
    "sum_before_COMMIT_res = sum(sum(sum(data_before_COMMIT_res.get_fdata())))\n",
    "sum_after_COMMIT_res = sum(sum(sum(data_after_COMMIT_res.get_fdata())))\n",
    "volume_original_COMMIT_res = data_original_COMMIT_res.get_fdata()/sum_original_COMMIT_res\n",
    "volume_before_COMMIT_res = data_before_COMMIT_res.get_fdata()/sum_before_COMMIT_res\n",
    "volume_after_COMMIT_res = data_after_COMMIT_res.get_fdata()/sum_after_COMMIT_res"
   ]
  },
  {
   "cell_type": "markdown",
   "metadata": {},
   "source": [
    "square_error_before_COMMIT_res = compClarity(volume_before_COMMIT_res, volume_original_COMMIT_res)\n",
    "square_error_after_COMMIT_res = compClarity(volume_after_COMMIT_res, volume_original_COMMIT_res)"
   ]
  },
  {
   "cell_type": "markdown",
   "metadata": {},
   "source": [
    "## Compare on a voxel level - binary"
   ]
  },
  {
   "cell_type": "markdown",
   "metadata": {},
   "source": [
    "original resolution -- 0.015mm"
   ]
  },
  {
   "cell_type": "code",
   "execution_count": 51,
   "metadata": {},
   "outputs": [],
   "source": [
    "def binarize(volume):\n",
    "    volume_prime = np.zeros([len(volume),len(volume[1]),len(volume[1][1])])\n",
    "    for x in range(len(volume)):\n",
    "        for y in range(len(volume[1])):\n",
    "            for z in range(len(volume[1][1])):\n",
    "                if volume[x,y,z]!=0:\n",
    "                    volume_prime[x,y,z]=1\n",
    "    return volume_prime"
   ]
  },
  {
   "cell_type": "code",
   "execution_count": 52,
   "metadata": {},
   "outputs": [],
   "source": [
    "Volume_Original = binarize(volume_original)\n",
    "Volume_Before = binarize(volume_before)\n",
    "Volume_After = binarize(volume_after)\n",
    "error_before = compClarity(Volume_Before, Volume_Original)\n",
    "error_after = compClarity(Volume_After, Volume_Original)"
   ]
  },
  {
   "cell_type": "markdown",
   "metadata": {},
   "source": [
    "\n",
    "## change the resolution here"
   ]
  },
  {
   "cell_type": "markdown",
   "metadata": {},
   "source": [
    "COMMIT resolution 0.186"
   ]
  },
  {
   "cell_type": "markdown",
   "metadata": {},
   "source": [
    "Volume_Original_COMMIT_res = binarize(volume_original_COMMIT_res)\n",
    "Volume_Before_COMMIT_res = binarize(volume_before_COMMIT_res)\n",
    "Volume_After_COMMIT_res = binarize(volume_after_COMMIT_res)\n",
    "error_before_COMMIT_res = compClarity(Volume_Before_COMMIT_res, Volume_Original_COMMIT_res)\n",
    "error_after_COMMIT_res = compClarity(Volume_After_COMMIT_res, Volume_Original_COMMIT_res)"
   ]
  },
  {
   "cell_type": "markdown",
   "metadata": {},
   "source": [
    "## save results"
   ]
  },
  {
   "cell_type": "code",
   "execution_count": 55,
   "metadata": {},
   "outputs": [
    {
     "name": "stdout",
     "output_type": "stream",
     "text": [
      "/home/zhiwei/Desktop/semester-projects\n"
     ]
    }
   ],
   "source": [
    "cd .."
   ]
  },
  {
   "cell_type": "code",
   "execution_count": 56,
   "metadata": {},
   "outputs": [],
   "source": [
    "f = open('87.txt','a')  \n",
    "f.write('group: Nboffibers_before: ' + str(number))\n",
    "f.write('         Nboffibers_after: ' + str(len(fib_after)))\n",
    "f.write('\\n\\n')\n",
    "f.close()\n",
    "\n",
    "f = open('87_TRACT_random_mean.txt','a')  \n",
    "f.write(str(meanD_before)+', ')\n",
    "f.close()\n",
    "\n",
    "f = open('87_TRACT_random_std.txt','a') \n",
    "f.write(str(stdD_before)+', ')\n",
    "f.close()\n",
    "\n",
    "\n",
    "f = open('87_TRACT_COMMIT_mean.txt','a')\n",
    "f.write(str(meanD_after)+', ')\n",
    "f.close()\n",
    "\n",
    "f = open('87_TRACT_COMMIT_std.txt','a')\n",
    "f.write(str(stdD_after)+', ')\n",
    "f.close()"
   ]
  },
  {
   "cell_type": "code",
   "execution_count": 57,
   "metadata": {},
   "outputs": [],
   "source": [
    "f = open('87_VOXEL_B_random.txt','a')\n",
    "f.write(str(error_before)+', ')\n",
    "f.close()\n",
    "\n",
    "f = open('87_VOXEL_B_COMMIT.txt','a')\n",
    "f.write(str(error_after)+', ')\n",
    "f.close()"
   ]
  },
  {
   "cell_type": "code",
   "execution_count": 58,
   "metadata": {},
   "outputs": [],
   "source": [
    "f = open('87_VOXEL_NB_random.txt','a')\n",
    "f.write(str(square_error_before)+', ')\n",
    "f.close()\n",
    "\n",
    "f = open('87_VOXEL_NB_COMMIT.txt','a')\n",
    "f.write(str(square_error_after)+', ')\n",
    "f.close()"
   ]
  },
  {
   "cell_type": "markdown",
   "metadata": {},
   "source": [
    "f = open('meanD_std3000.txt','a')\n",
    "f.write('\\n')\n",
    "f.write('compare tractography on a voxel level_COMMIT_res - BINARIZATION:')\n",
    "f.write('\\nerror random: ' + str(error_before_COMMIT_res))\n",
    "f.write('\\nerror COMMIT: ' + str(error_after_COMMIT_res)) \n",
    "f.write('\\n\\n')\n",
    "f.close()"
   ]
  },
  {
   "cell_type": "markdown",
   "metadata": {},
   "source": [
    "f = open('meanD_std3000.txt','a')\n",
    "f.write('\\n')\n",
    "f.write('compare tractography on a voxel level_COMMIT_res- non-BINARIZATION:')\n",
    "f.write('\\nsquare error random: ' + str(square_error_before_COMMIT_res))\n",
    "f.write('\\nsquare error COMMIT: ' + str(square_error_after_COMMIT_res)) \n",
    "f.write('\\n\\n\\n\\n\\n')\n",
    "f.close()"
   ]
  },
  {
   "cell_type": "code",
   "execution_count": null,
   "metadata": {},
   "outputs": [],
   "source": [
    "os.rename('results_script1','%d'%order)"
   ]
  },
  {
   "cell_type": "code",
   "execution_count": null,
   "metadata": {},
   "outputs": [],
   "source": []
  },
  {
   "cell_type": "code",
   "execution_count": null,
   "metadata": {},
   "outputs": [],
   "source": []
  },
  {
   "cell_type": "code",
   "execution_count": null,
   "metadata": {},
   "outputs": [],
   "source": []
  },
  {
   "cell_type": "code",
   "execution_count": null,
   "metadata": {},
   "outputs": [],
   "source": []
  },
  {
   "cell_type": "code",
   "execution_count": null,
   "metadata": {},
   "outputs": [],
   "source": []
  },
  {
   "cell_type": "code",
   "execution_count": null,
   "metadata": {},
   "outputs": [],
   "source": []
  },
  {
   "cell_type": "code",
   "execution_count": null,
   "metadata": {},
   "outputs": [],
   "source": []
  },
  {
   "cell_type": "code",
   "execution_count": null,
   "metadata": {},
   "outputs": [],
   "source": []
  },
  {
   "cell_type": "code",
   "execution_count": null,
   "metadata": {},
   "outputs": [],
   "source": []
  },
  {
   "cell_type": "code",
   "execution_count": null,
   "metadata": {},
   "outputs": [],
   "source": []
  },
  {
   "cell_type": "code",
   "execution_count": null,
   "metadata": {},
   "outputs": [],
   "source": []
  }
 ],
 "metadata": {
  "kernelspec": {
   "display_name": "Python 2",
   "language": "python",
   "name": "python2"
  },
  "language_info": {
   "codemirror_mode": {
    "name": "ipython",
    "version": 2
   },
   "file_extension": ".py",
   "mimetype": "text/x-python",
   "name": "python",
   "nbconvert_exporter": "python",
   "pygments_lexer": "ipython2",
   "version": "2.7.15"
  }
 },
 "nbformat": 4,
 "nbformat_minor": 2
}
