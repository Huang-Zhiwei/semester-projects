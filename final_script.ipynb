{
 "cells": [
  {
   "cell_type": "code",
   "execution_count": 1,
   "metadata": {},
   "outputs": [],
   "source": [
    "order=1"
   ]
  },
  {
   "cell_type": "code",
   "execution_count": 2,
   "metadata": {},
   "outputs": [],
   "source": [
    "# import libraries\n",
    "import glob                               #can be used to find the target files\n",
    "import matplotlib.pyplot as plt\n",
    "import nibabel as nib                   # to read and write neuron imaging data \n",
    "import numpy as np                        # for matrix calculating\n",
    "import subprocess\n",
    "from PIL import Image \n",
    "import os,shutil\n",
    "\n",
    "from scipy import signal\n",
    "from skimage import color, img_as_ubyte, io"
   ]
  },
  {
   "cell_type": "code",
   "execution_count": 3,
   "metadata": {},
   "outputs": [],
   "source": [
    "file_script = 'results_script1'\n",
    "if not os.path.exists(file_script):\n",
    "    os.mkdir(file_script)"
   ]
  },
  {
   "cell_type": "code",
   "execution_count": 4,
   "metadata": {},
   "outputs": [],
   "source": [
    "shutil.copy('/home/zhiwei/Desktop/semester-projects/original_file/3000/BVECTOR.scheme','results_script1')\n",
    "shutil.copy('/home/zhiwei/Desktop/semester-projects/original_file/3000/fsltensor_FA.nii.gz','results_script1')\n",
    "shutil.copy('/home/zhiwei/Desktop/semester-projects/original_file/3000/fsltensor_V3.nii.gz','results_script1')"
   ]
  },
  {
   "cell_type": "markdown",
   "metadata": {},
   "source": [
    "CMD = 'shutil.copy(“fsltensor_V1.nii.gz”,”results_script1”)'\n",
    "subprocess.call(CMD,shell=True)\n"
   ]
  },
  {
   "cell_type": "code",
   "execution_count": 5,
   "metadata": {},
   "outputs": [
    {
     "name": "stdout",
     "output_type": "stream",
     "text": [
      "/home/zhiwei/Desktop/semester-projects/results_script1\n"
     ]
    }
   ],
   "source": [
    "cd results_script1"
   ]
  },
  {
   "cell_type": "markdown",
   "metadata": {},
   "source": [
    "## generate original tractography and get fib_original, hdr_original"
   ]
  },
  {
   "cell_type": "code",
   "execution_count": 6,
   "metadata": {},
   "outputs": [],
   "source": [
    "data = nib.load('fsltensor_FA.nii.gz')\n",
    "d=np.ones(data.get_data().shape)\n",
    "img=nib.Nifti1Image(d, data.affine)\n",
    "nib.save(img,'mask.nii')"
   ]
  },
  {
   "cell_type": "code",
   "execution_count": 7,
   "metadata": {},
   "outputs": [
    {
     "data": {
      "text/plain": [
       "0"
      ]
     },
     "execution_count": 7,
     "metadata": {},
     "output_type": "execute_result"
    }
   ],
   "source": [
    "CMD='tckgen fsltensor_V3.nii.gz origin0.015.tck -algorithm FACT -seed_image mask.nii -mask mask.nii -select 3000 -step 0.015'\n",
    "subprocess.call(CMD, shell = True)"
   ]
  },
  {
   "cell_type": "code",
   "execution_count": 8,
   "metadata": {},
   "outputs": [
    {
     "data": {
      "text/plain": [
       "0"
      ]
     },
     "execution_count": 8,
     "metadata": {},
     "output_type": "execute_result"
    }
   ],
   "source": [
    "CMD = 'TractConverter.py -i origin0.015.tck -o origin0.015.trk -a fsltensor_FA.nii.gz'\n",
    "subprocess.call(CMD,shell=True)"
   ]
  },
  {
   "cell_type": "code",
   "execution_count": 9,
   "metadata": {},
   "outputs": [],
   "source": [
    "fib_original,hdr_original=nib.trackvis.read('/home/zhiwei/Desktop/semester-projects/results_script1/origin0.015.trk')"
   ]
  },
  {
   "cell_type": "markdown",
   "metadata": {},
   "source": [
    "## generate synthetic CLARITY data"
   ]
  },
  {
   "cell_type": "code",
   "execution_count": 10,
   "metadata": {},
   "outputs": [
    {
     "data": {
      "text/plain": [
       "0"
      ]
     },
     "execution_count": 10,
     "metadata": {},
     "output_type": "execute_result"
    }
   ],
   "source": [
    "CMD='tckmap origin0.015.tck syn_CLARITY.nii.gz -vox 0.015'\n",
    "subprocess.call(CMD, shell = True)"
   ]
  },
  {
   "cell_type": "markdown",
   "metadata": {},
   "source": [
    "\n",
    "## calculate structure tensor"
   ]
  },
  {
   "cell_type": "code",
   "execution_count": 11,
   "metadata": {},
   "outputs": [],
   "source": [
    "def doggen(sigma=None, X=None, Y=None, Z=None):\n",
    "    halfsize = np.ceil(3 * np.max(sigma))       #3*the maximum number of sequence sigma, ceil: shangxian\n",
    "    x = np.arange(-halfsize,halfsize+1)         # sequence from -halfsize to halfsize+1\n",
    "\n",
    "    if len(sigma) == 1:\n",
    "        if X is None:\n",
    "            X = x\n",
    "        k = (-1)*X * np.exp( (-1)*np.power(X,2)/(2 * np.power(sigma[0],2)) )\n",
    "    if len(sigma) == 2:\n",
    "        if X is None or Y is None:\n",
    "            [X,Y] =np.meshgrid(x,x)\n",
    "        k = (-1)*X * np.exp( (-1)*np.power(X,2)/(2 * np.power(sigma[0],2)) ) * np.exp( (-1)*np.power(Y,2)/(2 * np.power(sigma[1],2)) )\n",
    "    if len(sigma) == 3:\n",
    "        if X is None or Y is None or Z is None:\n",
    "            [X,Y,Z] =np.meshgrid(x,x,x)\n",
    "        k = (-1)*X * np.exp( (-1)*np.power(X,2)/(2 * np.power(sigma[0],2)) ) * np.exp( (-1)*np.power(Y,2)/(2 * np.power(sigma[1],2)) ) * np.exp( (-1)*np.power(Z,2)/(2 * np.power(sigma[2],2)))\n",
    "    if len(sigma) > 3:\n",
    "        print ('Only support up to dimension 3')\n",
    "    \n",
    "    return k /np.sum(np.abs(k))\n",
    "\n",
    "def gradCompute(img, dogsigma):\n",
    "    dogkercc = doggen([dogsigma, dogsigma, dogsigma])\n",
    "    dogkerrr = np.transpose( dogkercc, (1, 0, 2) )\n",
    "    dogkerzz = np.transpose( dogkercc, (0, 2, 1) )\n",
    "\n",
    "    gcc = signal.convolve(img, dogkercc, mode = 'valid')\n",
    "    grr = signal.convolve(img, dogkerrr, mode = 'valid')\n",
    "    gzz = signal.convolve(img, dogkerzz, mode = 'valid')\n",
    "\n",
    "    # Gradient products\n",
    "    gp = type('', (), {})()\n",
    "    gp.gprrrr = grr * grr\n",
    "    gp.gprrcc = grr * gcc\n",
    "    gp.gprrzz = grr * gzz\n",
    "    gp.gpcccc = gcc * gcc\n",
    "    gp.gpcczz = gcc * gzz\n",
    "    gp.gpzzzz = gzz * gzz\n",
    "\n",
    "    # Gradient amplitude\n",
    "    ga = np.sqrt(gp.gprrrr + gp.gpcccc + gp.gpzzzz)\n",
    "\n",
    "    return ga, gp\n",
    "\n"
   ]
  },
  {
   "cell_type": "markdown",
   "metadata": {},
   "source": [
    "## the optimal patch_size to retrieve the exact size of CLARITY as the originally synthetic one!! do not change this anymore!!"
   ]
  },
  {
   "cell_type": "code",
   "execution_count": 12,
   "metadata": {},
   "outputs": [],
   "source": [
    "patch_size = 6.6"
   ]
  },
  {
   "cell_type": "code",
   "execution_count": 13,
   "metadata": {},
   "outputs": [
    {
     "name": "stderr",
     "output_type": "stream",
     "text": [
      "/home/zhiwei/.local/lib/python2.7/site-packages/scipy/signal/signaltools.py:491: FutureWarning: Using a non-tuple sequence for multidimensional indexing is deprecated; use `arr[tuple(seq)]` instead of `arr[seq]`. In the future this will be interpreted as an array index, `arr[np.array(seq)]`, which will result either in an error or a different result.\n",
      "  return x[reverse].conj()\n"
     ]
    },
    {
     "data": {
      "text/plain": [
       "0"
      ]
     },
     "execution_count": 13,
     "metadata": {},
     "output_type": "execute_result"
    }
   ],
   "source": [
    "\n",
    "img_stack = nib.load('syn_CLARITY.nii.gz')\n",
    "imgstack = img_stack.get_fdata()/255.0\n",
    "\n",
    "\n",
    "# select sigma\n",
    "dogsigma = [0.6]\n",
    "vox_size = [15, 15, 15] #um\n",
    "#define the voxel dimension to apply tensor\n",
    "voxel_dim = np.array([patch_size,patch_size,patch_size]) # x,y,z in voxel dimension\n",
    "volume_dim = (np.array(imgstack.shape)/voxel_dim).astype(np.int) # in voxel dimesion: removed voxel at the border\n",
    "\n",
    "fsl_tensor = np.zeros((volume_dim[0], volume_dim[1], volume_dim[2], 6))\n",
    "for x in range (0,volume_dim[0]):\n",
    "    for y in range (0,volume_dim[1]):\n",
    "        for z in range (0, volume_dim[2]):\n",
    "            [ga,gp] = gradCompute(imgstack[int(x*voxel_dim[0]):int((x+1)*voxel_dim[0]), int(y*voxel_dim[1]):int((y+1)*voxel_dim[1]), int(z*voxel_dim[2]):int((z+1)*voxel_dim[2])], dogsigma)\n",
    "\n",
    "            lowthreh = np.percentile(ga.reshape(-1), 20)\n",
    "            highthreh = np.percentile(ga.reshape(-1), 80)\n",
    "\n",
    "            mask = np.ones(ga.shape)\n",
    "            mask[ga  < lowthreh] = 0\n",
    "            mask[ga  > highthreh] = 0\n",
    "\n",
    "            gprrrr = np.sum(gp.gprrrr[mask==1])\n",
    "            gprrcc = np.sum(gp.gprrcc[mask==1])\n",
    "            gprrzz = np.sum(gp.gprrzz[mask==1])\n",
    "            gpcccc = np.sum(gp.gpcccc[mask==1])\n",
    "            gpcczz = np.sum(gp.gpcczz[mask==1])\n",
    "            gpzzzz = np.sum(gp.gpzzzz[mask==1])\n",
    "\n",
    "            fsl_tensor[x,y,z] = np.array([[gprrrr, gprrcc, gprrzz,gpcccc, gpcczz, gpzzzz]])\n",
    "affine = np.eye(4)\n",
    "affine[0,0]=vox_size[0]*voxel_dim[0]*0.001\n",
    "affine[1,1]=vox_size[1]*voxel_dim[1]*0.001\n",
    "affine[2,2]=vox_size[2]*voxel_dim[2]*0.001\n",
    "img_fsl_tensor = nib.Nifti1Image(fsl_tensor, affine)\n",
    "nib.save(img_fsl_tensor, 'fsltensor_ftrial.nii.gz')\n",
    "CMD='fsl5.0-fslmaths fsltensor_ftrial.nii.gz -tensor_decomp fsltensor_ftrial'\n",
    "subprocess.call(CMD, shell=True)"
   ]
  },
  {
   "cell_type": "markdown",
   "metadata": {},
   "source": [
    "## generate the mask for subsequent tractography generation"
   ]
  },
  {
   "cell_type": "code",
   "execution_count": 14,
   "metadata": {},
   "outputs": [],
   "source": [
    "data = nib.load('fsltensor_ftrial_FA.nii.gz')\n",
    "d=np.ones(data.get_data().shape)\n",
    "img=nib.Nifti1Image(d, data.affine)\n",
    "nib.save(img,'mask_syn.nii')"
   ]
  },
  {
   "cell_type": "markdown",
   "metadata": {},
   "source": [
    "##  generate the tractography and subsequent CLARITY based on the synthetic CLARITY images"
   ]
  },
  {
   "cell_type": "code",
   "execution_count": 15,
   "metadata": {},
   "outputs": [],
   "source": [
    "number = 100000"
   ]
  },
  {
   "cell_type": "code",
   "execution_count": 16,
   "metadata": {},
   "outputs": [
    {
     "data": {
      "text/plain": [
       "0"
      ]
     },
     "execution_count": 16,
     "metadata": {},
     "output_type": "execute_result"
    }
   ],
   "source": [
    "CMD='tckgen fsltensor_ftrial_V3.nii.gz before0.015.tck -algorithm FACT -seed_image mask_syn.nii -mask mask_syn.nii -select 100000 -step 0.015'\n",
    "subprocess.call(CMD, shell = True)"
   ]
  },
  {
   "cell_type": "code",
   "execution_count": 17,
   "metadata": {},
   "outputs": [
    {
     "data": {
      "text/plain": [
       "0"
      ]
     },
     "execution_count": 17,
     "metadata": {},
     "output_type": "execute_result"
    }
   ],
   "source": [
    "CMD = 'TractConverter.py -i before0.015.tck -o before0.015.trk -a fsltensor_ftrial_FA.nii.gz'\n",
    "subprocess.call(CMD,shell = True)"
   ]
  },
  {
   "cell_type": "code",
   "execution_count": 18,
   "metadata": {},
   "outputs": [],
   "source": [
    "fib_before,hdr_before=nib.trackvis.read('/home/zhiwei/Desktop/semester-projects/results_script1/before0.015.trk')"
   ]
  },
  {
   "cell_type": "code",
   "execution_count": 19,
   "metadata": {},
   "outputs": [],
   "source": [
    "for items in range(len(fib_original)):\n",
    "    fib_before.append(fib_original[items])\n",
    "nib.trackvis.write('fibers_before_all.trk',fib_before,hdr_before)"
   ]
  },
  {
   "cell_type": "code",
   "execution_count": 20,
   "metadata": {},
   "outputs": [
    {
     "data": {
      "text/plain": [
       "0"
      ]
     },
     "execution_count": 20,
     "metadata": {},
     "output_type": "execute_result"
    }
   ],
   "source": [
    "CMD = 'TractConverter.py -i fibers_before_all.trk -o fibers_before_all.tck -a fsltensor_ftrial_FA.nii.gz'\n",
    "subprocess.call(CMD,shell = True)"
   ]
  },
  {
   "cell_type": "code",
   "execution_count": 21,
   "metadata": {},
   "outputs": [
    {
     "data": {
      "text/plain": [
       "0"
      ]
     },
     "execution_count": 21,
     "metadata": {},
     "output_type": "execute_result"
    }
   ],
   "source": [
    "CMD='tckmap fibers_before_all.tck syn_CLARITY_before.nii.gz -vox 0.015'\n",
    "subprocess.call(CMD, shell = True)"
   ]
  },
  {
   "cell_type": "markdown",
   "metadata": {},
   "source": [
    "## function for comparison of two tractography on a voxel base"
   ]
  },
  {
   "cell_type": "code",
   "execution_count": 22,
   "metadata": {},
   "outputs": [],
   "source": [
    "def compClarity(volume1,volume2):\n",
    "    square_error = 0.0\n",
    "    for x in range(volume1.shape[0]):\n",
    "        for y in range(volume1.shape[1]):\n",
    "            for z in range(volume1.shape[2]):\n",
    "                square_error = square_error + np.square(volume1[x,y,z]-volume2[x,y,z])\n",
    "    return square_error"
   ]
  },
  {
   "cell_type": "markdown",
   "metadata": {},
   "source": [
    "## apply COMMIT to the generated tractography"
   ]
  },
  {
   "cell_type": "code",
   "execution_count": 23,
   "metadata": {},
   "outputs": [],
   "source": [
    "path_commit = '/home/zhiwei/Desktop/semester-projects/results_script1/COMMIT'\n",
    "path = '/home/zhiwei/Desktop/semester-projects/results_script1'"
   ]
  },
  {
   "cell_type": "code",
   "execution_count": 24,
   "metadata": {},
   "outputs": [],
   "source": [
    "trk_file_before = '/home/zhiwei/Desktop/semester-projects/results_script1/fibers_before_all.trk'"
   ]
  },
  {
   "cell_type": "code",
   "execution_count": 25,
   "metadata": {},
   "outputs": [
    {
     "name": "stdout",
     "output_type": "stream",
     "text": [
      "\n",
      "-> Creating the dictionary from tractogram:\n",
      "\t* Segment position = COMPUTE INTERSECTIONS\n",
      "\t* Fiber shift X    = 0.000 (voxel-size units)\n",
      "\t* Fiber shift Y    = 0.000 (voxel-size units)\n",
      "\t* Fiber shift Z    = 0.000 (voxel-size units)\n",
      "\t* Points to skip   = 0\n",
      "\t* Min segment len  = 1.00e-03\n",
      "\t* Do not blur fibers\n",
      "\t* Loading data:\n",
      "\t\t* tractogram\n",
      "\t\t\t- 28 x 26 x 5\n",
      "\t\t\t- 0.0990 x 0.0990 x 0.0990\n",
      "\t\t\t- 103000 fibers\n",
      "\t\t* no mask specified to filter IC compartments\n",
      "\t\t* no dataset specified for EC compartments\n",
      "\t\t* output written to \"/home/zhiwei/Desktop/semester-projects/results_script1/COMMIT\"\n",
      "\t* Generate tractogram matching the dictionary: \n",
      "\t  [ 102746 fibers kept ]\n",
      "   [ 19.1 seconds ]\n"
     ]
    }
   ],
   "source": [
    "from commit import trk2dictionary\n",
    "trk2dictionary.run(filename_trk   = trk_file_before ,path_out= path_commit )\n",
    "import commit\n",
    "commit.core.setup()"
   ]
  },
  {
   "cell_type": "code",
   "execution_count": 26,
   "metadata": {},
   "outputs": [],
   "source": [
    "mit=commit.Evaluation('.','results_script1')"
   ]
  },
  {
   "cell_type": "code",
   "execution_count": 27,
   "metadata": {},
   "outputs": [
    {
     "name": "stdout",
     "output_type": "stream",
     "text": [
      "\n",
      "-> Loading data:\n",
      "\t* DWI signal...\n",
      "\t\t- dim    = 191 x 178 x 39 x 1\n",
      "\t\t- pixdim = 0.015 x 0.015 x 0.015\n",
      "\t* Acquisition scheme...\n",
      "\t\t- 1 samples, 1 shells\n",
      "\t\t- 0 @ b=0 , 1 @ b=1000.0\n",
      "   [ 0.0 seconds ]\n",
      "\n",
      "-> Preprocessing:\n",
      "\t* There are no b0 volume(s) for normalization... [ min=0.00,  mean=0.25, max=22.00 ]\n",
      "   [ 0.0 seconds ]\n",
      "\n",
      "-> Simulating with \"Volume fractions\" model:\n",
      "   [ 0.0 seconds ]\n"
     ]
    }
   ],
   "source": [
    "mit.load_data('/home/zhiwei/Desktop/semester-projects/results_script1/syn_CLARITY.nii.gz','/home/zhiwei/Desktop/semester-projects/results_script1/BVECTOR.scheme')\n",
    "mit.set_model('VolumeFractions')\n",
    "hasISO=False\n",
    "mit.model.set(hasISO)\n",
    "mit.generate_kernels(regenerate=True)"
   ]
  },
  {
   "cell_type": "code",
   "execution_count": 28,
   "metadata": {},
   "outputs": [
    {
     "name": "stdout",
     "output_type": "stream",
     "text": [
      "\n",
      "-> Resampling LUT for subject \"results_script1\":\n",
      "\t* Keeping all b0 volume(s)... [ OK ]\n",
      "\t* Normalizing... [ OK ]\n",
      "   [ 0.2 seconds ]\n",
      "\n",
      "-> Loading the dictionary:\n",
      "\t* segments from the tracts... [ 102746 fibers and 5464173 segments ]\n",
      "\t* segments from the peaks...  [ 0 segments ]\n",
      "\t* isotropic contributions...  [ 3582 voxels ]\n",
      "\t* post-processing...          [ OK ]\n",
      "   [ 2.3 seconds ]\n",
      "\n",
      "-> Distributing workload to different threads:\n",
      "\t* number of threads : 1\n",
      "\t* A operator...  [ OK ]\n",
      "\t* A' operator... [ OK ]\n",
      "   [ 0.0 seconds ]\n"
     ]
    }
   ],
   "source": [
    "mit.load_kernels()\n",
    "mit.load_dictionary(path_commit)\n",
    "mit.set_threads(1)"
   ]
  },
  {
   "cell_type": "code",
   "execution_count": 29,
   "metadata": {},
   "outputs": [
    {
     "name": "stdout",
     "output_type": "stream",
     "text": [
      "\n",
      "-> Building linear operator A:\n",
      "   [ 5.1 seconds ]\n"
     ]
    }
   ],
   "source": [
    "mit.build_operator()"
   ]
  },
  {
   "cell_type": "code",
   "execution_count": 30,
   "metadata": {},
   "outputs": [
    {
     "name": "stdout",
     "output_type": "stream",
     "text": [
      "\n",
      "-> Fit model\n",
      "\n",
      "      |     ||Ax-y||     |  Cost function    Abs error      Rel error    |     Abs x          Rel x\n",
      "------|------------------|-----------------------------------------------|------------------------------\n",
      "   1  |   3.4057632e+03  |  5.7996116e+06  4.2942021e+07  7.4042925e+00  |  1.9823562e+02  1.1248671e+00\n",
      "   2  |   2.2902986e+03  |  2.6227338e+06  3.1768778e+06  1.2112849e+00  |  4.9833596e+01  3.6499296e-01\n",
      "   3  |   1.5499421e+03  |  1.2011603e+06  1.4215735e+06  1.1835002e+00  |  3.7426819e+01  3.5016715e-01\n",
      "   4  |   1.0626775e+03  |  5.6464178e+05  6.3651854e+05  1.1272962e+00  |  2.8019690e+01  3.2921080e-01\n",
      "   5  |   7.4293468e+02  |  2.7597597e+05  2.8866581e+05  1.0459817e+00  |  2.0952910e+01  3.0264295e-01\n",
      "   6  |   5.3347823e+02  |  1.4229951e+05  1.3367646e+05  9.3940207e-01  |  1.5722831e+01  2.7300409e-01\n",
      "   7  |   3.9526895e+02  |  7.8118769e+04  6.4180743e+04  8.2157904e-01  |  1.1888037e+01  2.4296485e-01\n",
      "   8  |   3.0257238e+02  |  4.5775023e+04  3.2343747e+04  7.0658068e-01  |  9.1269400e+00  2.1565763e-01\n",
      "   9  |   2.3788959e+02  |  2.8295728e+04  1.7479295e+04  6.1773620e-01  |  7.1943599e+00  1.9367995e-01\n",
      "  10  |   1.9121948e+02  |  1.8282444e+04  1.0013284e+04  5.4769941e-01  |  5.7830769e+00  1.7522817e-01\n",
      "  11  |   1.5669747e+02  |  1.2277049e+04  6.0053952e+03  4.8915626e-01  |  4.7250605e+00  1.5949234e-01\n",
      "  12  |   1.3051973e+02  |  8.5176996e+03  3.7593491e+03  4.4135732e-01  |  3.9288588e+00  1.4645530e-01\n",
      "  13  |   1.1033061e+02  |  6.0864220e+03  2.4312777e+03  3.9945927e-01  |  3.3098911e+00  1.3524126e-01\n",
      "  14  |   9.4525743e+01  |  4.4675581e+03  1.6188639e+03  3.6235990e-01  |  2.8205011e+00  1.2550288e-01\n",
      "  15  |   8.2029350e+01  |  3.3644072e+03  1.1031509e+03  3.2788865e-01  |  2.4227526e+00  1.1674085e-01\n",
      "  16  |   7.1977657e+01  |  2.5903915e+03  7.7401560e+02  2.9880255e-01  |  2.1011241e+00  1.0910632e-01\n",
      "  17  |   6.3785015e+01  |  2.0342640e+03  5.5612750e+02  2.7338020e-01  |  1.8354922e+00  1.0228909e-01\n",
      "  18  |   5.7016423e+01  |  1.6254363e+03  4.0882778e+02  2.5151880e-01  |  1.6157040e+00  9.6286734e-02\n",
      "  19  |   5.1343957e+01  |  1.3181010e+03  3.0733529e+02  2.3316521e-01  |  1.4382512e+00  9.1374135e-02\n",
      "  20  |   4.6530385e+01  |  1.0825384e+03  2.3556262e+02  2.1760210e-01  |  1.2915464e+00  8.7234501e-02\n",
      "  21  |   4.2414363e+01  |  8.9948907e+02  1.8304928e+02  2.0350362e-01  |  1.1679099e+00  8.3655314e-02\n",
      "  22  |   3.8868285e+01  |  7.5537181e+02  1.4411727e+02  1.9078984e-01  |  1.0626375e+00  8.0532079e-02\n",
      "  23  |   3.5809002e+01  |  6.4114233e+02  1.1422948e+02  1.7816555e-01  |  9.6820225e-01  7.7464682e-02\n",
      "  24  |   3.3158989e+01  |  5.4975928e+02  9.1383048e+01  1.6622375e-01  |  8.8802612e-01  7.4857093e-02\n",
      "  25  |   3.0853758e+01  |  4.7597719e+02  7.3782092e+01  1.5501182e-01  |  8.1440768e-01  7.2189703e-02\n",
      "  26  |   2.8852090e+01  |  4.1622154e+02  5.9755649e+01  1.4356693e-01  |  7.4784105e-01  6.9578730e-02\n",
      "  27  |   2.7093835e+01  |  3.6703795e+02  4.9183586e+01  1.3400136e-01  |  6.9308353e-01  6.7567073e-02\n",
      "  28  |   2.5542927e+01  |  3.2622055e+02  4.0817405e+01  1.2512211e-01  |  6.4383753e-01  6.5655624e-02\n",
      "  29  |   2.4184896e+01  |  2.9245461e+02  3.3765940e+01  1.1545703e-01  |  5.9720072e-01  6.3598267e-02\n",
      "  30  |   2.2985050e+01  |  2.6415625e+02  2.8298355e+01  1.0712733e-01  |  5.5859931e-01  6.2023012e-02\n",
      "  31  |   2.1932186e+01  |  2.4051040e+02  2.3645852e+01  9.8315298e-02  |  5.2119474e-01  6.0239881e-02\n",
      "  32  |   2.1010664e+01  |  2.2072401e+02  1.9786392e+01  8.9643133e-02  |  4.8638003e-01  5.8426799e-02\n",
      "  33  |   2.0206030e+01  |  2.0414183e+02  1.6582181e+01  8.1228729e-02  |  4.5351759e-01  5.6535651e-02\n",
      "  34  |   1.9500672e+01  |  1.9013811e+02  1.4003720e+01  7.3650254e-02  |  4.2305789e-01  5.4649681e-02\n",
      "  35  |   1.8879033e+01  |  1.7820894e+02  1.1929170e+01  6.6939236e-02  |  3.9450399e-01  5.2734771e-02\n",
      "  36  |   1.8332135e+01  |  1.6803359e+02  1.0175346e+01  6.0555428e-02  |  3.6942451e-01  5.1033853e-02\n",
      "  37  |   1.7847248e+01  |  1.5926214e+02  8.7714571e+00  5.5075596e-02  |  3.4739400e-01  4.9533000e-02\n",
      "  38  |   1.7416545e+01  |  1.5166801e+02  7.5941241e+00  5.0070704e-02  |  3.2753958e-01  4.8144237e-02\n",
      "  39  |   1.7031802e+01  |  1.4504114e+02  6.6268679e+00  4.5689573e-02  |  3.0925559e-01  4.6804943e-02\n",
      "  40  |   1.6690026e+01  |  1.3927848e+02  5.7626639e+00  4.1375121e-02  |  2.8978532e-01  4.5107390e-02\n",
      "  41  |   1.6387212e+01  |  1.3427037e+02  5.0081129e+00  3.7298721e-02  |  2.7238520e-01  4.3559820e-02\n",
      "  42  |   1.6114796e+01  |  1.2984333e+02  4.4270395e+00  3.4095241e-02  |  2.5875144e-01  4.2468925e-02\n",
      "  43  |   1.5868274e+01  |  1.2590107e+02  3.9422606e+00  3.1312369e-02  |  2.4580780e-01  4.1365209e-02\n",
      "  44  |   1.5644524e+01  |  1.2237556e+02  3.5255064e+00  2.8808909e-02  |  2.3321918e-01  4.0200512e-02\n",
      "  45  |   1.5442154e+01  |  1.1923006e+02  3.1454987e+00  2.6381759e-02  |  2.2107211e-01  3.8995842e-02\n",
      "  46  |   1.5258242e+01  |  1.1640697e+02  2.8230892e+00  2.4251891e-02  |  2.1028530e-01  3.7924194e-02\n",
      "  47  |   1.5091273e+01  |  1.1387325e+02  2.5337182e+00  2.2250336e-02  |  2.0003789e-01  3.6852107e-02\n",
      "  48  |   1.4938867e+01  |  1.1158488e+02  2.2883743e+00  2.0507924e-02  |  1.9110404e-01  3.5932975e-02\n",
      "  49  |   1.4797498e+01  |  1.0948298e+02  2.1019000e+00  1.9198418e-02  |  1.8496212e-01  3.5466197e-02\n",
      "  50  |   1.4666486e+01  |  1.0755291e+02  1.9300692e+00  1.7945299e-02  |  1.7861149e-01  3.4896452e-02\n",
      "  51  |   1.4545339e+01  |  1.0578345e+02  1.7694608e+00  1.6727198e-02  |  1.7224974e-01  3.4261162e-02\n",
      "  52  |   1.4433149e+01  |  1.0415790e+02  1.6255547e+00  1.5606639e-02  |  1.6590748e-01  3.3567219e-02\n",
      "  53  |   1.4328503e+01  |  1.0265300e+02  1.5048954e+00  1.4660024e-02  |  1.6073120e-01  3.3051498e-02\n",
      "  54  |   1.4231801e+01  |  1.0127208e+02  1.3809177e+00  1.3635720e-02  |  1.5540963e-01  3.2452367e-02\n",
      "  55  |   1.4141922e+01  |  9.9996973e+01  1.2751088e+00  1.2751474e-02  |  1.5077858e-01  3.1946563e-02\n",
      "  56  |   1.4058515e+01  |  9.8820919e+01  1.1760546e+00  1.1900867e-02  |  1.4600172e-01  3.1361679e-02\n",
      "  57  |   1.3981252e+01  |  9.7737710e+01  1.0832090e+00  1.1082815e-02  |  1.4087395e-01  3.0653234e-02\n",
      "  58  |   1.3909731e+01  |  9.6740311e+01  9.9739865e-01  1.0310062e-02  |  1.3630570e-01  3.0020634e-02\n",
      "  59  |   1.3843684e+01  |  9.5823791e+01  9.1651947e-01  9.5646337e-03  |  1.3183539e-01  2.9367186e-02\n",
      "  60  |   1.3782360e+01  |  9.4976721e+01  8.4707073e-01  8.9187195e-03  |  1.2720791e-01  2.8638077e-02\n",
      "  61  |   1.3725340e+01  |  9.4192478e+01  7.8424320e-01  8.3259643e-03  |  1.2337970e-01  2.8051701e-02\n",
      "  62  |   1.3672496e+01  |  9.3468577e+01  7.2390045e-01  7.7448536e-03  |  1.1960529e-01  2.7444008e-02\n",
      "  63  |   1.3623113e+01  |  9.2794604e+01  6.7397276e-01  7.2630598e-03  |  1.1600992e-01  2.6846106e-02\n",
      "  64  |   1.3576875e+01  |  9.2165765e+01  6.2883977e-01  6.8229215e-03  |  1.1242946e-01  2.6222579e-02\n",
      "  65  |   1.3533204e+01  |  9.1573799e+01  5.9196541e-01  6.4643535e-03  |  1.0986043e-01  2.5809292e-02\n",
      "  66  |   1.3492373e+01  |  9.1022059e+01  5.5174033e-01  6.0616112e-03  |  1.0619375e-01  2.5113860e-02\n",
      "  67  |   1.3454005e+01  |  9.0505129e+01  5.1692940e-01  5.7116033e-03  |  1.0353001e-01  2.4632715e-02\n",
      "  68  |   1.3417981e+01  |  9.0021102e+01  4.8402738e-01  5.3768213e-03  |  1.0055062e-01  2.4056082e-02\n",
      "  69  |   1.3384196e+01  |  8.9568354e+01  4.5274768e-01  5.0547728e-03  |  9.7685267e-02  2.3487600e-02\n",
      "  70  |   1.3352326e+01  |  8.9142303e+01  4.2605142e-01  4.7794527e-03  |  9.5271541e-02  2.3010657e-02\n",
      "  71  |   1.3322115e+01  |  8.8739371e+01  4.0293161e-01  4.5406183e-03  |  9.3133754e-02  2.2585271e-02\n",
      "  72  |   1.3293476e+01  |  8.8358249e+01  3.8112181e-01  4.3133698e-03  |  9.0966528e-02  2.2138943e-02\n",
      "  73  |   1.3266393e+01  |  8.7998594e+01  3.5965583e-01  4.0870634e-03  |  8.8816711e-02  2.1684088e-02\n",
      "  74  |   1.3240918e+01  |  8.7660957e+01  3.3763699e-01  3.8516233e-03  |  8.6633975e-02  2.1209425e-02\n",
      "  75  |   1.3217060e+01  |  8.7345334e+01  3.1562306e-01  3.6135079e-03  |  8.3749486e-02  2.0551842e-02\n",
      "  76  |   1.3194481e+01  |  8.7047168e+01  2.9816515e-01  3.4253286e-03  |  8.1480898e-02  2.0035384e-02\n"
     ]
    },
    {
     "name": "stdout",
     "output_type": "stream",
     "text": [
      "  77  |   1.3173062e+01  |  8.6764777e+01  2.8239185e-01  3.2546830e-03  |  7.9533410e-02  1.9589347e-02\n",
      "  78  |   1.3152677e+01  |  8.6496460e+01  2.6831692e-01  3.1020566e-03  |  7.7793814e-02  1.9187020e-02\n",
      "  79  |   1.3133362e+01  |  8.6242597e+01  2.5386247e-01  2.9435856e-03  |  7.6047458e-02  1.8776335e-02\n",
      "  80  |   1.3114921e+01  |  8.6000581e+01  2.4201637e-01  2.8141248e-03  |  7.4821075e-02  1.8488113e-02\n",
      "  81  |   1.3097186e+01  |  8.5768137e+01  2.3244392e-01  2.7101431e-03  |  7.3533464e-02  1.8179459e-02\n",
      "  82  |   1.3080088e+01  |  8.5544355e+01  2.2378165e-01  2.6159721e-03  |  7.2358763e-02  1.7893904e-02\n",
      "  83  |   1.3063528e+01  |  8.5327882e+01  2.1647316e-01  2.5369569e-03  |  7.1242842e-02  1.7618508e-02\n",
      "  84  |   1.3047582e+01  |  8.5119702e+01  2.0817969e-01  2.4457286e-03  |  7.0047996e-02  1.7319627e-02\n",
      "  85  |   1.3032471e+01  |  8.4922647e+01  1.9705587e-01  2.3204160e-03  |  6.8215901e-02  1.6859721e-02\n",
      "  86  |   1.3018150e+01  |  8.4736117e+01  1.8652984e-01  2.2013027e-03  |  6.6553447e-02  1.6438858e-02\n",
      "  87  |   1.3004504e+01  |  8.4558559e+01  1.7755781e-01  2.0998206e-03  |  6.5308821e-02  1.6118698e-02\n",
      "  88  |   1.2991325e+01  |  8.4387268e+01  1.7129086e-01  2.0298188e-03  |  6.4186231e-02  1.5826447e-02\n",
      "  89  |   1.2978558e+01  |  8.4221485e+01  1.6578276e-01  1.9684142e-03  |  6.3230311e-02  1.5573322e-02\n",
      "  90  |   1.2966153e+01  |  8.4060563e+01  1.6092269e-01  1.9143661e-03  |  6.2595040e-02  1.5397302e-02\n",
      "  91  |   1.2954089e+01  |  8.3904208e+01  1.5635470e-01  1.8634906e-03  |  6.1834155e-02  1.5188645e-02\n",
      "  92  |   1.2942300e+01  |  8.3751567e+01  1.5264128e-01  1.8225483e-03  |  6.1038251e-02  1.4969892e-02\n",
      "  93  |   1.2930818e+01  |  8.3603021e+01  1.4854584e-01  1.7768000e-03  |  6.0097105e-02  1.4714276e-02\n",
      "  94  |   1.2919856e+01  |  8.3461346e+01  1.4167497e-01  1.6974920e-03  |  5.8945108e-02  1.4406149e-02\n",
      "  95  |   1.2909201e+01  |  8.3323737e+01  1.3760906e-01  1.6514989e-03  |  5.8219108e-02  1.4201362e-02\n",
      "  96  |   1.2898837e+01  |  8.3189999e+01  1.3373757e-01  1.6076159e-03  |  5.7663064e-02  1.4037128e-02\n",
      "  97  |   1.2888742e+01  |  8.3059835e+01  1.3016445e-01  1.5671166e-03  |  5.6918656e-02  1.3826260e-02\n",
      "  98  |   1.2878975e+01  |  8.2933995e+01  1.2584019e-01  1.5173536e-03  |  5.5789739e-02  1.3521653e-02\n",
      "  99  |   1.2869642e+01  |  8.2813841e+01  1.2015353e-01  1.4508870e-03  |  5.4811994e-02  1.3253637e-02\n",
      " 100  |   1.2860562e+01  |  8.2697025e+01  1.1681572e-01  1.4125746e-03  |  5.4358744e-02  1.3112154e-02\n",
      " 101  |   1.2851723e+01  |  8.2583387e+01  1.1363827e-01  1.3760428e-03  |  5.3763323e-02  1.2935943e-02\n",
      " 102  |   1.2843103e+01  |  8.2472654e+01  1.1073350e-01  1.3426693e-03  |  5.3238055e-02  1.2776303e-02\n",
      " 103  |   1.2834687e+01  |  8.2364593e+01  1.0806072e-01  1.3119803e-03  |  5.2761673e-02  1.2628085e-02\n",
      " 104  |   1.2826528e+01  |  8.2259912e+01  1.0468068e-01  1.2725600e-03  |  5.2025332e-02  1.2417547e-02\n",
      " 105  |   1.2818613e+01  |  8.2158425e+01  1.0148699e-01  1.2352597e-03  |  5.1369883e-02  1.2226423e-02\n",
      " 106  |   1.2811085e+01  |  8.2061947e+01  9.6478210e-02  1.1756754e-03  |  5.0511405e-02  1.1987257e-02\n",
      " 107  |   1.2803823e+01  |  8.1968947e+01  9.3000178e-02  1.1345782e-03  |  4.9934458e-02  1.1815223e-02\n",
      " 108  |   1.2796884e+01  |  8.1880117e+01  8.8829411e-02  1.0848716e-03  |  4.9261156e-02  1.1620669e-02\n",
      " 109  |   1.2790164e+01  |  8.1794151e+01  8.5966444e-02  1.0510097e-03  |  4.8508389e-02  1.1407859e-02\n",
      " 110  |   1.2783667e+01  |  8.1711074e+01  8.3076811e-02  1.0167142e-03  |  4.7831823e-02  1.1213552e-02\n",
      " 111  |   1.2777316e+01  |  8.1629896e+01  8.1177881e-02  9.9446262e-04  |  4.7513453e-02  1.1103549e-02\n",
      "< Stopping criterion: Relative tolerance on the objective >\n",
      "   [ 00h 00m 17s ]\n"
     ]
    }
   ],
   "source": [
    "mit.fit(max_iter = 100000000)\n",
    "## mit.fit(tol_fun = 1e-7, max_iter = 100000000)"
   ]
  },
  {
   "cell_type": "code",
   "execution_count": 31,
   "metadata": {
    "scrolled": true
   },
   "outputs": [
    {
     "name": "stdout",
     "output_type": "stream",
     "text": [
      "\n",
      "-> Saving results to \"Results_VolumeFractions/*\":\n",
      "\t* configuration and results:\n",
      "\t\t- pickle...  [ OK ]\n",
      "\t\t- txt...  [ OK ]\n",
      "\t* fitting errors:\n",
      "\t\t- RMSE...  [ 0.072 +/- 0.201 ]\n",
      "\t\t- NRMSE... [ 0.019 +/- 0.118 ]\n",
      "\t* voxelwise contributions:\n",
      "\t\t- intra-axonal [ OK ]\n",
      "\t\t- extra-axonal [ OK ]\n",
      "\t\t- isotropic    [ OK ]\n",
      "   [ 1.1 seconds ]\n"
     ]
    }
   ],
   "source": [
    "mit.save_results(save_coeff=True)"
   ]
  },
  {
   "cell_type": "code",
   "execution_count": 32,
   "metadata": {},
   "outputs": [],
   "source": [
    "trk_file = os.path.join(path_commit,'dictionary_TRK_fibers.trk')\n",
    "fib_tmp,trk_hdr_tmp=nib.trackvis.read(trk_file)"
   ]
  },
  {
   "cell_type": "markdown",
   "metadata": {},
   "source": [
    "## generate tractography after applying COMMIT with weight > 0, and get fib_after,hdr_after"
   ]
  },
  {
   "cell_type": "code",
   "execution_count": 33,
   "metadata": {},
   "outputs": [],
   "source": [
    "f = open('/home/zhiwei/Desktop/semester-projects/results_script1/COMMIT/Results_VolumeFractions/xic.txt')\n"
   ]
  },
  {
   "cell_type": "code",
   "execution_count": 34,
   "metadata": {},
   "outputs": [],
   "source": [
    "data = f.read().splitlines()\n",
    "data = map(eval,data)\n",
    "j=0\n",
    "for items in range(len(fib_tmp)-1,-1,-1):\n",
    "    if data[j] == 0:\n",
    "        del fib_tmp[items]\n",
    "    j=j+1\n",
    "nib.trackvis.write('fibers_after.trk',fib_tmp,trk_hdr_tmp)"
   ]
  },
  {
   "cell_type": "code",
   "execution_count": 35,
   "metadata": {},
   "outputs": [],
   "source": [
    "fib_after,hdr_after=nib.trackvis.read('/home/zhiwei/Desktop/semester-projects/results_script1/fibers_after.trk')"
   ]
  },
  {
   "cell_type": "code",
   "execution_count": 36,
   "metadata": {},
   "outputs": [
    {
     "data": {
      "text/plain": [
       "0"
      ]
     },
     "execution_count": 36,
     "metadata": {},
     "output_type": "execute_result"
    }
   ],
   "source": [
    "CMD = 'TractConverter.py -i fibers_after.trk -o fibers_after.tck -a fsltensor_ftrial_FA.nii.gz'\n",
    "subprocess.call(CMD,shell = True)"
   ]
  },
  {
   "cell_type": "code",
   "execution_count": 37,
   "metadata": {},
   "outputs": [
    {
     "data": {
      "text/plain": [
       "0"
      ]
     },
     "execution_count": 37,
     "metadata": {},
     "output_type": "execute_result"
    }
   ],
   "source": [
    "CMD='tckmap fibers_after.tck syn_CLARITY_after.nii.gz -vox 0.015'\n",
    "subprocess.call(CMD, shell = True)"
   ]
  },
  {
   "cell_type": "markdown",
   "metadata": {},
   "source": [
    "## downsample fibers(before/after) to the original one, take mean distance and std as measurement"
   ]
  },
  {
   "cell_type": "markdown",
   "metadata": {},
   "source": [
    "## downsample the fibers and get tracks_before, tracks_after, tracks_original"
   ]
  },
  {
   "cell_type": "code",
   "execution_count": 38,
   "metadata": {},
   "outputs": [],
   "source": [
    "from dipy.tracking.metrics import downsample\n",
    "import random\n",
    "tracks_after = [downsample(fib_after[i][0],7) for i in range(len(fib_after))]\n",
    "tracks_original = [downsample(fib_original[i][0],7) for i in range(len(fib_original))]\n",
    "## generate a random list to get equal number of fibers from fib before COMMIT\n",
    "list = range(len(fib_before))\n",
    "slice1 = random.sample(list, len(fib_after))\n",
    "tracks_before1 = [downsample(fib_before[i][0],7) for i in slice1]"
   ]
  },
  {
   "cell_type": "code",
   "execution_count": 39,
   "metadata": {},
   "outputs": [],
   "source": [
    "from dipy.segment.bundles import bundles_distances_mdf\n",
    "DM_before1 = bundles_distances_mdf(tracks_before1, tracks_original)\n",
    "minD_before1 = [min(DM_before1[i,:]) for i in range(len(DM_before1))]\n",
    "DM_after = bundles_distances_mdf(tracks_after, tracks_original)\n",
    "minD_after = [min(DM_after[i,:]) for i in range(len(DM_after))]"
   ]
  },
  {
   "cell_type": "markdown",
   "metadata": {},
   "source": [
    "## compare tracks_after and tracks_before with tracks_original with mean distance and STD"
   ]
  },
  {
   "cell_type": "code",
   "execution_count": 40,
   "metadata": {},
   "outputs": [],
   "source": [
    "meanD_before= np.mean(minD_before1)\n",
    "stdD_before= np.std(minD_before1)\n",
    "\n",
    "meanD_after= np.mean(minD_after)\n",
    "stdD_after= np.std(minD_after)"
   ]
  },
  {
   "cell_type": "code",
   "execution_count": 41,
   "metadata": {},
   "outputs": [
    {
     "data": {
      "text/plain": [
       "0.19444568598397008"
      ]
     },
     "execution_count": 41,
     "metadata": {},
     "output_type": "execute_result"
    }
   ],
   "source": [
    "meanD_after"
   ]
  },
  {
   "cell_type": "code",
   "execution_count": 42,
   "metadata": {},
   "outputs": [
    {
     "data": {
      "text/plain": [
       "0.1945705805421867"
      ]
     },
     "execution_count": 42,
     "metadata": {},
     "output_type": "execute_result"
    }
   ],
   "source": [
    "meanD_before"
   ]
  },
  {
   "cell_type": "markdown",
   "metadata": {},
   "source": []
  },
  {
   "cell_type": "markdown",
   "metadata": {},
   "source": [
    "## Compare on a voxel level"
   ]
  },
  {
   "cell_type": "markdown",
   "metadata": {},
   "source": [
    "original resolution -- 0.015mm"
   ]
  },
  {
   "cell_type": "code",
   "execution_count": 43,
   "metadata": {},
   "outputs": [],
   "source": [
    "for items in range(len(fib_before)-1,-1,-1):\n",
    "    if items not in slice1:\n",
    "        del fib_before[items]\n",
    "    j=j+1\n",
    "nib.trackvis.write('fibers_before.trk',fib_before,hdr_before)"
   ]
  },
  {
   "cell_type": "code",
   "execution_count": 44,
   "metadata": {},
   "outputs": [],
   "source": [
    "fib_before,hdr_before=nib.trackvis.read('/home/zhiwei/Desktop/semester-projects/results_script1/fibers_before.trk')"
   ]
  },
  {
   "cell_type": "code",
   "execution_count": 45,
   "metadata": {},
   "outputs": [
    {
     "data": {
      "text/plain": [
       "0"
      ]
     },
     "execution_count": 45,
     "metadata": {},
     "output_type": "execute_result"
    }
   ],
   "source": [
    "CMD = 'TractConverter.py -i fibers_before.trk -o fibers_before.tck -a fsltensor_ftrial_FA.nii.gz'\n",
    "subprocess.call(CMD,shell = True)"
   ]
  },
  {
   "cell_type": "code",
   "execution_count": 46,
   "metadata": {},
   "outputs": [
    {
     "data": {
      "text/plain": [
       "0"
      ]
     },
     "execution_count": 46,
     "metadata": {},
     "output_type": "execute_result"
    }
   ],
   "source": [
    "CMD='tckmap fibers_before.tck syn_CLARITY_random.nii.gz -vox 0.015' \n",
    "subprocess.call(CMD, shell = True)"
   ]
  },
  {
   "cell_type": "code",
   "execution_count": 47,
   "metadata": {},
   "outputs": [],
   "source": [
    "data_original = nib.load('syn_CLARITY.nii.gz')\n",
    "data_before = nib.load('syn_CLARITY_random.nii.gz')\n",
    "data_after = nib.load('syn_CLARITY_after.nii.gz')\n",
    "original = data_original.get_fdata()\n",
    "random = data_before.get_fdata()\n",
    "after = data_after.get_fdata()\n",
    "\n",
    "## normalization\n",
    "sum_original = sum(sum(sum(data_original.get_fdata())))\n",
    "sum_before = sum(sum(sum(data_before.get_fdata())))\n",
    "sum_after = sum(sum(sum(data_after.get_fdata())))\n",
    "volume_original = data_original.get_fdata()/sum_original\n",
    "volume_before = data_before.get_fdata()/sum_before\n",
    "volume_after = data_after.get_fdata()/sum_after"
   ]
  },
  {
   "cell_type": "markdown",
   "metadata": {},
   "source": [
    "## correlation measure to conduct grey level matching"
   ]
  },
  {
   "cell_type": "code",
   "execution_count": 71,
   "metadata": {},
   "outputs": [],
   "source": [
    "sum_original = sum(sum(sum(data_original.get_fdata())))\n",
    "sum_before = sum(sum(sum(data_before.get_fdata())))\n",
    "sum_after = sum(sum(sum(data_after.get_fdata())))"
   ]
  },
  {
   "cell_type": "code",
   "execution_count": 72,
   "metadata": {},
   "outputs": [],
   "source": [
    "center_original = (original-sum_original/(191*178*39)).flatten()\n",
    "center_before = (random - sum_before/(191*178*39)).flatten()\n",
    "center_after = (after - sum_after/(191*178*39)).flatten()"
   ]
  },
  {
   "cell_type": "code",
   "execution_count": 73,
   "metadata": {},
   "outputs": [],
   "source": [
    "module_original = np.sqrt(np.dot(center_original,center_original))\n",
    "module_before = np.sqrt(np.dot(center_before,center_before))\n",
    "module_after = np.sqrt(np.dot(center_after,center_after))"
   ]
  },
  {
   "cell_type": "code",
   "execution_count": 74,
   "metadata": {},
   "outputs": [],
   "source": [
    "random_coef = np.dot(center_original.flatten(),center_before.flatten())/(module_original*module_before)\n",
    "COMMIT_coef = np.dot(center_original.flatten(),center_after.flatten())/(module_original*module_after)"
   ]
  },
  {
   "cell_type": "code",
   "execution_count": 75,
   "metadata": {},
   "outputs": [
    {
     "name": "stdout",
     "output_type": "stream",
     "text": [
      "0.07088778655363923\n",
      "0.07072043871692317\n"
     ]
    }
   ],
   "source": [
    "print(random_coef)\n",
    "print(COMMIT_coef)"
   ]
  },
  {
   "cell_type": "code",
   "execution_count": null,
   "metadata": {},
   "outputs": [],
   "source": [
    "square_error_before = compClarity(volume_before, volume_original)\n",
    "square_error_after = compClarity(volume_after, volume_original)"
   ]
  },
  {
   "cell_type": "markdown",
   "metadata": {},
   "source": [
    "## change the resolution here"
   ]
  },
  {
   "cell_type": "markdown",
   "metadata": {},
   "source": [
    "resolution based on mean distance after COMMIT"
   ]
  },
  {
   "cell_type": "markdown",
   "metadata": {
    "scrolled": true
   },
   "source": [
    "CMD='tckmap origin0.015.tck syn_CLARITY_COMMIT_res.nii.gz -vox 0.195' \n",
    "subprocess.call(CMD, shell = True)"
   ]
  },
  {
   "cell_type": "markdown",
   "metadata": {},
   "source": [
    "CMD='tckmap fibers_after.tck syn_CLARITY_after_COMMIT_res.nii.gz -vox 0.195'\n",
    "subprocess.call(CMD, shell = True)"
   ]
  },
  {
   "cell_type": "markdown",
   "metadata": {},
   "source": [
    "CMD='tckmap fibers_before.tck syn_CLARITY_random_COMMIT_res.nii.gz -vox 0.195'\n",
    "subprocess.call(CMD, shell = True)"
   ]
  },
  {
   "cell_type": "markdown",
   "metadata": {},
   "source": [
    "data_original_COMMIT_res = nib.load('syn_CLARITY_COMMIT_res.nii.gz')\n",
    "data_before_COMMIT_res = nib.load('syn_CLARITY_random_COMMIT_res.nii.gz')\n",
    "data_after_COMMIT_res = nib.load('syn_CLARITY_after_COMMIT_res.nii.gz')\n",
    "## normalization\n",
    "sum_original_COMMIT_res = sum(sum(sum(data_original_COMMIT_res.get_fdata())))\n",
    "sum_before_COMMIT_res = sum(sum(sum(data_before_COMMIT_res.get_fdata())))\n",
    "sum_after_COMMIT_res = sum(sum(sum(data_after_COMMIT_res.get_fdata())))\n",
    "volume_original_COMMIT_res = data_original_COMMIT_res.get_fdata()/sum_original_COMMIT_res\n",
    "volume_before_COMMIT_res = data_before_COMMIT_res.get_fdata()/sum_before_COMMIT_res\n",
    "volume_after_COMMIT_res = data_after_COMMIT_res.get_fdata()/sum_after_COMMIT_res"
   ]
  },
  {
   "cell_type": "markdown",
   "metadata": {},
   "source": [
    "square_error_before_COMMIT_res = compClarity(volume_before_COMMIT_res, volume_original_COMMIT_res)\n",
    "square_error_after_COMMIT_res = compClarity(volume_after_COMMIT_res, volume_original_COMMIT_res)"
   ]
  },
  {
   "cell_type": "markdown",
   "metadata": {},
   "source": [
    "## Compare on a voxel level - binary"
   ]
  },
  {
   "cell_type": "markdown",
   "metadata": {},
   "source": [
    "original resolution -- 0.015mm"
   ]
  },
  {
   "cell_type": "code",
   "execution_count": null,
   "metadata": {},
   "outputs": [],
   "source": [
    "def binarize(volume):\n",
    "    volume_prime = np.zeros([len(volume),len(volume[1]),len(volume[1][1])])\n",
    "    for x in range(len(volume)):\n",
    "        for y in range(len(volume[1])):\n",
    "            for z in range(len(volume[1][1])):\n",
    "                if volume[x,y,z]!=0:\n",
    "                    volume_prime[x,y,z]=1\n",
    "    return volume_prime"
   ]
  },
  {
   "cell_type": "code",
   "execution_count": null,
   "metadata": {},
   "outputs": [],
   "source": [
    "Volume_Original = binarize(volume_original)\n",
    "Volume_Before = binarize(volume_before)\n",
    "Volume_After = binarize(volume_after)\n",
    "error_before = compClarity(Volume_Before, Volume_Original)\n",
    "error_after = compClarity(Volume_After, Volume_Original)"
   ]
  },
  {
   "cell_type": "markdown",
   "metadata": {},
   "source": [
    "\n",
    "## change the resolution here"
   ]
  },
  {
   "cell_type": "markdown",
   "metadata": {},
   "source": [
    "COMMIT resolution 0.186"
   ]
  },
  {
   "cell_type": "markdown",
   "metadata": {},
   "source": [
    "Volume_Original_COMMIT_res = binarize(volume_original_COMMIT_res)\n",
    "Volume_Before_COMMIT_res = binarize(volume_before_COMMIT_res)\n",
    "Volume_After_COMMIT_res = binarize(volume_after_COMMIT_res)\n",
    "error_before_COMMIT_res = compClarity(Volume_Before_COMMIT_res, Volume_Original_COMMIT_res)\n",
    "error_after_COMMIT_res = compClarity(Volume_After_COMMIT_res, Volume_Original_COMMIT_res)"
   ]
  },
  {
   "cell_type": "markdown",
   "metadata": {},
   "source": [
    "## save results"
   ]
  },
  {
   "cell_type": "code",
   "execution_count": null,
   "metadata": {},
   "outputs": [],
   "source": [
    "cd .."
   ]
  },
  {
   "cell_type": "code",
   "execution_count": null,
   "metadata": {},
   "outputs": [],
   "source": [
    "f = open('87.txt','a')  \n",
    "f.write('group: Nboffibers_before: ' + str(number))\n",
    "f.write('         Nboffibers_after: ' + str(len(fib_after)))\n",
    "f.write('\\n\\n')\n",
    "f.close()\n",
    "\n",
    "f = open('87_TRACT_random_mean.txt','a')  \n",
    "f.write(str(meanD_before)+', ')\n",
    "f.close()\n",
    "\n",
    "f = open('87_TRACT_random_std.txt','a') \n",
    "f.write(str(stdD_before)+', ')\n",
    "f.close()\n",
    "\n",
    "\n",
    "f = open('87_TRACT_COMMIT_mean.txt','a')\n",
    "f.write(str(meanD_after)+', ')\n",
    "f.close()\n",
    "\n",
    "f = open('87_TRACT_COMMIT_std.txt','a')\n",
    "f.write(str(stdD_after)+', ')\n",
    "f.close()"
   ]
  },
  {
   "cell_type": "code",
   "execution_count": null,
   "metadata": {},
   "outputs": [],
   "source": [
    "f = open('87_VOXEL_B_random.txt','a')\n",
    "f.write(str(error_before)+', ')\n",
    "f.close()\n",
    "\n",
    "f = open('87_VOXEL_B_COMMIT.txt','a')\n",
    "f.write(str(error_after)+', ')\n",
    "f.close()"
   ]
  },
  {
   "cell_type": "code",
   "execution_count": null,
   "metadata": {},
   "outputs": [],
   "source": [
    "f = open('87_VOXEL_NB_random.txt','a')\n",
    "f.write(str(square_error_before)+', ')\n",
    "f.close()\n",
    "\n",
    "f = open('87_VOXEL_NB_COMMIT.txt','a')\n",
    "f.write(str(square_error_after)+', ')\n",
    "f.close()"
   ]
  },
  {
   "cell_type": "code",
   "execution_count": null,
   "metadata": {},
   "outputs": [],
   "source": [
    "f = open('87_VOXEL_NB_random.txt','a')\n",
    "f.write(str(random_coef)+', ')\n",
    "f.close()\n",
    "\n",
    "f = open('87_VOXEL_NB_COMMIT.txt','a')\n",
    "f.write(str(COMMIT_coef)+', ')\n",
    "f.close()"
   ]
  },
  {
   "cell_type": "markdown",
   "metadata": {},
   "source": [
    "f = open('meanD_std3000.txt','a')\n",
    "f.write('\\n')\n",
    "f.write('compare tractography on a voxel level_COMMIT_res - BINARIZATION:')\n",
    "f.write('\\nerror random: ' + str(error_before_COMMIT_res))\n",
    "f.write('\\nerror COMMIT: ' + str(error_after_COMMIT_res)) \n",
    "f.write('\\n\\n')\n",
    "f.close()"
   ]
  },
  {
   "cell_type": "markdown",
   "metadata": {},
   "source": [
    "f = open('meanD_std3000.txt','a')\n",
    "f.write('\\n')\n",
    "f.write('compare tractography on a voxel level_COMMIT_res- non-BINARIZATION:')\n",
    "f.write('\\nsquare error random: ' + str(square_error_before_COMMIT_res))\n",
    "f.write('\\nsquare error COMMIT: ' + str(square_error_after_COMMIT_res)) \n",
    "f.write('\\n\\n\\n\\n\\n')\n",
    "f.close()"
   ]
  },
  {
   "cell_type": "code",
   "execution_count": null,
   "metadata": {},
   "outputs": [],
   "source": [
    "os.rename('results_script1','%d'%order)"
   ]
  },
  {
   "cell_type": "code",
   "execution_count": null,
   "metadata": {},
   "outputs": [],
   "source": []
  },
  {
   "cell_type": "code",
   "execution_count": null,
   "metadata": {},
   "outputs": [],
   "source": []
  },
  {
   "cell_type": "code",
   "execution_count": null,
   "metadata": {},
   "outputs": [],
   "source": []
  },
  {
   "cell_type": "code",
   "execution_count": null,
   "metadata": {},
   "outputs": [],
   "source": []
  },
  {
   "cell_type": "code",
   "execution_count": null,
   "metadata": {},
   "outputs": [],
   "source": []
  },
  {
   "cell_type": "code",
   "execution_count": null,
   "metadata": {},
   "outputs": [],
   "source": []
  },
  {
   "cell_type": "code",
   "execution_count": null,
   "metadata": {},
   "outputs": [],
   "source": []
  },
  {
   "cell_type": "code",
   "execution_count": null,
   "metadata": {},
   "outputs": [],
   "source": []
  },
  {
   "cell_type": "code",
   "execution_count": null,
   "metadata": {},
   "outputs": [],
   "source": []
  },
  {
   "cell_type": "code",
   "execution_count": null,
   "metadata": {},
   "outputs": [],
   "source": []
  },
  {
   "cell_type": "code",
   "execution_count": null,
   "metadata": {},
   "outputs": [],
   "source": []
  }
 ],
 "metadata": {
  "kernelspec": {
   "display_name": "Python 2",
   "language": "python",
   "name": "python2"
  },
  "language_info": {
   "codemirror_mode": {
    "name": "ipython",
    "version": 2
   },
   "file_extension": ".py",
   "mimetype": "text/x-python",
   "name": "python",
   "nbconvert_exporter": "python",
   "pygments_lexer": "ipython2",
   "version": "2.7.15"
  }
 },
 "nbformat": 4,
 "nbformat_minor": 2
}
